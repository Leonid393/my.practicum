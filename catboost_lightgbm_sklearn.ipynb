{
  "cells": [
    {
      "cell_type": "markdown",
      "metadata": {
        "id": "view-in-github",
        "colab_type": "text"
      },
      "source": [
        "<a href=\"https://colab.research.google.com/github/Leonid393/projects/blob/main/catboost_lightgbm_sklearn.ipynb\" target=\"_parent\"><img src=\"https://colab.research.google.com/assets/colab-badge.svg\" alt=\"Open In Colab\"/></a>"
      ]
    },
    {
      "cell_type": "markdown",
      "metadata": {
        "id": "t3fVimcNFH5y"
      },
      "source": [
        "# Цель работы\n",
        "\n",
        "Чтобы оптимизировать производственные расходы, металлургический комбинат ООО «Так закаляем сталь» решил уменьшить потребление электроэнергии на этапе обработки стали. Вам предстоит построить модель, которая предскажет температуру стали."
      ]
    },
    {
      "cell_type": "markdown",
      "metadata": {
        "id": "QsnRky53FH5y"
      },
      "source": [
        "# Описание этапа обработки\n",
        "\n",
        "Сталь обрабатывают в металлическом ковше вместимостью около 100 тонн. Чтобы ковш выдерживал высокие температуры, изнутри его облицовывают огнеупорным кирпичом. Расплавленную сталь заливают в ковш и подогревают до нужной температуры графитовыми электродами. Они установлены в крышке ковша. \n",
        "\n",
        "Из сплава выводится сера (десульфурация), добавлением примесей корректируется химический состав и отбираются пробы. Сталь легируют — изменяют её состав — подавая куски сплава из бункера для сыпучих материалов или проволоку через специальный трайб-аппарат (англ. tribe, «масса»).\n",
        "\n",
        "Перед тем как первый раз ввести легирующие добавки, измеряют температуру стали и производят её химический анализ. Потом температуру на несколько минут повышают, добавляют легирующие материалы и продувают сплав инертным газом. Затем его перемешивают и снова проводят измерения. Такой цикл повторяется до достижения целевого химического состава и оптимальной температуры плавки.\n",
        "\n",
        "Тогда расплавленная сталь отправляется на доводку металла или поступает в машину непрерывной разливки. Оттуда готовый продукт выходит в виде заготовок-слябов (англ. *slab*, «плита»)."
      ]
    },
    {
      "cell_type": "markdown",
      "metadata": {
        "id": "jpKc71--FH5z"
      },
      "source": [
        "## Исследовательский анализ данных"
      ]
    },
    {
      "cell_type": "markdown",
      "metadata": {
        "id": "H3ALbNosFH5z"
      },
      "source": [
        "Описание данных\n",
        "\n",
        "Данные состоят из файлов, полученных из разных источников:\n",
        "\n",
        "- `data_arc.csv` — данные об электродах;\n",
        "- `data_bulk.csv` — данные о подаче сыпучих материалов (объём);\n",
        "- `data_bulk_time.csv` *—* данные о подаче сыпучих материалов (время);\n",
        "- `data_gas.csv` — данные о продувке сплава газом;\n",
        "- `data_temp.csv` — результаты измерения температуры;\n",
        "- `data_wire.csv` — данные о проволочных материалах (объём);\n",
        "- `data_wire_time.csv` — данные о проволочных материалах (время).\n",
        "\n",
        "Во всех файлах столбец `key` содержит номер партии. В файлах может быть несколько строк с одинаковым значением `key`: они соответствуют разным итерациям обработки."
      ]
    },
    {
      "cell_type": "code",
      "execution_count": null,
      "metadata": {
        "id": "aXSQkjNHFH50"
      },
      "outputs": [],
      "source": [
        "import pandas as pd\n",
        "import numpy as np\n",
        "import matplotlib.pyplot as plt\n",
        "import seaborn as sns\n",
        "\n",
        "from sklearn.tree import DecisionTreeRegressor\n",
        "from sklearn.ensemble import RandomForestRegressor\n",
        "from sklearn.linear_model import LinearRegression\n",
        "from catboost import CatBoostRegressor\n",
        "from lightgbm import LGBMRegressor\n",
        "\n",
        "from sklearn.preprocessing import StandardScaler\n",
        "from sklearn.model_selection import train_test_split\n",
        "from sklearn.metrics import mean_absolute_error"
      ]
    },
    {
      "cell_type": "code",
      "execution_count": null,
      "metadata": {
        "id": "6GR50GRUFH52"
      },
      "outputs": [],
      "source": [
        "data_arc = pd.read_csv('/datasets/final_steel/data_arc.csv')\n",
        "data_bulk = pd.read_csv('/datasets/final_steel/data_bulk.csv')\n",
        "data_bulk_time = pd.read_csv('/datasets/final_steel/data_bulk_time.csv')\n",
        "data_gas = pd.read_csv('/datasets/final_steel/data_gas.csv')\n",
        "data_temp = pd.read_csv('/datasets/final_steel/data_temp.csv')\n",
        "data_wire = pd.read_csv('/datasets/final_steel/data_wire.csv')\n",
        "data_wire_time = pd.read_csv('/datasets/final_steel/data_wire_time.csv')"
      ]
    },
    {
      "cell_type": "code",
      "execution_count": null,
      "metadata": {
        "id": "V-plWxUfFH52",
        "outputId": "44860b71-0883-4318-d28d-ab93879eb4b1"
      },
      "outputs": [
        {
          "name": "stdout",
          "output_type": "stream",
          "text": [
            "<class 'pandas.core.frame.DataFrame'>\n",
            "RangeIndex: 14876 entries, 0 to 14875\n",
            "Data columns (total 5 columns):\n",
            "key                     14876 non-null int64\n",
            "Начало нагрева дугой    14876 non-null object\n",
            "Конец нагрева дугой     14876 non-null object\n",
            "Активная мощность       14876 non-null float64\n",
            "Реактивная мощность     14876 non-null float64\n",
            "dtypes: float64(2), int64(1), object(2)\n",
            "memory usage: 581.2+ KB\n"
          ]
        },
        {
          "data": {
            "text/html": [
              "<div>\n",
              "<style scoped>\n",
              "    .dataframe tbody tr th:only-of-type {\n",
              "        vertical-align: middle;\n",
              "    }\n",
              "\n",
              "    .dataframe tbody tr th {\n",
              "        vertical-align: top;\n",
              "    }\n",
              "\n",
              "    .dataframe thead th {\n",
              "        text-align: right;\n",
              "    }\n",
              "</style>\n",
              "<table border=\"1\" class=\"dataframe\">\n",
              "  <thead>\n",
              "    <tr style=\"text-align: right;\">\n",
              "      <th></th>\n",
              "      <th>key</th>\n",
              "      <th>Начало нагрева дугой</th>\n",
              "      <th>Конец нагрева дугой</th>\n",
              "      <th>Активная мощность</th>\n",
              "      <th>Реактивная мощность</th>\n",
              "    </tr>\n",
              "  </thead>\n",
              "  <tbody>\n",
              "    <tr>\n",
              "      <td>0</td>\n",
              "      <td>1</td>\n",
              "      <td>2019-05-03 11:02:14</td>\n",
              "      <td>2019-05-03 11:06:02</td>\n",
              "      <td>0.976059</td>\n",
              "      <td>0.687084</td>\n",
              "    </tr>\n",
              "    <tr>\n",
              "      <td>1</td>\n",
              "      <td>1</td>\n",
              "      <td>2019-05-03 11:07:28</td>\n",
              "      <td>2019-05-03 11:10:33</td>\n",
              "      <td>0.805607</td>\n",
              "      <td>0.520285</td>\n",
              "    </tr>\n",
              "    <tr>\n",
              "      <td>2</td>\n",
              "      <td>1</td>\n",
              "      <td>2019-05-03 11:11:44</td>\n",
              "      <td>2019-05-03 11:14:36</td>\n",
              "      <td>0.744363</td>\n",
              "      <td>0.498805</td>\n",
              "    </tr>\n",
              "    <tr>\n",
              "      <td>3</td>\n",
              "      <td>1</td>\n",
              "      <td>2019-05-03 11:18:14</td>\n",
              "      <td>2019-05-03 11:24:19</td>\n",
              "      <td>1.659363</td>\n",
              "      <td>1.062669</td>\n",
              "    </tr>\n",
              "    <tr>\n",
              "      <td>4</td>\n",
              "      <td>1</td>\n",
              "      <td>2019-05-03 11:26:09</td>\n",
              "      <td>2019-05-03 11:28:37</td>\n",
              "      <td>0.692755</td>\n",
              "      <td>0.414397</td>\n",
              "    </tr>\n",
              "    <tr>\n",
              "      <td>5</td>\n",
              "      <td>2</td>\n",
              "      <td>2019-05-03 11:34:14</td>\n",
              "      <td>2019-05-03 11:36:31</td>\n",
              "      <td>0.438063</td>\n",
              "      <td>0.283043</td>\n",
              "    </tr>\n",
              "    <tr>\n",
              "      <td>6</td>\n",
              "      <td>2</td>\n",
              "      <td>2019-05-03 11:38:50</td>\n",
              "      <td>2019-05-03 11:44:28</td>\n",
              "      <td>1.296415</td>\n",
              "      <td>0.892914</td>\n",
              "    </tr>\n",
              "    <tr>\n",
              "      <td>7</td>\n",
              "      <td>2</td>\n",
              "      <td>2019-05-03 11:46:19</td>\n",
              "      <td>2019-05-03 11:48:25</td>\n",
              "      <td>0.490377</td>\n",
              "      <td>0.305281</td>\n",
              "    </tr>\n",
              "    <tr>\n",
              "      <td>8</td>\n",
              "      <td>2</td>\n",
              "      <td>2019-05-03 11:49:48</td>\n",
              "      <td>2019-05-03 11:53:18</td>\n",
              "      <td>0.827743</td>\n",
              "      <td>0.516874</td>\n",
              "    </tr>\n",
              "    <tr>\n",
              "      <td>9</td>\n",
              "      <td>3</td>\n",
              "      <td>2019-05-03 12:06:54</td>\n",
              "      <td>2019-05-03 12:11:34</td>\n",
              "      <td>1.062053</td>\n",
              "      <td>0.671494</td>\n",
              "    </tr>\n",
              "  </tbody>\n",
              "</table>\n",
              "</div>"
            ],
            "text/plain": [
              "   key Начало нагрева дугой  Конец нагрева дугой  Активная мощность  \\\n",
              "0    1  2019-05-03 11:02:14  2019-05-03 11:06:02           0.976059   \n",
              "1    1  2019-05-03 11:07:28  2019-05-03 11:10:33           0.805607   \n",
              "2    1  2019-05-03 11:11:44  2019-05-03 11:14:36           0.744363   \n",
              "3    1  2019-05-03 11:18:14  2019-05-03 11:24:19           1.659363   \n",
              "4    1  2019-05-03 11:26:09  2019-05-03 11:28:37           0.692755   \n",
              "5    2  2019-05-03 11:34:14  2019-05-03 11:36:31           0.438063   \n",
              "6    2  2019-05-03 11:38:50  2019-05-03 11:44:28           1.296415   \n",
              "7    2  2019-05-03 11:46:19  2019-05-03 11:48:25           0.490377   \n",
              "8    2  2019-05-03 11:49:48  2019-05-03 11:53:18           0.827743   \n",
              "9    3  2019-05-03 12:06:54  2019-05-03 12:11:34           1.062053   \n",
              "\n",
              "   Реактивная мощность  \n",
              "0             0.687084  \n",
              "1             0.520285  \n",
              "2             0.498805  \n",
              "3             1.062669  \n",
              "4             0.414397  \n",
              "5             0.283043  \n",
              "6             0.892914  \n",
              "7             0.305281  \n",
              "8             0.516874  \n",
              "9             0.671494  "
            ]
          },
          "execution_count": 3,
          "metadata": {},
          "output_type": "execute_result"
        }
      ],
      "source": [
        "data_arc.info()\n",
        "data_arc.head(10)"
      ]
    },
    {
      "cell_type": "code",
      "execution_count": null,
      "metadata": {
        "id": "-mT_lM8AFH54"
      },
      "outputs": [],
      "source": [
        "#для начала изабвимся от кириллического обозначения столбцов и неверного формата даты\n",
        "data_arc.columns= ['key', 'arc_heat_start', 'arc_heat_end', 'active_power', 'reactive_power']\n",
        "data_arc['arc_heat_start'] = pd.to_datetime(data_arc['arc_heat_start'], format=\"%Y-%m-%d %H:%M:%S\")\n",
        "data_arc['arc_heat_end'] = pd.to_datetime(data_arc['arc_heat_end'], format=\"%Y-%m-%d %H:%M:%S\")"
      ]
    },
    {
      "cell_type": "code",
      "execution_count": null,
      "metadata": {
        "id": "yusqIJARFH54",
        "outputId": "cc593272-ba7e-49ad-a765-803981b86732"
      },
      "outputs": [
        {
          "data": {
            "text/html": [
              "<div>\n",
              "<style scoped>\n",
              "    .dataframe tbody tr th:only-of-type {\n",
              "        vertical-align: middle;\n",
              "    }\n",
              "\n",
              "    .dataframe tbody tr th {\n",
              "        vertical-align: top;\n",
              "    }\n",
              "\n",
              "    .dataframe thead th {\n",
              "        text-align: right;\n",
              "    }\n",
              "</style>\n",
              "<table border=\"1\" class=\"dataframe\">\n",
              "  <thead>\n",
              "    <tr style=\"text-align: right;\">\n",
              "      <th></th>\n",
              "      <th>key</th>\n",
              "      <th>active_power</th>\n",
              "      <th>reactive_power</th>\n",
              "    </tr>\n",
              "  </thead>\n",
              "  <tbody>\n",
              "    <tr>\n",
              "      <td>count</td>\n",
              "      <td>14876.000000</td>\n",
              "      <td>14876.000000</td>\n",
              "      <td>14876.000000</td>\n",
              "    </tr>\n",
              "    <tr>\n",
              "      <td>mean</td>\n",
              "      <td>1615.220422</td>\n",
              "      <td>0.670441</td>\n",
              "      <td>0.452592</td>\n",
              "    </tr>\n",
              "    <tr>\n",
              "      <td>std</td>\n",
              "      <td>934.571502</td>\n",
              "      <td>0.408159</td>\n",
              "      <td>5.878702</td>\n",
              "    </tr>\n",
              "    <tr>\n",
              "      <td>min</td>\n",
              "      <td>1.000000</td>\n",
              "      <td>0.030002</td>\n",
              "      <td>-715.504924</td>\n",
              "    </tr>\n",
              "    <tr>\n",
              "      <td>25%</td>\n",
              "      <td>806.000000</td>\n",
              "      <td>0.395297</td>\n",
              "      <td>0.290991</td>\n",
              "    </tr>\n",
              "    <tr>\n",
              "      <td>50%</td>\n",
              "      <td>1617.000000</td>\n",
              "      <td>0.555517</td>\n",
              "      <td>0.415962</td>\n",
              "    </tr>\n",
              "    <tr>\n",
              "      <td>75%</td>\n",
              "      <td>2429.000000</td>\n",
              "      <td>0.857034</td>\n",
              "      <td>0.637371</td>\n",
              "    </tr>\n",
              "    <tr>\n",
              "      <td>max</td>\n",
              "      <td>3241.000000</td>\n",
              "      <td>3.731596</td>\n",
              "      <td>2.676388</td>\n",
              "    </tr>\n",
              "  </tbody>\n",
              "</table>\n",
              "</div>"
            ],
            "text/plain": [
              "                key  active_power  reactive_power\n",
              "count  14876.000000  14876.000000    14876.000000\n",
              "mean    1615.220422      0.670441        0.452592\n",
              "std      934.571502      0.408159        5.878702\n",
              "min        1.000000      0.030002     -715.504924\n",
              "25%      806.000000      0.395297        0.290991\n",
              "50%     1617.000000      0.555517        0.415962\n",
              "75%     2429.000000      0.857034        0.637371\n",
              "max     3241.000000      3.731596        2.676388"
            ]
          },
          "execution_count": 5,
          "metadata": {},
          "output_type": "execute_result"
        }
      ],
      "source": [
        "data_arc.describe()"
      ]
    },
    {
      "cell_type": "markdown",
      "metadata": {
        "id": "pwG8lM25FH56"
      },
      "source": [
        "Отрицательное значение реактивной мощности - янвый выброс. Сохраню список партий с недоставерными данными."
      ]
    },
    {
      "cell_type": "code",
      "execution_count": null,
      "metadata": {
        "id": "1Vtr6LjRFH56"
      },
      "outputs": [],
      "source": [
        "data_arc_query = data_arc.query(\"reactive_power < 0\")\n",
        "bad_key_arc = data_arc_query['key'].unique()"
      ]
    },
    {
      "cell_type": "code",
      "execution_count": null,
      "metadata": {
        "id": "0Jj9POV-FH57",
        "outputId": "a7762794-6cc6-4fbd-bc15-6012cf33bee7"
      },
      "outputs": [
        {
          "name": "stdout",
          "output_type": "stream",
          "text": [
            "%-ое соотношение замеров в которых реактивная мощность больше активной - 7%\n"
          ]
        }
      ],
      "source": [
        "power_coef = data_arc.query(\"key != 2116\").copy()\n",
        "\n",
        "power_coef['coef'] = power_coef['active_power'] / power_coef['reactive_power']\n",
        "\n",
        "print('%-ое соотношение замеров в которых реактивная мощность больше активной - {:.0%}'\n",
        "          .format(len(power_coef.query(\"coef < 1\").key.unique())/len(data_arc['key'].unique())))\n",
        "\n",
        "coef_key = power_coef.query(\"coef < 1\").key.unique()"
      ]
    },
    {
      "cell_type": "code",
      "execution_count": null,
      "metadata": {
        "id": "Vja4WJCPFH57"
      },
      "outputs": [],
      "source": [
        "bad_key = np.concatenate((bad_key_arc, coef_key))"
      ]
    },
    {
      "cell_type": "code",
      "execution_count": null,
      "metadata": {
        "id": "fBeRBI54FH58",
        "outputId": "fe71729f-65e7-42da-b223-4b0e47c209db"
      },
      "outputs": [
        {
          "name": "stdout",
          "output_type": "stream",
          "text": [
            "<class 'pandas.core.frame.DataFrame'>\n",
            "RangeIndex: 3129 entries, 0 to 3128\n",
            "Data columns (total 16 columns):\n",
            "key        3129 non-null int64\n",
            "Bulk 1     252 non-null float64\n",
            "Bulk 2     22 non-null float64\n",
            "Bulk 3     1298 non-null float64\n",
            "Bulk 4     1014 non-null float64\n",
            "Bulk 5     77 non-null float64\n",
            "Bulk 6     576 non-null float64\n",
            "Bulk 7     25 non-null float64\n",
            "Bulk 8     1 non-null float64\n",
            "Bulk 9     19 non-null float64\n",
            "Bulk 10    176 non-null float64\n",
            "Bulk 11    177 non-null float64\n",
            "Bulk 12    2450 non-null float64\n",
            "Bulk 13    18 non-null float64\n",
            "Bulk 14    2806 non-null float64\n",
            "Bulk 15    2248 non-null float64\n",
            "dtypes: float64(15), int64(1)\n",
            "memory usage: 391.2 KB\n"
          ]
        },
        {
          "data": {
            "text/html": [
              "<div>\n",
              "<style scoped>\n",
              "    .dataframe tbody tr th:only-of-type {\n",
              "        vertical-align: middle;\n",
              "    }\n",
              "\n",
              "    .dataframe tbody tr th {\n",
              "        vertical-align: top;\n",
              "    }\n",
              "\n",
              "    .dataframe thead th {\n",
              "        text-align: right;\n",
              "    }\n",
              "</style>\n",
              "<table border=\"1\" class=\"dataframe\">\n",
              "  <thead>\n",
              "    <tr style=\"text-align: right;\">\n",
              "      <th></th>\n",
              "      <th>key</th>\n",
              "      <th>Bulk 1</th>\n",
              "      <th>Bulk 2</th>\n",
              "      <th>Bulk 3</th>\n",
              "      <th>Bulk 4</th>\n",
              "      <th>Bulk 5</th>\n",
              "      <th>Bulk 6</th>\n",
              "      <th>Bulk 7</th>\n",
              "      <th>Bulk 8</th>\n",
              "      <th>Bulk 9</th>\n",
              "      <th>Bulk 10</th>\n",
              "      <th>Bulk 11</th>\n",
              "      <th>Bulk 12</th>\n",
              "      <th>Bulk 13</th>\n",
              "      <th>Bulk 14</th>\n",
              "      <th>Bulk 15</th>\n",
              "    </tr>\n",
              "  </thead>\n",
              "  <tbody>\n",
              "    <tr>\n",
              "      <td>0</td>\n",
              "      <td>1</td>\n",
              "      <td>NaN</td>\n",
              "      <td>NaN</td>\n",
              "      <td>NaN</td>\n",
              "      <td>43.0</td>\n",
              "      <td>NaN</td>\n",
              "      <td>NaN</td>\n",
              "      <td>NaN</td>\n",
              "      <td>NaN</td>\n",
              "      <td>NaN</td>\n",
              "      <td>NaN</td>\n",
              "      <td>NaN</td>\n",
              "      <td>206.0</td>\n",
              "      <td>NaN</td>\n",
              "      <td>150.0</td>\n",
              "      <td>154.0</td>\n",
              "    </tr>\n",
              "    <tr>\n",
              "      <td>1</td>\n",
              "      <td>2</td>\n",
              "      <td>NaN</td>\n",
              "      <td>NaN</td>\n",
              "      <td>NaN</td>\n",
              "      <td>73.0</td>\n",
              "      <td>NaN</td>\n",
              "      <td>NaN</td>\n",
              "      <td>NaN</td>\n",
              "      <td>NaN</td>\n",
              "      <td>NaN</td>\n",
              "      <td>NaN</td>\n",
              "      <td>NaN</td>\n",
              "      <td>206.0</td>\n",
              "      <td>NaN</td>\n",
              "      <td>149.0</td>\n",
              "      <td>154.0</td>\n",
              "    </tr>\n",
              "    <tr>\n",
              "      <td>2</td>\n",
              "      <td>3</td>\n",
              "      <td>NaN</td>\n",
              "      <td>NaN</td>\n",
              "      <td>NaN</td>\n",
              "      <td>34.0</td>\n",
              "      <td>NaN</td>\n",
              "      <td>NaN</td>\n",
              "      <td>NaN</td>\n",
              "      <td>NaN</td>\n",
              "      <td>NaN</td>\n",
              "      <td>NaN</td>\n",
              "      <td>NaN</td>\n",
              "      <td>205.0</td>\n",
              "      <td>NaN</td>\n",
              "      <td>152.0</td>\n",
              "      <td>153.0</td>\n",
              "    </tr>\n",
              "    <tr>\n",
              "      <td>3</td>\n",
              "      <td>4</td>\n",
              "      <td>NaN</td>\n",
              "      <td>NaN</td>\n",
              "      <td>NaN</td>\n",
              "      <td>81.0</td>\n",
              "      <td>NaN</td>\n",
              "      <td>NaN</td>\n",
              "      <td>NaN</td>\n",
              "      <td>NaN</td>\n",
              "      <td>NaN</td>\n",
              "      <td>NaN</td>\n",
              "      <td>NaN</td>\n",
              "      <td>207.0</td>\n",
              "      <td>NaN</td>\n",
              "      <td>153.0</td>\n",
              "      <td>154.0</td>\n",
              "    </tr>\n",
              "    <tr>\n",
              "      <td>4</td>\n",
              "      <td>5</td>\n",
              "      <td>NaN</td>\n",
              "      <td>NaN</td>\n",
              "      <td>NaN</td>\n",
              "      <td>78.0</td>\n",
              "      <td>NaN</td>\n",
              "      <td>NaN</td>\n",
              "      <td>NaN</td>\n",
              "      <td>NaN</td>\n",
              "      <td>NaN</td>\n",
              "      <td>NaN</td>\n",
              "      <td>NaN</td>\n",
              "      <td>203.0</td>\n",
              "      <td>NaN</td>\n",
              "      <td>151.0</td>\n",
              "      <td>152.0</td>\n",
              "    </tr>\n",
              "  </tbody>\n",
              "</table>\n",
              "</div>"
            ],
            "text/plain": [
              "   key  Bulk 1  Bulk 2  Bulk 3  Bulk 4  Bulk 5  Bulk 6  Bulk 7  Bulk 8  \\\n",
              "0    1     NaN     NaN     NaN    43.0     NaN     NaN     NaN     NaN   \n",
              "1    2     NaN     NaN     NaN    73.0     NaN     NaN     NaN     NaN   \n",
              "2    3     NaN     NaN     NaN    34.0     NaN     NaN     NaN     NaN   \n",
              "3    4     NaN     NaN     NaN    81.0     NaN     NaN     NaN     NaN   \n",
              "4    5     NaN     NaN     NaN    78.0     NaN     NaN     NaN     NaN   \n",
              "\n",
              "   Bulk 9  Bulk 10  Bulk 11  Bulk 12  Bulk 13  Bulk 14  Bulk 15  \n",
              "0     NaN      NaN      NaN    206.0      NaN    150.0    154.0  \n",
              "1     NaN      NaN      NaN    206.0      NaN    149.0    154.0  \n",
              "2     NaN      NaN      NaN    205.0      NaN    152.0    153.0  \n",
              "3     NaN      NaN      NaN    207.0      NaN    153.0    154.0  \n",
              "4     NaN      NaN      NaN    203.0      NaN    151.0    152.0  "
            ]
          },
          "execution_count": 9,
          "metadata": {},
          "output_type": "execute_result"
        }
      ],
      "source": [
        "data_bulk.info()\n",
        "data_bulk.head()"
      ]
    },
    {
      "cell_type": "code",
      "execution_count": null,
      "metadata": {
        "id": "G_rqTf20FH58"
      },
      "outputs": [],
      "source": [
        "#избавимся от пробелов и заглавных букв в столбцах\n",
        "bulk_index = ['key', 'bulk_1','bulk_2','bulk_3','bulk_4','bulk_5','bulk_6','bulk_7','bulk_8','bulk_9','bulk_10','bulk_11','bulk_12','bulk_13','bulk_14','bulk_15',]\n",
        "data_bulk.columns = bulk_index"
      ]
    },
    {
      "cell_type": "code",
      "execution_count": null,
      "metadata": {
        "id": "gMc9SG_HFH58",
        "outputId": "140d06ee-4fd4-489a-e220-6fd494931c70"
      },
      "outputs": [
        {
          "data": {
            "text/html": [
              "<div>\n",
              "<style scoped>\n",
              "    .dataframe tbody tr th:only-of-type {\n",
              "        vertical-align: middle;\n",
              "    }\n",
              "\n",
              "    .dataframe tbody tr th {\n",
              "        vertical-align: top;\n",
              "    }\n",
              "\n",
              "    .dataframe thead th {\n",
              "        text-align: right;\n",
              "    }\n",
              "</style>\n",
              "<table border=\"1\" class=\"dataframe\">\n",
              "  <thead>\n",
              "    <tr style=\"text-align: right;\">\n",
              "      <th></th>\n",
              "      <th>key</th>\n",
              "      <th>bulk_1</th>\n",
              "      <th>bulk_2</th>\n",
              "      <th>bulk_3</th>\n",
              "      <th>bulk_4</th>\n",
              "      <th>bulk_5</th>\n",
              "      <th>bulk_6</th>\n",
              "      <th>bulk_7</th>\n",
              "      <th>bulk_8</th>\n",
              "      <th>bulk_9</th>\n",
              "      <th>bulk_10</th>\n",
              "      <th>bulk_11</th>\n",
              "      <th>bulk_12</th>\n",
              "      <th>bulk_13</th>\n",
              "      <th>bulk_14</th>\n",
              "      <th>bulk_15</th>\n",
              "    </tr>\n",
              "  </thead>\n",
              "  <tbody>\n",
              "    <tr>\n",
              "      <td>count</td>\n",
              "      <td>3129.000000</td>\n",
              "      <td>252.000000</td>\n",
              "      <td>22.000000</td>\n",
              "      <td>1298.000000</td>\n",
              "      <td>1014.000000</td>\n",
              "      <td>77.000000</td>\n",
              "      <td>576.000000</td>\n",
              "      <td>25.000000</td>\n",
              "      <td>1.0</td>\n",
              "      <td>19.000000</td>\n",
              "      <td>176.000000</td>\n",
              "      <td>177.000000</td>\n",
              "      <td>2450.000000</td>\n",
              "      <td>18.000000</td>\n",
              "      <td>2806.000000</td>\n",
              "      <td>2248.000000</td>\n",
              "    </tr>\n",
              "    <tr>\n",
              "      <td>mean</td>\n",
              "      <td>1624.383509</td>\n",
              "      <td>39.242063</td>\n",
              "      <td>253.045455</td>\n",
              "      <td>113.879045</td>\n",
              "      <td>104.394477</td>\n",
              "      <td>107.025974</td>\n",
              "      <td>118.925347</td>\n",
              "      <td>305.600000</td>\n",
              "      <td>49.0</td>\n",
              "      <td>76.315789</td>\n",
              "      <td>83.284091</td>\n",
              "      <td>76.819209</td>\n",
              "      <td>260.471020</td>\n",
              "      <td>181.111111</td>\n",
              "      <td>170.284747</td>\n",
              "      <td>160.513345</td>\n",
              "    </tr>\n",
              "    <tr>\n",
              "      <td>std</td>\n",
              "      <td>933.337642</td>\n",
              "      <td>18.277654</td>\n",
              "      <td>21.180578</td>\n",
              "      <td>75.483494</td>\n",
              "      <td>48.184126</td>\n",
              "      <td>81.790646</td>\n",
              "      <td>72.057776</td>\n",
              "      <td>191.022904</td>\n",
              "      <td>NaN</td>\n",
              "      <td>21.720581</td>\n",
              "      <td>26.060347</td>\n",
              "      <td>59.655365</td>\n",
              "      <td>120.649269</td>\n",
              "      <td>46.088009</td>\n",
              "      <td>65.868652</td>\n",
              "      <td>51.765319</td>\n",
              "    </tr>\n",
              "    <tr>\n",
              "      <td>min</td>\n",
              "      <td>1.000000</td>\n",
              "      <td>10.000000</td>\n",
              "      <td>228.000000</td>\n",
              "      <td>6.000000</td>\n",
              "      <td>12.000000</td>\n",
              "      <td>11.000000</td>\n",
              "      <td>17.000000</td>\n",
              "      <td>47.000000</td>\n",
              "      <td>49.0</td>\n",
              "      <td>63.000000</td>\n",
              "      <td>24.000000</td>\n",
              "      <td>8.000000</td>\n",
              "      <td>53.000000</td>\n",
              "      <td>151.000000</td>\n",
              "      <td>16.000000</td>\n",
              "      <td>1.000000</td>\n",
              "    </tr>\n",
              "    <tr>\n",
              "      <td>25%</td>\n",
              "      <td>816.000000</td>\n",
              "      <td>27.000000</td>\n",
              "      <td>242.000000</td>\n",
              "      <td>58.000000</td>\n",
              "      <td>72.000000</td>\n",
              "      <td>70.000000</td>\n",
              "      <td>69.750000</td>\n",
              "      <td>155.000000</td>\n",
              "      <td>49.0</td>\n",
              "      <td>66.000000</td>\n",
              "      <td>64.000000</td>\n",
              "      <td>25.000000</td>\n",
              "      <td>204.000000</td>\n",
              "      <td>153.250000</td>\n",
              "      <td>119.000000</td>\n",
              "      <td>105.000000</td>\n",
              "    </tr>\n",
              "    <tr>\n",
              "      <td>50%</td>\n",
              "      <td>1622.000000</td>\n",
              "      <td>31.000000</td>\n",
              "      <td>251.500000</td>\n",
              "      <td>97.500000</td>\n",
              "      <td>102.000000</td>\n",
              "      <td>86.000000</td>\n",
              "      <td>100.000000</td>\n",
              "      <td>298.000000</td>\n",
              "      <td>49.0</td>\n",
              "      <td>68.000000</td>\n",
              "      <td>86.500000</td>\n",
              "      <td>64.000000</td>\n",
              "      <td>208.000000</td>\n",
              "      <td>155.500000</td>\n",
              "      <td>151.000000</td>\n",
              "      <td>160.000000</td>\n",
              "    </tr>\n",
              "    <tr>\n",
              "      <td>75%</td>\n",
              "      <td>2431.000000</td>\n",
              "      <td>46.000000</td>\n",
              "      <td>257.750000</td>\n",
              "      <td>152.000000</td>\n",
              "      <td>133.000000</td>\n",
              "      <td>132.000000</td>\n",
              "      <td>157.000000</td>\n",
              "      <td>406.000000</td>\n",
              "      <td>49.0</td>\n",
              "      <td>70.500000</td>\n",
              "      <td>102.000000</td>\n",
              "      <td>106.000000</td>\n",
              "      <td>316.000000</td>\n",
              "      <td>203.500000</td>\n",
              "      <td>205.750000</td>\n",
              "      <td>205.000000</td>\n",
              "    </tr>\n",
              "    <tr>\n",
              "      <td>max</td>\n",
              "      <td>3241.000000</td>\n",
              "      <td>185.000000</td>\n",
              "      <td>325.000000</td>\n",
              "      <td>454.000000</td>\n",
              "      <td>281.000000</td>\n",
              "      <td>603.000000</td>\n",
              "      <td>503.000000</td>\n",
              "      <td>772.000000</td>\n",
              "      <td>49.0</td>\n",
              "      <td>147.000000</td>\n",
              "      <td>159.000000</td>\n",
              "      <td>313.000000</td>\n",
              "      <td>1849.000000</td>\n",
              "      <td>305.000000</td>\n",
              "      <td>636.000000</td>\n",
              "      <td>405.000000</td>\n",
              "    </tr>\n",
              "  </tbody>\n",
              "</table>\n",
              "</div>"
            ],
            "text/plain": [
              "               key      bulk_1      bulk_2       bulk_3       bulk_4  \\\n",
              "count  3129.000000  252.000000   22.000000  1298.000000  1014.000000   \n",
              "mean   1624.383509   39.242063  253.045455   113.879045   104.394477   \n",
              "std     933.337642   18.277654   21.180578    75.483494    48.184126   \n",
              "min       1.000000   10.000000  228.000000     6.000000    12.000000   \n",
              "25%     816.000000   27.000000  242.000000    58.000000    72.000000   \n",
              "50%    1622.000000   31.000000  251.500000    97.500000   102.000000   \n",
              "75%    2431.000000   46.000000  257.750000   152.000000   133.000000   \n",
              "max    3241.000000  185.000000  325.000000   454.000000   281.000000   \n",
              "\n",
              "           bulk_5      bulk_6      bulk_7  bulk_8      bulk_9     bulk_10  \\\n",
              "count   77.000000  576.000000   25.000000     1.0   19.000000  176.000000   \n",
              "mean   107.025974  118.925347  305.600000    49.0   76.315789   83.284091   \n",
              "std     81.790646   72.057776  191.022904     NaN   21.720581   26.060347   \n",
              "min     11.000000   17.000000   47.000000    49.0   63.000000   24.000000   \n",
              "25%     70.000000   69.750000  155.000000    49.0   66.000000   64.000000   \n",
              "50%     86.000000  100.000000  298.000000    49.0   68.000000   86.500000   \n",
              "75%    132.000000  157.000000  406.000000    49.0   70.500000  102.000000   \n",
              "max    603.000000  503.000000  772.000000    49.0  147.000000  159.000000   \n",
              "\n",
              "          bulk_11      bulk_12     bulk_13      bulk_14      bulk_15  \n",
              "count  177.000000  2450.000000   18.000000  2806.000000  2248.000000  \n",
              "mean    76.819209   260.471020  181.111111   170.284747   160.513345  \n",
              "std     59.655365   120.649269   46.088009    65.868652    51.765319  \n",
              "min      8.000000    53.000000  151.000000    16.000000     1.000000  \n",
              "25%     25.000000   204.000000  153.250000   119.000000   105.000000  \n",
              "50%     64.000000   208.000000  155.500000   151.000000   160.000000  \n",
              "75%    106.000000   316.000000  203.500000   205.750000   205.000000  \n",
              "max    313.000000  1849.000000  305.000000   636.000000   405.000000  "
            ]
          },
          "execution_count": 11,
          "metadata": {},
          "output_type": "execute_result"
        }
      ],
      "source": [
        "data_bulk.describe()"
      ]
    },
    {
      "cell_type": "code",
      "execution_count": null,
      "metadata": {
        "id": "hs99amXjFH59"
      },
      "outputs": [],
      "source": [
        "data_bulk = data_bulk.fillna(0)\n",
        "data_bulk = data_bulk.astype('int')"
      ]
    },
    {
      "cell_type": "markdown",
      "metadata": {
        "id": "cPAyxGMxFH59"
      },
      "source": [
        "Данные по подаче сыпучих материалов, NaN - не подавали материалы. Заполняю на нулевые значения и меняю тип данных "
      ]
    },
    {
      "cell_type": "code",
      "execution_count": null,
      "metadata": {
        "id": "FKyQNcxCFH5-",
        "outputId": "d6747597-1864-4a64-b19e-cea9ef5af3ec"
      },
      "outputs": [
        {
          "name": "stdout",
          "output_type": "stream",
          "text": [
            "<class 'pandas.core.frame.DataFrame'>\n",
            "RangeIndex: 3129 entries, 0 to 3128\n",
            "Data columns (total 16 columns):\n",
            "key        3129 non-null int64\n",
            "Bulk 1     252 non-null object\n",
            "Bulk 2     22 non-null object\n",
            "Bulk 3     1298 non-null object\n",
            "Bulk 4     1014 non-null object\n",
            "Bulk 5     77 non-null object\n",
            "Bulk 6     576 non-null object\n",
            "Bulk 7     25 non-null object\n",
            "Bulk 8     1 non-null object\n",
            "Bulk 9     19 non-null object\n",
            "Bulk 10    176 non-null object\n",
            "Bulk 11    177 non-null object\n",
            "Bulk 12    2450 non-null object\n",
            "Bulk 13    18 non-null object\n",
            "Bulk 14    2806 non-null object\n",
            "Bulk 15    2248 non-null object\n",
            "dtypes: int64(1), object(15)\n",
            "memory usage: 391.2+ KB\n"
          ]
        },
        {
          "data": {
            "text/html": [
              "<div>\n",
              "<style scoped>\n",
              "    .dataframe tbody tr th:only-of-type {\n",
              "        vertical-align: middle;\n",
              "    }\n",
              "\n",
              "    .dataframe tbody tr th {\n",
              "        vertical-align: top;\n",
              "    }\n",
              "\n",
              "    .dataframe thead th {\n",
              "        text-align: right;\n",
              "    }\n",
              "</style>\n",
              "<table border=\"1\" class=\"dataframe\">\n",
              "  <thead>\n",
              "    <tr style=\"text-align: right;\">\n",
              "      <th></th>\n",
              "      <th>key</th>\n",
              "      <th>Bulk 1</th>\n",
              "      <th>Bulk 2</th>\n",
              "      <th>Bulk 3</th>\n",
              "      <th>Bulk 4</th>\n",
              "      <th>Bulk 5</th>\n",
              "      <th>Bulk 6</th>\n",
              "      <th>Bulk 7</th>\n",
              "      <th>Bulk 8</th>\n",
              "      <th>Bulk 9</th>\n",
              "      <th>Bulk 10</th>\n",
              "      <th>Bulk 11</th>\n",
              "      <th>Bulk 12</th>\n",
              "      <th>Bulk 13</th>\n",
              "      <th>Bulk 14</th>\n",
              "      <th>Bulk 15</th>\n",
              "    </tr>\n",
              "  </thead>\n",
              "  <tbody>\n",
              "    <tr>\n",
              "      <td>0</td>\n",
              "      <td>1</td>\n",
              "      <td>NaN</td>\n",
              "      <td>NaN</td>\n",
              "      <td>NaN</td>\n",
              "      <td>2019-05-03 11:21:30</td>\n",
              "      <td>NaN</td>\n",
              "      <td>NaN</td>\n",
              "      <td>NaN</td>\n",
              "      <td>NaN</td>\n",
              "      <td>NaN</td>\n",
              "      <td>NaN</td>\n",
              "      <td>NaN</td>\n",
              "      <td>2019-05-03 11:03:52</td>\n",
              "      <td>NaN</td>\n",
              "      <td>2019-05-03 11:03:52</td>\n",
              "      <td>2019-05-03 11:03:52</td>\n",
              "    </tr>\n",
              "    <tr>\n",
              "      <td>1</td>\n",
              "      <td>2</td>\n",
              "      <td>NaN</td>\n",
              "      <td>NaN</td>\n",
              "      <td>NaN</td>\n",
              "      <td>2019-05-03 11:46:38</td>\n",
              "      <td>NaN</td>\n",
              "      <td>NaN</td>\n",
              "      <td>NaN</td>\n",
              "      <td>NaN</td>\n",
              "      <td>NaN</td>\n",
              "      <td>NaN</td>\n",
              "      <td>NaN</td>\n",
              "      <td>2019-05-03 11:40:20</td>\n",
              "      <td>NaN</td>\n",
              "      <td>2019-05-03 11:40:20</td>\n",
              "      <td>2019-05-03 11:40:20</td>\n",
              "    </tr>\n",
              "    <tr>\n",
              "      <td>2</td>\n",
              "      <td>3</td>\n",
              "      <td>NaN</td>\n",
              "      <td>NaN</td>\n",
              "      <td>NaN</td>\n",
              "      <td>2019-05-03 12:31:06</td>\n",
              "      <td>NaN</td>\n",
              "      <td>NaN</td>\n",
              "      <td>NaN</td>\n",
              "      <td>NaN</td>\n",
              "      <td>NaN</td>\n",
              "      <td>NaN</td>\n",
              "      <td>NaN</td>\n",
              "      <td>2019-05-03 12:09:40</td>\n",
              "      <td>NaN</td>\n",
              "      <td>2019-05-03 12:09:40</td>\n",
              "      <td>2019-05-03 12:09:40</td>\n",
              "    </tr>\n",
              "    <tr>\n",
              "      <td>3</td>\n",
              "      <td>4</td>\n",
              "      <td>NaN</td>\n",
              "      <td>NaN</td>\n",
              "      <td>NaN</td>\n",
              "      <td>2019-05-03 12:48:43</td>\n",
              "      <td>NaN</td>\n",
              "      <td>NaN</td>\n",
              "      <td>NaN</td>\n",
              "      <td>NaN</td>\n",
              "      <td>NaN</td>\n",
              "      <td>NaN</td>\n",
              "      <td>NaN</td>\n",
              "      <td>2019-05-03 12:41:24</td>\n",
              "      <td>NaN</td>\n",
              "      <td>2019-05-03 12:41:24</td>\n",
              "      <td>2019-05-03 12:41:24</td>\n",
              "    </tr>\n",
              "    <tr>\n",
              "      <td>4</td>\n",
              "      <td>5</td>\n",
              "      <td>NaN</td>\n",
              "      <td>NaN</td>\n",
              "      <td>NaN</td>\n",
              "      <td>2019-05-03 13:18:50</td>\n",
              "      <td>NaN</td>\n",
              "      <td>NaN</td>\n",
              "      <td>NaN</td>\n",
              "      <td>NaN</td>\n",
              "      <td>NaN</td>\n",
              "      <td>NaN</td>\n",
              "      <td>NaN</td>\n",
              "      <td>2019-05-03 13:12:56</td>\n",
              "      <td>NaN</td>\n",
              "      <td>2019-05-03 13:12:56</td>\n",
              "      <td>2019-05-03 13:12:56</td>\n",
              "    </tr>\n",
              "  </tbody>\n",
              "</table>\n",
              "</div>"
            ],
            "text/plain": [
              "   key Bulk 1 Bulk 2 Bulk 3               Bulk 4 Bulk 5 Bulk 6 Bulk 7 Bulk 8  \\\n",
              "0    1    NaN    NaN    NaN  2019-05-03 11:21:30    NaN    NaN    NaN    NaN   \n",
              "1    2    NaN    NaN    NaN  2019-05-03 11:46:38    NaN    NaN    NaN    NaN   \n",
              "2    3    NaN    NaN    NaN  2019-05-03 12:31:06    NaN    NaN    NaN    NaN   \n",
              "3    4    NaN    NaN    NaN  2019-05-03 12:48:43    NaN    NaN    NaN    NaN   \n",
              "4    5    NaN    NaN    NaN  2019-05-03 13:18:50    NaN    NaN    NaN    NaN   \n",
              "\n",
              "  Bulk 9 Bulk 10 Bulk 11              Bulk 12 Bulk 13              Bulk 14  \\\n",
              "0    NaN     NaN     NaN  2019-05-03 11:03:52     NaN  2019-05-03 11:03:52   \n",
              "1    NaN     NaN     NaN  2019-05-03 11:40:20     NaN  2019-05-03 11:40:20   \n",
              "2    NaN     NaN     NaN  2019-05-03 12:09:40     NaN  2019-05-03 12:09:40   \n",
              "3    NaN     NaN     NaN  2019-05-03 12:41:24     NaN  2019-05-03 12:41:24   \n",
              "4    NaN     NaN     NaN  2019-05-03 13:12:56     NaN  2019-05-03 13:12:56   \n",
              "\n",
              "               Bulk 15  \n",
              "0  2019-05-03 11:03:52  \n",
              "1  2019-05-03 11:40:20  \n",
              "2  2019-05-03 12:09:40  \n",
              "3  2019-05-03 12:41:24  \n",
              "4  2019-05-03 13:12:56  "
            ]
          },
          "execution_count": 13,
          "metadata": {},
          "output_type": "execute_result"
        }
      ],
      "source": [
        "data_bulk_time.info()\n",
        "data_bulk_time.head()"
      ]
    },
    {
      "cell_type": "code",
      "execution_count": null,
      "metadata": {
        "id": "4yexnbMfFH5-"
      },
      "outputs": [],
      "source": [
        "data_bulk_time.columns = bulk_index\n",
        "time_cols_list = data_bulk_time.columns[1:16]\n",
        "data_bulk_time[time_cols_list] = data_bulk_time[time_cols_list].apply(lambda x : pd.to_datetime(x, format = \"%Y-%m-%d %H:%M:%S\"))"
      ]
    },
    {
      "cell_type": "code",
      "execution_count": null,
      "metadata": {
        "id": "jU3ff-rcFH5-",
        "outputId": "05ab5a2f-6e7e-4adb-9f3d-3375b468ec09"
      },
      "outputs": [
        {
          "name": "stdout",
          "output_type": "stream",
          "text": [
            "<class 'pandas.core.frame.DataFrame'>\n",
            "RangeIndex: 3239 entries, 0 to 3238\n",
            "Data columns (total 2 columns):\n",
            "key      3239 non-null int64\n",
            "Газ 1    3239 non-null float64\n",
            "dtypes: float64(1), int64(1)\n",
            "memory usage: 50.7 KB\n"
          ]
        },
        {
          "data": {
            "text/html": [
              "<div>\n",
              "<style scoped>\n",
              "    .dataframe tbody tr th:only-of-type {\n",
              "        vertical-align: middle;\n",
              "    }\n",
              "\n",
              "    .dataframe tbody tr th {\n",
              "        vertical-align: top;\n",
              "    }\n",
              "\n",
              "    .dataframe thead th {\n",
              "        text-align: right;\n",
              "    }\n",
              "</style>\n",
              "<table border=\"1\" class=\"dataframe\">\n",
              "  <thead>\n",
              "    <tr style=\"text-align: right;\">\n",
              "      <th></th>\n",
              "      <th>key</th>\n",
              "      <th>Газ 1</th>\n",
              "    </tr>\n",
              "  </thead>\n",
              "  <tbody>\n",
              "    <tr>\n",
              "      <td>0</td>\n",
              "      <td>1</td>\n",
              "      <td>29.749986</td>\n",
              "    </tr>\n",
              "    <tr>\n",
              "      <td>1</td>\n",
              "      <td>2</td>\n",
              "      <td>12.555561</td>\n",
              "    </tr>\n",
              "    <tr>\n",
              "      <td>2</td>\n",
              "      <td>3</td>\n",
              "      <td>28.554793</td>\n",
              "    </tr>\n",
              "    <tr>\n",
              "      <td>3</td>\n",
              "      <td>4</td>\n",
              "      <td>18.841219</td>\n",
              "    </tr>\n",
              "    <tr>\n",
              "      <td>4</td>\n",
              "      <td>5</td>\n",
              "      <td>5.413692</td>\n",
              "    </tr>\n",
              "  </tbody>\n",
              "</table>\n",
              "</div>"
            ],
            "text/plain": [
              "   key      Газ 1\n",
              "0    1  29.749986\n",
              "1    2  12.555561\n",
              "2    3  28.554793\n",
              "3    4  18.841219\n",
              "4    5   5.413692"
            ]
          },
          "execution_count": 15,
          "metadata": {},
          "output_type": "execute_result"
        }
      ],
      "source": [
        "data_gas.info()\n",
        "data_gas.head()"
      ]
    },
    {
      "cell_type": "code",
      "execution_count": null,
      "metadata": {
        "id": "j_RdXdteFH5_"
      },
      "outputs": [],
      "source": [
        "data_gas.columns = ['key','gas_1']"
      ]
    },
    {
      "cell_type": "code",
      "execution_count": null,
      "metadata": {
        "id": "unicrtSXFH5_",
        "outputId": "721a65b2-3868-4997-aa33-67ec34fdb243"
      },
      "outputs": [
        {
          "name": "stdout",
          "output_type": "stream",
          "text": [
            "3239\n"
          ]
        }
      ],
      "source": [
        "print(len(data_gas))"
      ]
    },
    {
      "cell_type": "code",
      "execution_count": null,
      "metadata": {
        "id": "h_o2cCT8FH5_",
        "outputId": "bc9c1824-41bd-4df0-8f6f-727332d307bb"
      },
      "outputs": [
        {
          "data": {
            "text/plain": [
              "<matplotlib.axes._subplots.AxesSubplot at 0x7f8a52255a50>"
            ]
          },
          "execution_count": 18,
          "metadata": {},
          "output_type": "execute_result"
        },
        {
          "data": {
            "image/png": "[encoded data removed]",
            "text/plain": [
              "<Figure size 432x288 with 1 Axes>"
            ]
          },
          "metadata": {
            "needs_background": "light"
          },
          "output_type": "display_data"
        }
      ],
      "source": [
        "data_gas['gas_1'].plot(kind='hist', title='Данные по объему продувки газом')"
      ]
    },
    {
      "cell_type": "code",
      "execution_count": null,
      "metadata": {
        "id": "teGjy1E5FH6A",
        "outputId": "08ac7b03-f765-41b8-820c-bb58db3414f3"
      },
      "outputs": [
        {
          "data": {
            "text/html": [
              "<div>\n",
              "<style scoped>\n",
              "    .dataframe tbody tr th:only-of-type {\n",
              "        vertical-align: middle;\n",
              "    }\n",
              "\n",
              "    .dataframe tbody tr th {\n",
              "        vertical-align: top;\n",
              "    }\n",
              "\n",
              "    .dataframe thead th {\n",
              "        text-align: right;\n",
              "    }\n",
              "</style>\n",
              "<table border=\"1\" class=\"dataframe\">\n",
              "  <thead>\n",
              "    <tr style=\"text-align: right;\">\n",
              "      <th></th>\n",
              "      <th>key</th>\n",
              "      <th>gas_1</th>\n",
              "    </tr>\n",
              "  </thead>\n",
              "  <tbody>\n",
              "    <tr>\n",
              "      <td>count</td>\n",
              "      <td>3239.000000</td>\n",
              "      <td>3239.000000</td>\n",
              "    </tr>\n",
              "    <tr>\n",
              "      <td>mean</td>\n",
              "      <td>1621.861377</td>\n",
              "      <td>11.002062</td>\n",
              "    </tr>\n",
              "    <tr>\n",
              "      <td>std</td>\n",
              "      <td>935.386334</td>\n",
              "      <td>6.220327</td>\n",
              "    </tr>\n",
              "    <tr>\n",
              "      <td>min</td>\n",
              "      <td>1.000000</td>\n",
              "      <td>0.008399</td>\n",
              "    </tr>\n",
              "    <tr>\n",
              "      <td>25%</td>\n",
              "      <td>812.500000</td>\n",
              "      <td>7.043089</td>\n",
              "    </tr>\n",
              "    <tr>\n",
              "      <td>50%</td>\n",
              "      <td>1622.000000</td>\n",
              "      <td>9.836267</td>\n",
              "    </tr>\n",
              "    <tr>\n",
              "      <td>75%</td>\n",
              "      <td>2431.500000</td>\n",
              "      <td>13.769915</td>\n",
              "    </tr>\n",
              "    <tr>\n",
              "      <td>max</td>\n",
              "      <td>3241.000000</td>\n",
              "      <td>77.995040</td>\n",
              "    </tr>\n",
              "  </tbody>\n",
              "</table>\n",
              "</div>"
            ],
            "text/plain": [
              "               key        gas_1\n",
              "count  3239.000000  3239.000000\n",
              "mean   1621.861377    11.002062\n",
              "std     935.386334     6.220327\n",
              "min       1.000000     0.008399\n",
              "25%     812.500000     7.043089\n",
              "50%    1622.000000     9.836267\n",
              "75%    2431.500000    13.769915\n",
              "max    3241.000000    77.995040"
            ]
          },
          "execution_count": 19,
          "metadata": {},
          "output_type": "execute_result"
        }
      ],
      "source": [
        "data_gas.describe()"
      ]
    },
    {
      "cell_type": "code",
      "execution_count": null,
      "metadata": {
        "id": "1u-WdgxoFH6A",
        "outputId": "69730a46-23a3-4e97-8b1b-ef0774cd820d"
      },
      "outputs": [
        {
          "name": "stdout",
          "output_type": "stream",
          "text": [
            "Количество выбросов по объему газа - 4%\n"
          ]
        },
        {
          "data": {
            "text/plain": [
              "<matplotlib.axes._subplots.AxesSubplot at 0x7f8a46b233d0>"
            ]
          },
          "execution_count": 20,
          "metadata": {},
          "output_type": "execute_result"
        },
        {
          "data": {
            "image/png": "[encoded data removed]",
            "text/plain": [
              "<Figure size 432x288 with 1 Axes>"
            ]
          },
          "metadata": {
            "needs_background": "light"
          },
          "output_type": "display_data"
        }
      ],
      "source": [
        "q1_gas = data_gas['gas_1'].quantile(0.25)\n",
        "q3_gas = data_gas['gas_1'].quantile(0.75)\n",
        "iqr_gas = q3_gas - q1_gas\n",
        "print('Количество выбросов по объему газа - {:.0%}'.format((len(data_gas) - len(data_gas.query(\"gas_1 > (@q1_gas - 1.5*@iqr_gas) and gas_1 < (@q3_gas + 1.5*@iqr_gas)\")))/len(data_gas)))\n",
        "data_gas.query(\"gas_1 > (@q1_gas - 1.5*@iqr_gas) and gas_1 < (@q3_gas + 1.5*@iqr_gas)\").gas_1.plot(kind='hist')"
      ]
    },
    {
      "cell_type": "code",
      "execution_count": null,
      "metadata": {
        "id": "8Egkq9iQFH6B"
      },
      "outputs": [],
      "source": [
        "bad_gas_key = data_gas.query(\"gas_1 < (@q1_gas - 1.5*@iqr_gas) or gas_1 > (@q3_gas + 1.5*@iqr_gas)\").key.unique()\n",
        "bad_key = np.concatenate((bad_key, bad_gas_key))\n",
        "bad_key = np.unique(bad_key)"
      ]
    },
    {
      "cell_type": "code",
      "execution_count": null,
      "metadata": {
        "id": "Z5sYXppyFH6B",
        "outputId": "bb5a5aa5-91e1-4af1-e5c4-b1f279d12ae3"
      },
      "outputs": [
        {
          "name": "stdout",
          "output_type": "stream",
          "text": [
            "322\n"
          ]
        }
      ],
      "source": [
        "print(len(bad_key))"
      ]
    },
    {
      "cell_type": "code",
      "execution_count": null,
      "metadata": {
        "id": "ga0AuHmhFH6B",
        "outputId": "ee5c7ce1-743c-4e0f-b5a0-f6167a8f0ef2"
      },
      "outputs": [
        {
          "name": "stdout",
          "output_type": "stream",
          "text": [
            "<class 'pandas.core.frame.DataFrame'>\n",
            "RangeIndex: 15907 entries, 0 to 15906\n",
            "Data columns (total 3 columns):\n",
            "key             15907 non-null int64\n",
            "Время замера    15907 non-null object\n",
            "Температура     13006 non-null float64\n",
            "dtypes: float64(1), int64(1), object(1)\n",
            "memory usage: 372.9+ KB\n"
          ]
        },
        {
          "data": {
            "text/html": [
              "<div>\n",
              "<style scoped>\n",
              "    .dataframe tbody tr th:only-of-type {\n",
              "        vertical-align: middle;\n",
              "    }\n",
              "\n",
              "    .dataframe tbody tr th {\n",
              "        vertical-align: top;\n",
              "    }\n",
              "\n",
              "    .dataframe thead th {\n",
              "        text-align: right;\n",
              "    }\n",
              "</style>\n",
              "<table border=\"1\" class=\"dataframe\">\n",
              "  <thead>\n",
              "    <tr style=\"text-align: right;\">\n",
              "      <th></th>\n",
              "      <th>key</th>\n",
              "      <th>Время замера</th>\n",
              "      <th>Температура</th>\n",
              "    </tr>\n",
              "  </thead>\n",
              "  <tbody>\n",
              "    <tr>\n",
              "      <td>0</td>\n",
              "      <td>1</td>\n",
              "      <td>2019-05-03 11:16:18</td>\n",
              "      <td>1571.0</td>\n",
              "    </tr>\n",
              "    <tr>\n",
              "      <td>1</td>\n",
              "      <td>1</td>\n",
              "      <td>2019-05-03 11:25:53</td>\n",
              "      <td>1604.0</td>\n",
              "    </tr>\n",
              "    <tr>\n",
              "      <td>2</td>\n",
              "      <td>1</td>\n",
              "      <td>2019-05-03 11:29:11</td>\n",
              "      <td>1618.0</td>\n",
              "    </tr>\n",
              "    <tr>\n",
              "      <td>3</td>\n",
              "      <td>1</td>\n",
              "      <td>2019-05-03 11:30:01</td>\n",
              "      <td>1601.0</td>\n",
              "    </tr>\n",
              "    <tr>\n",
              "      <td>4</td>\n",
              "      <td>1</td>\n",
              "      <td>2019-05-03 11:30:39</td>\n",
              "      <td>1613.0</td>\n",
              "    </tr>\n",
              "    <tr>\n",
              "      <td>5</td>\n",
              "      <td>2</td>\n",
              "      <td>2019-05-03 11:37:27</td>\n",
              "      <td>1581.0</td>\n",
              "    </tr>\n",
              "    <tr>\n",
              "      <td>6</td>\n",
              "      <td>2</td>\n",
              "      <td>2019-05-03 11:38:00</td>\n",
              "      <td>1577.0</td>\n",
              "    </tr>\n",
              "    <tr>\n",
              "      <td>7</td>\n",
              "      <td>2</td>\n",
              "      <td>2019-05-03 11:49:38</td>\n",
              "      <td>1589.0</td>\n",
              "    </tr>\n",
              "    <tr>\n",
              "      <td>8</td>\n",
              "      <td>2</td>\n",
              "      <td>2019-05-03 11:55:50</td>\n",
              "      <td>1604.0</td>\n",
              "    </tr>\n",
              "    <tr>\n",
              "      <td>9</td>\n",
              "      <td>2</td>\n",
              "      <td>2019-05-03 11:58:24</td>\n",
              "      <td>1608.0</td>\n",
              "    </tr>\n",
              "    <tr>\n",
              "      <td>10</td>\n",
              "      <td>2</td>\n",
              "      <td>2019-05-03 11:59:12</td>\n",
              "      <td>1602.0</td>\n",
              "    </tr>\n",
              "    <tr>\n",
              "      <td>11</td>\n",
              "      <td>3</td>\n",
              "      <td>2019-05-03 12:13:17</td>\n",
              "      <td>1596.0</td>\n",
              "    </tr>\n",
              "    <tr>\n",
              "      <td>12</td>\n",
              "      <td>3</td>\n",
              "      <td>2019-05-03 12:18:36</td>\n",
              "      <td>1597.0</td>\n",
              "    </tr>\n",
              "    <tr>\n",
              "      <td>13</td>\n",
              "      <td>3</td>\n",
              "      <td>2019-05-03 12:25:06</td>\n",
              "      <td>1598.0</td>\n",
              "    </tr>\n",
              "    <tr>\n",
              "      <td>14</td>\n",
              "      <td>3</td>\n",
              "      <td>2019-05-03 12:30:48</td>\n",
              "      <td>1599.0</td>\n",
              "    </tr>\n",
              "    <tr>\n",
              "      <td>15</td>\n",
              "      <td>3</td>\n",
              "      <td>2019-05-03 12:34:57</td>\n",
              "      <td>1599.0</td>\n",
              "    </tr>\n",
              "    <tr>\n",
              "      <td>16</td>\n",
              "      <td>4</td>\n",
              "      <td>2019-05-03 12:52:57</td>\n",
              "      <td>1601.0</td>\n",
              "    </tr>\n",
              "    <tr>\n",
              "      <td>17</td>\n",
              "      <td>4</td>\n",
              "      <td>2019-05-03 12:58:43</td>\n",
              "      <td>1623.0</td>\n",
              "    </tr>\n",
              "    <tr>\n",
              "      <td>18</td>\n",
              "      <td>4</td>\n",
              "      <td>2019-05-03 12:59:25</td>\n",
              "      <td>1625.0</td>\n",
              "    </tr>\n",
              "    <tr>\n",
              "      <td>19</td>\n",
              "      <td>5</td>\n",
              "      <td>2019-05-03 13:23:19</td>\n",
              "      <td>1576.0</td>\n",
              "    </tr>\n",
              "  </tbody>\n",
              "</table>\n",
              "</div>"
            ],
            "text/plain": [
              "    key         Время замера  Температура\n",
              "0     1  2019-05-03 11:16:18       1571.0\n",
              "1     1  2019-05-03 11:25:53       1604.0\n",
              "2     1  2019-05-03 11:29:11       1618.0\n",
              "3     1  2019-05-03 11:30:01       1601.0\n",
              "4     1  2019-05-03 11:30:39       1613.0\n",
              "5     2  2019-05-03 11:37:27       1581.0\n",
              "6     2  2019-05-03 11:38:00       1577.0\n",
              "7     2  2019-05-03 11:49:38       1589.0\n",
              "8     2  2019-05-03 11:55:50       1604.0\n",
              "9     2  2019-05-03 11:58:24       1608.0\n",
              "10    2  2019-05-03 11:59:12       1602.0\n",
              "11    3  2019-05-03 12:13:17       1596.0\n",
              "12    3  2019-05-03 12:18:36       1597.0\n",
              "13    3  2019-05-03 12:25:06       1598.0\n",
              "14    3  2019-05-03 12:30:48       1599.0\n",
              "15    3  2019-05-03 12:34:57       1599.0\n",
              "16    4  2019-05-03 12:52:57       1601.0\n",
              "17    4  2019-05-03 12:58:43       1623.0\n",
              "18    4  2019-05-03 12:59:25       1625.0\n",
              "19    5  2019-05-03 13:23:19       1576.0"
            ]
          },
          "execution_count": 23,
          "metadata": {},
          "output_type": "execute_result"
        }
      ],
      "source": [
        "data_temp.info()\n",
        "data_temp.head(20)"
      ]
    },
    {
      "cell_type": "code",
      "execution_count": null,
      "metadata": {
        "id": "RUpCofSLFH6C"
      },
      "outputs": [],
      "source": [
        "data_temp.columns = ['key', 'measure_time', 'temp']\n",
        "data_temp['measure_time'] = pd.to_datetime(data_temp['measure_time'], format=\"%Y-%m-%d %H:%M:%S\")"
      ]
    },
    {
      "cell_type": "code",
      "execution_count": null,
      "metadata": {
        "id": "q9y7zFgPFH6C",
        "outputId": "b11a4cf8-61ce-469b-cb5b-53e2a9ec0939"
      },
      "outputs": [
        {
          "data": {
            "text/html": [
              "<div>\n",
              "<style scoped>\n",
              "    .dataframe tbody tr th:only-of-type {\n",
              "        vertical-align: middle;\n",
              "    }\n",
              "\n",
              "    .dataframe tbody tr th {\n",
              "        vertical-align: top;\n",
              "    }\n",
              "\n",
              "    .dataframe thead th {\n",
              "        text-align: right;\n",
              "    }\n",
              "</style>\n",
              "<table border=\"1\" class=\"dataframe\">\n",
              "  <thead>\n",
              "    <tr style=\"text-align: right;\">\n",
              "      <th></th>\n",
              "      <th>key</th>\n",
              "      <th>temp</th>\n",
              "    </tr>\n",
              "  </thead>\n",
              "  <tbody>\n",
              "    <tr>\n",
              "      <td>count</td>\n",
              "      <td>15907.000000</td>\n",
              "      <td>13006.000000</td>\n",
              "    </tr>\n",
              "    <tr>\n",
              "      <td>mean</td>\n",
              "      <td>1607.880870</td>\n",
              "      <td>1591.840920</td>\n",
              "    </tr>\n",
              "    <tr>\n",
              "      <td>std</td>\n",
              "      <td>942.212073</td>\n",
              "      <td>21.375851</td>\n",
              "    </tr>\n",
              "    <tr>\n",
              "      <td>min</td>\n",
              "      <td>1.000000</td>\n",
              "      <td>1191.000000</td>\n",
              "    </tr>\n",
              "    <tr>\n",
              "      <td>25%</td>\n",
              "      <td>790.000000</td>\n",
              "      <td>1581.000000</td>\n",
              "    </tr>\n",
              "    <tr>\n",
              "      <td>50%</td>\n",
              "      <td>1618.000000</td>\n",
              "      <td>1591.000000</td>\n",
              "    </tr>\n",
              "    <tr>\n",
              "      <td>75%</td>\n",
              "      <td>2427.000000</td>\n",
              "      <td>1601.000000</td>\n",
              "    </tr>\n",
              "    <tr>\n",
              "      <td>max</td>\n",
              "      <td>3241.000000</td>\n",
              "      <td>1705.000000</td>\n",
              "    </tr>\n",
              "  </tbody>\n",
              "</table>\n",
              "</div>"
            ],
            "text/plain": [
              "                key          temp\n",
              "count  15907.000000  13006.000000\n",
              "mean    1607.880870   1591.840920\n",
              "std      942.212073     21.375851\n",
              "min        1.000000   1191.000000\n",
              "25%      790.000000   1581.000000\n",
              "50%     1618.000000   1591.000000\n",
              "75%     2427.000000   1601.000000\n",
              "max     3241.000000   1705.000000"
            ]
          },
          "execution_count": 25,
          "metadata": {},
          "output_type": "execute_result"
        }
      ],
      "source": [
        "data_temp.describe()"
      ]
    },
    {
      "cell_type": "code",
      "execution_count": null,
      "metadata": {
        "id": "Qy6rPgUPFH6C",
        "outputId": "5c9ff6bc-85f3-4db7-9f0f-aaa82fdc2c7d"
      },
      "outputs": [
        {
          "name": "stdout",
          "output_type": "stream",
          "text": [
            "Количество замеров с аномально низкой температурой - 6\n"
          ]
        }
      ],
      "source": [
        "print('Количество замеров с аномально низкой температурой - {:.0f}'.format(len(data_temp.query(\"temp < 1500\").key.unique())))\n",
        "bad_key = np.concatenate((bad_key, data_temp.query(\"temp < 1500\").key.unique()))\n",
        "bad_key = np.unique(bad_key)"
      ]
    },
    {
      "cell_type": "code",
      "execution_count": null,
      "metadata": {
        "id": "SyUyno8FFH6D"
      },
      "outputs": [],
      "source": [
        "temp_grouped = data_temp.groupby(by='key', as_index=False).count()"
      ]
    },
    {
      "cell_type": "code",
      "execution_count": null,
      "metadata": {
        "id": "WKXH4Ig2FH6D"
      },
      "outputs": [],
      "source": [
        "bad_temp_key = temp_grouped.query(\"measure_time != temp\")\n",
        "bad_key = np.concatenate((bad_key, bad_temp_key['key'].unique()))\n",
        "bad_key=np.unique(bad_key)"
      ]
    },
    {
      "cell_type": "code",
      "execution_count": null,
      "metadata": {
        "id": "rQdK-0yiFH6D",
        "outputId": "6277966b-32cb-4e62-dcf2-d9e17caf65da"
      },
      "outputs": [
        {
          "name": "stdout",
          "output_type": "stream",
          "text": [
            "991\n"
          ]
        }
      ],
      "source": [
        "print(len(bad_key))"
      ]
    },
    {
      "cell_type": "code",
      "execution_count": null,
      "metadata": {
        "id": "h_5cp9NSFH6D",
        "outputId": "da41f79e-9977-45d9-a8a9-93b8c0a80401"
      },
      "outputs": [
        {
          "name": "stdout",
          "output_type": "stream",
          "text": [
            "<class 'pandas.core.frame.DataFrame'>\n",
            "RangeIndex: 3081 entries, 0 to 3080\n",
            "Data columns (total 10 columns):\n",
            "key       3081 non-null int64\n",
            "Wire 1    3055 non-null float64\n",
            "Wire 2    1079 non-null float64\n",
            "Wire 3    63 non-null float64\n",
            "Wire 4    14 non-null float64\n",
            "Wire 5    1 non-null float64\n",
            "Wire 6    73 non-null float64\n",
            "Wire 7    11 non-null float64\n",
            "Wire 8    19 non-null float64\n",
            "Wire 9    29 non-null float64\n",
            "dtypes: float64(9), int64(1)\n",
            "memory usage: 240.8 KB\n"
          ]
        },
        {
          "data": {
            "text/html": [
              "<div>\n",
              "<style scoped>\n",
              "    .dataframe tbody tr th:only-of-type {\n",
              "        vertical-align: middle;\n",
              "    }\n",
              "\n",
              "    .dataframe tbody tr th {\n",
              "        vertical-align: top;\n",
              "    }\n",
              "\n",
              "    .dataframe thead th {\n",
              "        text-align: right;\n",
              "    }\n",
              "</style>\n",
              "<table border=\"1\" class=\"dataframe\">\n",
              "  <thead>\n",
              "    <tr style=\"text-align: right;\">\n",
              "      <th></th>\n",
              "      <th>key</th>\n",
              "      <th>Wire 1</th>\n",
              "      <th>Wire 2</th>\n",
              "      <th>Wire 3</th>\n",
              "      <th>Wire 4</th>\n",
              "      <th>Wire 5</th>\n",
              "      <th>Wire 6</th>\n",
              "      <th>Wire 7</th>\n",
              "      <th>Wire 8</th>\n",
              "      <th>Wire 9</th>\n",
              "    </tr>\n",
              "  </thead>\n",
              "  <tbody>\n",
              "    <tr>\n",
              "      <td>0</td>\n",
              "      <td>1</td>\n",
              "      <td>60.059998</td>\n",
              "      <td>NaN</td>\n",
              "      <td>NaN</td>\n",
              "      <td>NaN</td>\n",
              "      <td>NaN</td>\n",
              "      <td>NaN</td>\n",
              "      <td>NaN</td>\n",
              "      <td>NaN</td>\n",
              "      <td>NaN</td>\n",
              "    </tr>\n",
              "    <tr>\n",
              "      <td>1</td>\n",
              "      <td>2</td>\n",
              "      <td>96.052315</td>\n",
              "      <td>NaN</td>\n",
              "      <td>NaN</td>\n",
              "      <td>NaN</td>\n",
              "      <td>NaN</td>\n",
              "      <td>NaN</td>\n",
              "      <td>NaN</td>\n",
              "      <td>NaN</td>\n",
              "      <td>NaN</td>\n",
              "    </tr>\n",
              "    <tr>\n",
              "      <td>2</td>\n",
              "      <td>3</td>\n",
              "      <td>91.160157</td>\n",
              "      <td>NaN</td>\n",
              "      <td>NaN</td>\n",
              "      <td>NaN</td>\n",
              "      <td>NaN</td>\n",
              "      <td>NaN</td>\n",
              "      <td>NaN</td>\n",
              "      <td>NaN</td>\n",
              "      <td>NaN</td>\n",
              "    </tr>\n",
              "    <tr>\n",
              "      <td>3</td>\n",
              "      <td>4</td>\n",
              "      <td>89.063515</td>\n",
              "      <td>NaN</td>\n",
              "      <td>NaN</td>\n",
              "      <td>NaN</td>\n",
              "      <td>NaN</td>\n",
              "      <td>NaN</td>\n",
              "      <td>NaN</td>\n",
              "      <td>NaN</td>\n",
              "      <td>NaN</td>\n",
              "    </tr>\n",
              "    <tr>\n",
              "      <td>4</td>\n",
              "      <td>5</td>\n",
              "      <td>89.238236</td>\n",
              "      <td>9.11456</td>\n",
              "      <td>NaN</td>\n",
              "      <td>NaN</td>\n",
              "      <td>NaN</td>\n",
              "      <td>NaN</td>\n",
              "      <td>NaN</td>\n",
              "      <td>NaN</td>\n",
              "      <td>NaN</td>\n",
              "    </tr>\n",
              "  </tbody>\n",
              "</table>\n",
              "</div>"
            ],
            "text/plain": [
              "   key     Wire 1   Wire 2  Wire 3  Wire 4  Wire 5  Wire 6  Wire 7  Wire 8  \\\n",
              "0    1  60.059998      NaN     NaN     NaN     NaN     NaN     NaN     NaN   \n",
              "1    2  96.052315      NaN     NaN     NaN     NaN     NaN     NaN     NaN   \n",
              "2    3  91.160157      NaN     NaN     NaN     NaN     NaN     NaN     NaN   \n",
              "3    4  89.063515      NaN     NaN     NaN     NaN     NaN     NaN     NaN   \n",
              "4    5  89.238236  9.11456     NaN     NaN     NaN     NaN     NaN     NaN   \n",
              "\n",
              "   Wire 9  \n",
              "0     NaN  \n",
              "1     NaN  \n",
              "2     NaN  \n",
              "3     NaN  \n",
              "4     NaN  "
            ]
          },
          "execution_count": 30,
          "metadata": {},
          "output_type": "execute_result"
        }
      ],
      "source": [
        "data_wire.info()\n",
        "data_wire.head()"
      ]
    },
    {
      "cell_type": "code",
      "execution_count": null,
      "metadata": {
        "id": "ZCNC1fkVFH6D"
      },
      "outputs": [],
      "source": [
        "wire_index = ['key','wire_1','wire_2','wire_3','wire_4','wire_5','wire_6','wire_7','wire_8','wire_9']\n",
        "data_wire.columns = wire_index"
      ]
    },
    {
      "cell_type": "code",
      "execution_count": null,
      "metadata": {
        "id": "xdeEAk-DFH6E"
      },
      "outputs": [],
      "source": [
        "data_wire = data_wire.fillna(0)\n",
        "data_wire = data_wire.astype('int')"
      ]
    },
    {
      "cell_type": "code",
      "execution_count": null,
      "metadata": {
        "id": "_C7vOQYgFH6E",
        "outputId": "fa694b32-ca61-4a9d-e930-fb1bba532c85"
      },
      "outputs": [
        {
          "data": {
            "text/html": [
              "<div>\n",
              "<style scoped>\n",
              "    .dataframe tbody tr th:only-of-type {\n",
              "        vertical-align: middle;\n",
              "    }\n",
              "\n",
              "    .dataframe tbody tr th {\n",
              "        vertical-align: top;\n",
              "    }\n",
              "\n",
              "    .dataframe thead th {\n",
              "        text-align: right;\n",
              "    }\n",
              "</style>\n",
              "<table border=\"1\" class=\"dataframe\">\n",
              "  <thead>\n",
              "    <tr style=\"text-align: right;\">\n",
              "      <th></th>\n",
              "      <th>key</th>\n",
              "      <th>wire_1</th>\n",
              "      <th>wire_2</th>\n",
              "      <th>wire_3</th>\n",
              "      <th>wire_4</th>\n",
              "      <th>wire_5</th>\n",
              "      <th>wire_6</th>\n",
              "      <th>wire_7</th>\n",
              "      <th>wire_8</th>\n",
              "      <th>wire_9</th>\n",
              "    </tr>\n",
              "  </thead>\n",
              "  <tbody>\n",
              "    <tr>\n",
              "      <td>count</td>\n",
              "      <td>3081.000000</td>\n",
              "      <td>3081.000000</td>\n",
              "      <td>3081.000000</td>\n",
              "      <td>3081.000000</td>\n",
              "      <td>3081.000000</td>\n",
              "      <td>3081.000000</td>\n",
              "      <td>3081.000000</td>\n",
              "      <td>3081.000000</td>\n",
              "      <td>3081.000000</td>\n",
              "      <td>3081.000000</td>\n",
              "    </tr>\n",
              "    <tr>\n",
              "      <td>mean</td>\n",
              "      <td>1623.426485</td>\n",
              "      <td>99.826355</td>\n",
              "      <td>17.637131</td>\n",
              "      <td>3.869198</td>\n",
              "      <td>0.260305</td>\n",
              "      <td>0.004869</td>\n",
              "      <td>1.132749</td>\n",
              "      <td>0.034729</td>\n",
              "      <td>0.329438</td>\n",
              "      <td>0.319701</td>\n",
              "    </tr>\n",
              "    <tr>\n",
              "      <td>std</td>\n",
              "      <td>932.996726</td>\n",
              "      <td>42.805617</td>\n",
              "      <td>33.420590</td>\n",
              "      <td>30.279608</td>\n",
              "      <td>4.283130</td>\n",
              "      <td>0.270237</td>\n",
              "      <td>8.929717</td>\n",
              "      <td>0.752762</td>\n",
              "      <td>4.374313</td>\n",
              "      <td>3.794053</td>\n",
              "    </tr>\n",
              "    <tr>\n",
              "      <td>min</td>\n",
              "      <td>1.000000</td>\n",
              "      <td>0.000000</td>\n",
              "      <td>0.000000</td>\n",
              "      <td>0.000000</td>\n",
              "      <td>0.000000</td>\n",
              "      <td>0.000000</td>\n",
              "      <td>0.000000</td>\n",
              "      <td>0.000000</td>\n",
              "      <td>0.000000</td>\n",
              "      <td>0.000000</td>\n",
              "    </tr>\n",
              "    <tr>\n",
              "      <td>25%</td>\n",
              "      <td>823.000000</td>\n",
              "      <td>70.000000</td>\n",
              "      <td>0.000000</td>\n",
              "      <td>0.000000</td>\n",
              "      <td>0.000000</td>\n",
              "      <td>0.000000</td>\n",
              "      <td>0.000000</td>\n",
              "      <td>0.000000</td>\n",
              "      <td>0.000000</td>\n",
              "      <td>0.000000</td>\n",
              "    </tr>\n",
              "    <tr>\n",
              "      <td>50%</td>\n",
              "      <td>1619.000000</td>\n",
              "      <td>100.000000</td>\n",
              "      <td>0.000000</td>\n",
              "      <td>0.000000</td>\n",
              "      <td>0.000000</td>\n",
              "      <td>0.000000</td>\n",
              "      <td>0.000000</td>\n",
              "      <td>0.000000</td>\n",
              "      <td>0.000000</td>\n",
              "      <td>0.000000</td>\n",
              "    </tr>\n",
              "    <tr>\n",
              "      <td>75%</td>\n",
              "      <td>2434.000000</td>\n",
              "      <td>125.000000</td>\n",
              "      <td>23.000000</td>\n",
              "      <td>0.000000</td>\n",
              "      <td>0.000000</td>\n",
              "      <td>0.000000</td>\n",
              "      <td>0.000000</td>\n",
              "      <td>0.000000</td>\n",
              "      <td>0.000000</td>\n",
              "      <td>0.000000</td>\n",
              "    </tr>\n",
              "    <tr>\n",
              "      <td>max</td>\n",
              "      <td>3241.000000</td>\n",
              "      <td>330.000000</td>\n",
              "      <td>282.000000</td>\n",
              "      <td>385.000000</td>\n",
              "      <td>113.000000</td>\n",
              "      <td>15.000000</td>\n",
              "      <td>180.000000</td>\n",
              "      <td>32.000000</td>\n",
              "      <td>102.000000</td>\n",
              "      <td>90.000000</td>\n",
              "    </tr>\n",
              "  </tbody>\n",
              "</table>\n",
              "</div>"
            ],
            "text/plain": [
              "               key       wire_1       wire_2       wire_3       wire_4  \\\n",
              "count  3081.000000  3081.000000  3081.000000  3081.000000  3081.000000   \n",
              "mean   1623.426485    99.826355    17.637131     3.869198     0.260305   \n",
              "std     932.996726    42.805617    33.420590    30.279608     4.283130   \n",
              "min       1.000000     0.000000     0.000000     0.000000     0.000000   \n",
              "25%     823.000000    70.000000     0.000000     0.000000     0.000000   \n",
              "50%    1619.000000   100.000000     0.000000     0.000000     0.000000   \n",
              "75%    2434.000000   125.000000    23.000000     0.000000     0.000000   \n",
              "max    3241.000000   330.000000   282.000000   385.000000   113.000000   \n",
              "\n",
              "            wire_5       wire_6       wire_7       wire_8       wire_9  \n",
              "count  3081.000000  3081.000000  3081.000000  3081.000000  3081.000000  \n",
              "mean      0.004869     1.132749     0.034729     0.329438     0.319701  \n",
              "std       0.270237     8.929717     0.752762     4.374313     3.794053  \n",
              "min       0.000000     0.000000     0.000000     0.000000     0.000000  \n",
              "25%       0.000000     0.000000     0.000000     0.000000     0.000000  \n",
              "50%       0.000000     0.000000     0.000000     0.000000     0.000000  \n",
              "75%       0.000000     0.000000     0.000000     0.000000     0.000000  \n",
              "max      15.000000   180.000000    32.000000   102.000000    90.000000  "
            ]
          },
          "execution_count": 33,
          "metadata": {},
          "output_type": "execute_result"
        }
      ],
      "source": [
        "data_wire.describe()"
      ]
    },
    {
      "cell_type": "code",
      "execution_count": null,
      "metadata": {
        "id": "TMu0itmcFH6E",
        "outputId": "56b237f2-f412-4fc3-d715-a7aa70e0e1b6"
      },
      "outputs": [
        {
          "name": "stdout",
          "output_type": "stream",
          "text": [
            "<class 'pandas.core.frame.DataFrame'>\n",
            "RangeIndex: 3081 entries, 0 to 3080\n",
            "Data columns (total 10 columns):\n",
            "key       3081 non-null int64\n",
            "Wire 1    3055 non-null object\n",
            "Wire 2    1079 non-null object\n",
            "Wire 3    63 non-null object\n",
            "Wire 4    14 non-null object\n",
            "Wire 5    1 non-null object\n",
            "Wire 6    73 non-null object\n",
            "Wire 7    11 non-null object\n",
            "Wire 8    19 non-null object\n",
            "Wire 9    29 non-null object\n",
            "dtypes: int64(1), object(9)\n",
            "memory usage: 240.8+ KB\n"
          ]
        },
        {
          "data": {
            "text/html": [
              "<div>\n",
              "<style scoped>\n",
              "    .dataframe tbody tr th:only-of-type {\n",
              "        vertical-align: middle;\n",
              "    }\n",
              "\n",
              "    .dataframe tbody tr th {\n",
              "        vertical-align: top;\n",
              "    }\n",
              "\n",
              "    .dataframe thead th {\n",
              "        text-align: right;\n",
              "    }\n",
              "</style>\n",
              "<table border=\"1\" class=\"dataframe\">\n",
              "  <thead>\n",
              "    <tr style=\"text-align: right;\">\n",
              "      <th></th>\n",
              "      <th>key</th>\n",
              "      <th>Wire 1</th>\n",
              "      <th>Wire 2</th>\n",
              "      <th>Wire 3</th>\n",
              "      <th>Wire 4</th>\n",
              "      <th>Wire 5</th>\n",
              "      <th>Wire 6</th>\n",
              "      <th>Wire 7</th>\n",
              "      <th>Wire 8</th>\n",
              "      <th>Wire 9</th>\n",
              "    </tr>\n",
              "  </thead>\n",
              "  <tbody>\n",
              "    <tr>\n",
              "      <td>0</td>\n",
              "      <td>1</td>\n",
              "      <td>2019-05-03 11:11:41</td>\n",
              "      <td>NaN</td>\n",
              "      <td>NaN</td>\n",
              "      <td>NaN</td>\n",
              "      <td>NaN</td>\n",
              "      <td>NaN</td>\n",
              "      <td>NaN</td>\n",
              "      <td>NaN</td>\n",
              "      <td>NaN</td>\n",
              "    </tr>\n",
              "    <tr>\n",
              "      <td>1</td>\n",
              "      <td>2</td>\n",
              "      <td>2019-05-03 11:46:10</td>\n",
              "      <td>NaN</td>\n",
              "      <td>NaN</td>\n",
              "      <td>NaN</td>\n",
              "      <td>NaN</td>\n",
              "      <td>NaN</td>\n",
              "      <td>NaN</td>\n",
              "      <td>NaN</td>\n",
              "      <td>NaN</td>\n",
              "    </tr>\n",
              "    <tr>\n",
              "      <td>2</td>\n",
              "      <td>3</td>\n",
              "      <td>2019-05-03 12:13:47</td>\n",
              "      <td>NaN</td>\n",
              "      <td>NaN</td>\n",
              "      <td>NaN</td>\n",
              "      <td>NaN</td>\n",
              "      <td>NaN</td>\n",
              "      <td>NaN</td>\n",
              "      <td>NaN</td>\n",
              "      <td>NaN</td>\n",
              "    </tr>\n",
              "    <tr>\n",
              "      <td>3</td>\n",
              "      <td>4</td>\n",
              "      <td>2019-05-03 12:48:05</td>\n",
              "      <td>NaN</td>\n",
              "      <td>NaN</td>\n",
              "      <td>NaN</td>\n",
              "      <td>NaN</td>\n",
              "      <td>NaN</td>\n",
              "      <td>NaN</td>\n",
              "      <td>NaN</td>\n",
              "      <td>NaN</td>\n",
              "    </tr>\n",
              "    <tr>\n",
              "      <td>4</td>\n",
              "      <td>5</td>\n",
              "      <td>2019-05-03 13:18:15</td>\n",
              "      <td>2019-05-03 13:32:06</td>\n",
              "      <td>NaN</td>\n",
              "      <td>NaN</td>\n",
              "      <td>NaN</td>\n",
              "      <td>NaN</td>\n",
              "      <td>NaN</td>\n",
              "      <td>NaN</td>\n",
              "      <td>NaN</td>\n",
              "    </tr>\n",
              "  </tbody>\n",
              "</table>\n",
              "</div>"
            ],
            "text/plain": [
              "   key               Wire 1               Wire 2 Wire 3 Wire 4 Wire 5 Wire 6  \\\n",
              "0    1  2019-05-03 11:11:41                  NaN    NaN    NaN    NaN    NaN   \n",
              "1    2  2019-05-03 11:46:10                  NaN    NaN    NaN    NaN    NaN   \n",
              "2    3  2019-05-03 12:13:47                  NaN    NaN    NaN    NaN    NaN   \n",
              "3    4  2019-05-03 12:48:05                  NaN    NaN    NaN    NaN    NaN   \n",
              "4    5  2019-05-03 13:18:15  2019-05-03 13:32:06    NaN    NaN    NaN    NaN   \n",
              "\n",
              "  Wire 7 Wire 8 Wire 9  \n",
              "0    NaN    NaN    NaN  \n",
              "1    NaN    NaN    NaN  \n",
              "2    NaN    NaN    NaN  \n",
              "3    NaN    NaN    NaN  \n",
              "4    NaN    NaN    NaN  "
            ]
          },
          "execution_count": 34,
          "metadata": {},
          "output_type": "execute_result"
        }
      ],
      "source": [
        "data_wire_time.info()\n",
        "data_wire_time.head()"
      ]
    },
    {
      "cell_type": "code",
      "execution_count": null,
      "metadata": {
        "id": "geUc4JeBFH6E"
      },
      "outputs": [],
      "source": [
        "data_wire_time.columns = wire_index\n",
        "time_cols_list = data_wire_time.columns[1:10]\n",
        "data_wire_time[time_cols_list] = data_wire_time[time_cols_list].apply(lambda x : pd.to_datetime(x, format = \"%Y-%m-%d %H:%M:%S\"))"
      ]
    },
    {
      "cell_type": "markdown",
      "metadata": {
        "id": "xNbsuaCVFH6E"
      },
      "source": [
        "### Выводы и уточняющие вопросы"
      ]
    },
    {
      "cell_type": "markdown",
      "metadata": {
        "id": "OdSaBZRtFH6E"
      },
      "source": [
        "По итогу обработки и первичного анализа данных получил 991 выбросов по следующим признакам:<br>\n",
        "1) аномальные значения активной и реактивной мощности<br>\n",
        "2) исключил выбросы по объему подаваемого газа<br>\n",
        "3) исключил измерения по ключам в которых температура ниже температуры плавления металла<br>\n",
        "4) исключил замеры в которых отсутствовали измерения температуры (тут самое большое количество выбросов)<br>\n",
        "\n",
        "Так как измерения температуры является нашим целевым признаком, то заменить/использовать неполные данные не представляется возможным."
      ]
    },
    {
      "cell_type": "markdown",
      "metadata": {
        "id": "SoPqVMiTFH6F"
      },
      "source": [
        "## План решения задачи"
      ]
    },
    {
      "cell_type": "markdown",
      "metadata": {
        "id": "4FVkCP5XFH6F"
      },
      "source": [
        "Следующие шаги_v2:<br>\n",
        "1) объединение датафреймов<br>\n",
        "2) исключение данных по списку \"плохих\" ключей bad_key<br>\n",
        "3) масштабирование признаков<br>\n",
        "4) анализ мультиколлинеарности (корреляция?)<br>\n",
        "5) уравновешивание признаков<br>\n",
        "6) создание моделей машинного обучения<br>\n",
        "7) анализ важности факторов<br>\n",
        "8) анализ результатов и выводы<br>"
      ]
    },
    {
      "cell_type": "markdown",
      "metadata": {
        "id": "uiMsVJvfFH6F"
      },
      "source": [
        "## Подготовка к созданию моделей"
      ]
    },
    {
      "cell_type": "markdown",
      "metadata": {
        "id": "hoksOTnYFH6G"
      },
      "source": [
        "### Объединение датафреймов"
      ]
    },
    {
      "cell_type": "code",
      "execution_count": null,
      "metadata": {
        "id": "djqQc5rJFH6G"
      },
      "outputs": [],
      "source": [
        "data_arc_fin = data_arc.pivot_table(index='key', values=['active_power','reactive_power'], \n",
        "                                    aggfunc={'active_power':sum,'reactive_power':sum})"
      ]
    },
    {
      "cell_type": "code",
      "execution_count": null,
      "metadata": {
        "id": "Iu8njMgiFH6G"
      },
      "outputs": [],
      "source": [
        "last_measure_time = data_temp.pivot_table(index='key', values='measure_time', aggfunc=max)\n",
        "last_measure_time_list = list(last_measure_time['measure_time'])\n",
        "data_temp_fin = data_temp.query('measure_time in @last_measure_time_list')"
      ]
    },
    {
      "cell_type": "code",
      "execution_count": null,
      "metadata": {
        "id": "Zyu7-0FDFH6G"
      },
      "outputs": [],
      "source": [
        "data_bulk_indexed = data_bulk.set_index('key')\n",
        "data_wire_indexed = data_wire.set_index('key')\n",
        "data_temp_indexed = data_temp_fin.set_index('key')"
      ]
    },
    {
      "cell_type": "code",
      "execution_count": null,
      "metadata": {
        "id": "5AUeNQC7FH6G"
      },
      "outputs": [],
      "source": [
        "data_merged = data_arc_fin.join([data_bulk_indexed,data_gas,data_wire_indexed,data_temp_indexed['temp']], how='outer')"
      ]
    },
    {
      "cell_type": "code",
      "execution_count": null,
      "metadata": {
        "id": "4KhjPkRpFH6H"
      },
      "outputs": [],
      "source": [
        "data_bulk_time2=data_bulk_time\n",
        "data_bulk_time2['last_bulk'] = data_bulk_time[data_bulk_time.columns[1:16]].max(axis=1)"
      ]
    },
    {
      "cell_type": "code",
      "execution_count": null,
      "metadata": {
        "id": "36q7Ctf7FH6H"
      },
      "outputs": [],
      "source": [
        "data_wire_time2=data_wire_time\n",
        "data_wire_time2['last_wire']=data_bulk_time[data_bulk_time.columns[1:16]].max(axis=1)"
      ]
    },
    {
      "cell_type": "code",
      "execution_count": null,
      "metadata": {
        "id": "w8LN4_rrFH6H"
      },
      "outputs": [],
      "source": [
        "last_arc_time = data_arc.pivot_table(index='key', values='arc_heat_end', aggfunc=max)\n",
        "last_bulk_time = data_bulk_time2[['key','last_bulk']]\n",
        "last_wire_time = data_wire_time2[['key', 'last_wire']]\n",
        "last_bulk_time = last_bulk_time.set_index('key')\n",
        "last_wire_time = last_wire_time.set_index('key')\n",
        "last_time_merged = last_measure_time.join([last_arc_time,last_bulk_time,last_wire_time], how='outer')"
      ]
    },
    {
      "cell_type": "code",
      "execution_count": null,
      "metadata": {
        "id": "udNB_f8XFH6H"
      },
      "outputs": [],
      "source": [
        "last_time_merged['max'] = last_time_merged.max(axis=1)"
      ]
    },
    {
      "cell_type": "code",
      "execution_count": null,
      "metadata": {
        "id": "wCmwhsRdFH6H"
      },
      "outputs": [],
      "source": [
        "bad_time_list = list(last_time_merged.query(\"measure_time != max\").index)"
      ]
    },
    {
      "cell_type": "code",
      "execution_count": null,
      "metadata": {
        "id": "5JwnHPquFH6H"
      },
      "outputs": [],
      "source": [
        "#bad_key = np.concatenate((bad_key, bad_time_list))\n",
        "#bad_key=np.unique(bad_key)"
      ]
    },
    {
      "cell_type": "code",
      "execution_count": null,
      "metadata": {
        "id": "bDeiDlJPFH6I"
      },
      "outputs": [],
      "source": [
        "data_merged2 = data_merged.query(\"key not in @bad_key\")\n",
        "data_merged3 = data_merged2.dropna()"
      ]
    },
    {
      "cell_type": "code",
      "execution_count": null,
      "metadata": {
        "id": "l0fs84NtFH6I",
        "outputId": "08f2ee0d-bc62-4d42-e1cb-fad6cec4a201"
      },
      "outputs": [
        {
          "data": {
            "text/plain": [
              "<matplotlib.axes._subplots.AxesSubplot at 0x7f8a3e09dc10>"
            ]
          },
          "execution_count": 47,
          "metadata": {},
          "output_type": "execute_result"
        },
        {
          "data": {
            "image/png": "[encoded data removed]",
            "text/plain": [
              "<Figure size 1080x1080 with 2 Axes>"
            ]
          },
          "metadata": {
            "needs_background": "light"
          },
          "output_type": "display_data"
        }
      ],
      "source": [
        "plt.figure(figsize=(15, 15))\n",
        "sns.heatmap(data_merged3.corr().round(2), annot=True)"
      ]
    },
    {
      "cell_type": "markdown",
      "metadata": {
        "id": "UJe3nkeEFH6I"
      },
      "source": [
        "Видим что wire_4/bulk_9 и active_power/reactive_power сильно коррелируют. Исключаем.."
      ]
    },
    {
      "cell_type": "code",
      "execution_count": null,
      "metadata": {
        "id": "NAOV96YhFH6I"
      },
      "outputs": [],
      "source": [
        "data_merged5 = data_merged3.drop(['reactive_power', 'bulk_9', 'wire_5','bulk_8', 'bulk_10', 'wire_7', 'wire_8','wire_9', 'key'],axis=1)"
      ]
    },
    {
      "cell_type": "code",
      "execution_count": null,
      "metadata": {
        "id": "o_rTtJbzFH6I"
      },
      "outputs": [],
      "source": [
        "data_merged4 = data_merged3.drop(['bulk_9', 'wire_5', 'key'],axis=1)"
      ]
    },
    {
      "cell_type": "code",
      "execution_count": null,
      "metadata": {
        "id": "84EUDgTyFH6J"
      },
      "outputs": [],
      "source": [
        "#data_merged4['full_power'] = (data_merged4['active_power']**2 + data_merged4['reactive_power']**2)**0.5\n",
        "#data_merged4 = data_merged4.drop(['active_power', 'reactive_power'],axis=1)"
      ]
    },
    {
      "cell_type": "code",
      "execution_count": null,
      "metadata": {
        "id": "DoeTjJHXFH6J",
        "outputId": "c228bbba-5374-4bc4-bbb2-c55bb79d706e"
      },
      "outputs": [
        {
          "name": "stdout",
          "output_type": "stream",
          "text": [
            "<class 'pandas.core.frame.DataFrame'>\n",
            "Int64Index: 2086 entries, 1 to 2496\n",
            "Data columns (total 26 columns):\n",
            "active_power      2086 non-null float64\n",
            "reactive_power    2086 non-null float64\n",
            "bulk_1            2086 non-null float64\n",
            "bulk_2            2086 non-null float64\n",
            "bulk_3            2086 non-null float64\n",
            "bulk_4            2086 non-null float64\n",
            "bulk_5            2086 non-null float64\n",
            "bulk_6            2086 non-null float64\n",
            "bulk_7            2086 non-null float64\n",
            "bulk_8            2086 non-null float64\n",
            "bulk_10           2086 non-null float64\n",
            "bulk_11           2086 non-null float64\n",
            "bulk_12           2086 non-null float64\n",
            "bulk_13           2086 non-null float64\n",
            "bulk_14           2086 non-null float64\n",
            "bulk_15           2086 non-null float64\n",
            "gas_1             2086 non-null float64\n",
            "wire_1            2086 non-null float64\n",
            "wire_2            2086 non-null float64\n",
            "wire_3            2086 non-null float64\n",
            "wire_4            2086 non-null float64\n",
            "wire_6            2086 non-null float64\n",
            "wire_7            2086 non-null float64\n",
            "wire_8            2086 non-null float64\n",
            "wire_9            2086 non-null float64\n",
            "temp              2086 non-null float64\n",
            "dtypes: float64(26)\n",
            "memory usage: 440.0 KB\n"
          ]
        }
      ],
      "source": [
        "data_merged4.info()"
      ]
    },
    {
      "cell_type": "markdown",
      "metadata": {
        "id": "5KVjqePeFH6J"
      },
      "source": [
        "### Обучение моделей"
      ]
    },
    {
      "cell_type": "code",
      "execution_count": null,
      "metadata": {
        "id": "JSpYjhhhFH6J"
      },
      "outputs": [],
      "source": [
        "features = data_merged4.drop('temp', axis=1)\n",
        "target = data_merged4['temp']"
      ]
    },
    {
      "cell_type": "code",
      "execution_count": null,
      "metadata": {
        "id": "EsygCVzlFH6J"
      },
      "outputs": [],
      "source": [
        "features_train, features2, target_train, target2 = train_test_split(features, target, \n",
        "                                                                    test_size=0.4, random_state=12345)\n",
        "features_valid, features_test, target_valid, target_test = train_test_split(features2, target2, \n",
        "                                                                            test_size=0.4, random_state=12345)"
      ]
    },
    {
      "cell_type": "code",
      "execution_count": null,
      "metadata": {
        "id": "BLTsbKp7FH6J"
      },
      "outputs": [],
      "source": [
        "scaler = StandardScaler()\n",
        "scaler.fit(features_train)\n",
        "features_train = scaler.transform(features_train)\n",
        "features_valid = scaler.transform(features_valid)\n",
        "features_test = scaler.transform(features_test)"
      ]
    },
    {
      "cell_type": "code",
      "execution_count": null,
      "metadata": {
        "id": "A0Tk7myWFH6J",
        "outputId": "56aa1fd1-099e-4634-99d6-07e646def873"
      },
      "outputs": [
        {
          "name": "stdout",
          "output_type": "stream",
          "text": [
            "Результат модели линейной регрессии =: 7.18\n"
          ]
        }
      ],
      "source": [
        "model_lin = LinearRegression()\n",
        "model_lin.fit(features_train, target_train)\n",
        "predictions_lin = model_lin.predict(features_valid)\n",
        "result_lin = mean_absolute_error(target_valid, predictions_lin)\n",
        "print(\"Результат модели линейной регрессии =: {:.2f}\".format(result_lin))"
      ]
    },
    {
      "cell_type": "code",
      "execution_count": null,
      "metadata": {
        "id": "rEmgWhnlFH6K",
        "outputId": "66744f5f-ddd9-40a3-9387-268207c47a75"
      },
      "outputs": [
        {
          "name": "stdout",
          "output_type": "stream",
          "text": [
            "Лучший результат дерева решений = : 7.19 Глубина дерева: 4\n"
          ]
        }
      ],
      "source": [
        "best_model_tree = None\n",
        "best_result_tree = 1000\n",
        "best_depth_tree = 0\n",
        "\n",
        "for depth in range(1, 20):\n",
        "    model_tree = DecisionTreeRegressor(random_state=12345, max_depth = depth)\n",
        "    model_tree.fit(features_train, target_train)\n",
        "    predictions_tree = model_tree.predict(features_valid)\n",
        "    result_tree = mean_absolute_error(target_valid, predictions_tree)\n",
        "    if result_tree < best_result_tree:\n",
        "        best_model_tree = model_tree\n",
        "        best_result_tree = result_tree\n",
        "        best_depth_tree = depth\n",
        "        \n",
        "print(\"Лучший результат дерева решений = : {:.2f}\".format(best_result_tree),\n",
        "      \"Глубина дерева:\", best_depth_tree)"
      ]
    },
    {
      "cell_type": "code",
      "execution_count": null,
      "metadata": {
        "id": "t_FyXDIjFH6K",
        "outputId": "4e39885c-3f11-4ecc-db5d-10c0eff1ae41"
      },
      "outputs": [
        {
          "name": "stdout",
          "output_type": "stream",
          "text": [
            "Лучший результат модели случайного леса =: 6.78 Глубина дерева: 9 Количество деревьев: 60\n"
          ]
        }
      ],
      "source": [
        "best_model_forest = None\n",
        "best_result_forest = 1000\n",
        "best_depth_forest = 0\n",
        "best_est = 0\n",
        "\n",
        "for est in range (10, 80, 10):\n",
        "    for depth in range (1, 21, 1):\n",
        "        model_forest = RandomForestRegressor(random_state=12345, n_estimators=est, max_depth = depth)\n",
        "        model_forest.fit(features_train, target_train)\n",
        "        predictions_forest = model_forest.predict(features_valid)\n",
        "        result_forest = mean_absolute_error(target_valid, predictions_forest)\n",
        "        if result_forest < best_result_forest:\n",
        "            best_model_forest = model_forest\n",
        "            best_depth_forest = depth\n",
        "            best_result_forest = result_forest\n",
        "            best_est = est\n",
        "\n",
        "print(\"Лучший результат модели случайного леса =: {:.2f}\".format(best_result_forest), \n",
        "      \"Глубина дерева:\", best_depth_forest,\n",
        "     \"Количество деревьев:\", best_est)"
      ]
    },
    {
      "cell_type": "code",
      "execution_count": null,
      "metadata": {
        "id": "UC4i5OPCFH6K",
        "outputId": "926f3712-983a-49cd-9469-560ea111e0ed"
      },
      "outputs": [
        {
          "name": "stdout",
          "output_type": "stream",
          "text": [
            "Лучший результат модели LGBM =: 6.94 Количество деревьев =: 1 Количество листьев =: 10 learning rate =  0.1\n"
          ]
        }
      ],
      "source": [
        "best_model_lgb = None\n",
        "best_result_lgb = 1000\n",
        "best_est_lgb = 0\n",
        "best_leaves_lgb = 0\n",
        "lgb_rate = [0.01, 0.1, 0.5, 1]\n",
        "\n",
        "for leave in range(10, 50, 10):\n",
        "    for est in range(1, 15, 1):\n",
        "        for rate in range(len(lgb_rate)):\n",
        "            model_lgb = LGBMRegressor(learning_rate=lgb_rate[rate], est=est, num_leaves = leave)\n",
        "            model_lgb.fit(features_train, target_train)\n",
        "            lgb_prediction = model_lgb.predict(features_valid)\n",
        "            result_lgb = mean_absolute_error(target_valid, lgb_prediction)\n",
        "            if result_lgb < best_result_lgb:\n",
        "                best_model_lgb = model_lgb\n",
        "                best_result_lgb = result_lgb\n",
        "                best_leaves_lgb = leave\n",
        "                best_est_lgb = est\n",
        "                best_lgb_rate = lgb_rate[rate]\n",
        "\n",
        "print(\"Лучший результат модели LGBM =: {:.2f}\".format(best_result_lgb),\n",
        "     \"Количество деревьев =: {:.0f}\".format(best_est_lgb),\n",
        "     \"Количество листьев =: {:.0f}\".format(best_leaves_lgb),\n",
        "     \"learning rate = \",best_lgb_rate)"
      ]
    },
    {
      "cell_type": "code",
      "execution_count": null,
      "metadata": {
        "id": "xtsH82-JFH6K",
        "outputId": "6bcdc0a1-305a-46d8-b080-9e73ca491888"
      },
      "outputs": [
        {
          "name": "stdout",
          "output_type": "stream",
          "text": [
            "Результат модели Catboost =: 6.91 Количество итераций =: 90.00 Глубина =: 4.00 learning rate = 0.1\n"
          ]
        }
      ],
      "source": [
        "best_model_cat = None\n",
        "best_result_cat = 1000\n",
        "best_iter_cat = 0\n",
        "best_bepth_cat = 0\n",
        "cat_rate = [0.01, 0.1, 0.5, 1]\n",
        "\n",
        "for iter in range(10, 100, 10):\n",
        "    for depth in range(1, 5 ,1):\n",
        "        for rate in range(len(cat_rate)):\n",
        "            model_cat = CatBoostRegressor(learning_rate=cat_rate[rate], iterations=iter, depth=depth, silent=True)\n",
        "            model_cat.fit(features_train, target_train)\n",
        "            cat_prediction = model_cat.predict(features_valid)\n",
        "            result_cat = mean_absolute_error(target_valid, cat_prediction)\n",
        "            if result_cat < best_result_cat:\n",
        "                best_model_cat = model_cat\n",
        "                best_result_cat = result_cat\n",
        "                best_iter_cat = iter\n",
        "                best_depth_cat = depth\n",
        "                best_rate_cate = cat_rate[rate]\n",
        "\n",
        "print(\"Результат модели Catboost =: {:.2f}\".format(best_result_cat),\n",
        "     \"Количество итераций =: {:.2f}\".format(best_iter_cat),\n",
        "     \"Глубина =: {:.2f}\".format(best_depth_cat),\n",
        "     \"learning rate =\",best_rate_cate)"
      ]
    },
    {
      "cell_type": "code",
      "execution_count": null,
      "metadata": {
        "id": "iHW-qnEtFH6L"
      },
      "outputs": [],
      "source": [
        "#features_joined = pd.DataFrame(features_train)\n",
        "#target_joined = pd.DataFrame(target_train)\n",
        "\n",
        "features_joined = pd.concat([pd.DataFrame(features_train), pd.DataFrame(features_valid)])\n",
        "target_joined = pd.concat([pd.DataFrame(target_train), pd.DataFrame(target_valid)])"
      ]
    },
    {
      "cell_type": "code",
      "execution_count": null,
      "metadata": {
        "id": "GD3GxpK0FH6L",
        "outputId": "3ea647ed-7849-4af7-c42f-93361fc24c11"
      },
      "outputs": [
        {
          "name": "stderr",
          "output_type": "stream",
          "text": [
            "/opt/conda/lib/python3.7/site-packages/ipykernel_launcher.py:3: DataConversionWarning: A column-vector y was passed when a 1d array was expected. Please change the shape of y to (n_samples,), for example using ravel().\n",
            "  This is separate from the ipykernel package so we can avoid doing imports until\n"
          ]
        },
        {
          "data": {
            "text/plain": [
              "<catboost.core.CatBoostRegressor at 0x7f8a3dfecc50>"
            ]
          },
          "execution_count": 61,
          "metadata": {},
          "output_type": "execute_result"
        }
      ],
      "source": [
        "model_lin.fit(features_joined,target_joined)\n",
        "best_model_tree.fit(features_joined,target_joined)\n",
        "best_model_forest.fit(features_joined,target_joined)\n",
        "best_model_lgb.fit(features_joined,target_joined)\n",
        "best_model_cat.fit(features_joined,target_joined)"
      ]
    },
    {
      "cell_type": "code",
      "execution_count": null,
      "metadata": {
        "id": "92yA74tgFH6L"
      },
      "outputs": [],
      "source": [
        "final_predict_lin = model_lin.predict(features_test)\n",
        "final_predict_tree = best_model_tree.predict(features_test)\n",
        "final_predict_forest = best_model_forest.predict(features_test)\n",
        "final_predict_lgb = best_model_lgb.predict(features_test)\n",
        "final_predict_cat = best_model_cat.predict(features_test)\n",
        "\n",
        "final_result_lin = mean_absolute_error(target_test, final_predict_lin)\n",
        "final_result_tree = mean_absolute_error(target_test, final_predict_tree)\n",
        "final_result_forest = mean_absolute_error(target_test, final_predict_forest)\n",
        "final_result_lgb = mean_absolute_error(target_test, final_predict_lgb)\n",
        "final_result_cat = mean_absolute_error(target_test, final_predict_cat)"
      ]
    },
    {
      "cell_type": "code",
      "execution_count": null,
      "metadata": {
        "id": "RVVyXxr_FH6L"
      },
      "outputs": [],
      "source": [
        "def plot_importance(model,title):\n",
        "    feature_names = features.columns\n",
        "    importance = pd.Series(model.feature_importances_,index=feature_names)\n",
        "    importance.plot.bar(title=title)"
      ]
    },
    {
      "cell_type": "code",
      "execution_count": null,
      "metadata": {
        "id": "57HKSuflFH6L",
        "outputId": "0085641e-0d8a-4bd3-a00c-d85331ec0670"
      },
      "outputs": [
        {
          "data": {
            "text/plain": [
              "<matplotlib.axes._subplots.AxesSubplot at 0x7f8a3d3e39d0>"
            ]
          },
          "execution_count": 65,
          "metadata": {},
          "output_type": "execute_result"
        },
        {
          "data": {
            "image/png": "[encoded data removed]",
            "text/plain": [
              "<Figure size 432x288 with 1 Axes>"
            ]
          },
          "metadata": {
            "needs_background": "light"
          },
          "output_type": "display_data"
        }
      ],
      "source": [
        "#тут что то пошло не так\n",
        "feature_names = features.columns\n",
        "importance_lin = pd.DataFrame(model_lin.coef_.ravel(),index=feature_names)\n",
        "importance_lin.plot.bar(title='важность признаков линейной регрессии')"
      ]
    },
    {
      "cell_type": "code",
      "execution_count": null,
      "metadata": {
        "id": "Otd1Ey-OFH6M",
        "outputId": "6a933d7a-9fd3-4ebd-9985-840c58d09ac8"
      },
      "outputs": [
        {
          "data": {
            "image/png": "[encoded data removed]",
            "text/plain": [
              "<Figure size 432x288 with 1 Axes>"
            ]
          },
          "metadata": {
            "needs_background": "light"
          },
          "output_type": "display_data"
        }
      ],
      "source": [
        "plot_importance(best_model_tree, 'важность признаков дерева решений')"
      ]
    },
    {
      "cell_type": "code",
      "execution_count": null,
      "metadata": {
        "id": "jOBkLkAdFH6M",
        "outputId": "f6612e4d-d07b-48e5-caab-1d48f4d31ad7"
      },
      "outputs": [
        {
          "data": {
            "image/png": "[encoded data removed]",
            "text/plain": [
              "<Figure size 432x288 with 1 Axes>"
            ]
          },
          "metadata": {
            "needs_background": "light"
          },
          "output_type": "display_data"
        }
      ],
      "source": [
        "plot_importance(best_model_forest, 'важность признаков случайного леса')"
      ]
    },
    {
      "cell_type": "code",
      "execution_count": null,
      "metadata": {
        "id": "aH6BTctCFH6M",
        "outputId": "21bbda7f-e19d-42f4-9c5c-a9a033fcf750"
      },
      "outputs": [
        {
          "data": {
            "image/png": "[encoded data removed]",
            "text/plain": [
              "<Figure size 432x288 with 1 Axes>"
            ]
          },
          "metadata": {
            "needs_background": "light"
          },
          "output_type": "display_data"
        }
      ],
      "source": [
        "plot_importance(best_model_lgb, 'важность признаков модели Lightgbm')"
      ]
    },
    {
      "cell_type": "code",
      "execution_count": null,
      "metadata": {
        "id": "jYSIIKo2FH6M",
        "outputId": "d2214f9b-c929-43a3-d249-da566c898dc1"
      },
      "outputs": [
        {
          "data": {
            "image/png": "[encoded data removed]",
            "text/plain": [
              "<Figure size 432x288 with 1 Axes>"
            ]
          },
          "metadata": {
            "needs_background": "light"
          },
          "output_type": "display_data"
        }
      ],
      "source": [
        "plot_importance(best_model_cat, 'важность признаков модели Catboost')"
      ]
    },
    {
      "cell_type": "code",
      "execution_count": null,
      "metadata": {
        "id": "TOQpX-RyFH6M",
        "outputId": "578efae9-d3ba-45d1-a518-35e23bd5672c"
      },
      "outputs": [
        {
          "data": {
            "text/html": [
              "<div>\n",
              "<style scoped>\n",
              "    .dataframe tbody tr th:only-of-type {\n",
              "        vertical-align: middle;\n",
              "    }\n",
              "\n",
              "    .dataframe tbody tr th {\n",
              "        vertical-align: top;\n",
              "    }\n",
              "\n",
              "    .dataframe thead th {\n",
              "        text-align: right;\n",
              "    }\n",
              "</style>\n",
              "<table border=\"1\" class=\"dataframe\">\n",
              "  <thead>\n",
              "    <tr style=\"text-align: right;\">\n",
              "      <th></th>\n",
              "      <th>Модель</th>\n",
              "      <th>Результат MAE на валидации</th>\n",
              "      <th>Результат MAE на тесте</th>\n",
              "    </tr>\n",
              "  </thead>\n",
              "  <tbody>\n",
              "    <tr>\n",
              "      <td>0</td>\n",
              "      <td>Дерево решений</td>\n",
              "      <td>7.186853</td>\n",
              "      <td>7.039764</td>\n",
              "    </tr>\n",
              "    <tr>\n",
              "      <td>1</td>\n",
              "      <td>Случайный лес</td>\n",
              "      <td>6.783287</td>\n",
              "      <td>6.788515</td>\n",
              "    </tr>\n",
              "    <tr>\n",
              "      <td>2</td>\n",
              "      <td>Линейная регрессия</td>\n",
              "      <td>7.182347</td>\n",
              "      <td>7.252573</td>\n",
              "    </tr>\n",
              "    <tr>\n",
              "      <td>3</td>\n",
              "      <td>LightGBM</td>\n",
              "      <td>6.939003</td>\n",
              "      <td>6.767161</td>\n",
              "    </tr>\n",
              "    <tr>\n",
              "      <td>4</td>\n",
              "      <td>Catboost</td>\n",
              "      <td>6.912493</td>\n",
              "      <td>6.672825</td>\n",
              "    </tr>\n",
              "  </tbody>\n",
              "</table>\n",
              "</div>"
            ],
            "text/plain": [
              "               Модель  Результат MAE на валидации  Результат MAE на тесте\n",
              "0      Дерево решений                    7.186853                7.039764\n",
              "1       Случайный лес                    6.783287                6.788515\n",
              "2  Линейная регрессия                    7.182347                7.252573\n",
              "3            LightGBM                    6.939003                6.767161\n",
              "4            Catboost                    6.912493                6.672825"
            ]
          },
          "metadata": {},
          "output_type": "display_data"
        }
      ],
      "source": [
        "total_score = [['Дерево решений',best_result_tree, final_result_tree],\n",
        "              ['Случайный лес',best_result_forest, final_result_forest],\n",
        "              ['Линейная регрессия',result_lin, final_result_lin],\n",
        "              ['LightGBM',best_result_lgb, final_result_lgb],\n",
        "              ['Catboost',best_result_cat, final_result_cat]]\n",
        "total_score = pd.DataFrame(total_score, columns = ['Модель', 'Результат MAE на валидации', 'Результат MAE на тесте'])\n",
        "display(total_score)"
      ]
    },
    {
      "cell_type": "markdown",
      "metadata": {
        "id": "Vs52mjbcFH6N"
      },
      "source": [
        "В целом все модели справились с поставленной задачей достигнуть MAE меньше 8.7. Во всех самым важным признаком все же является активная мощность. Прослеживается какая то зависимость точности и непосредственно количества признаков которая использует модель. "
      ]
    },
    {
      "cell_type": "markdown",
      "metadata": {
        "id": "DwHI4HpHFH6N"
      },
      "source": [
        "Целевой признак: последняя измеренная температура.\n",
        "\n",
        "Метрика: MAE\n",
        "\n",
        "Критерии оценки\n",
        "\n",
        "- MAE > 8.7 — 0 sp\n",
        "- 7.6 < MAE ≤ 8.7 — 4 sp\n",
        "- 6.8 < MAE ≤ 7.6 — 4.5 sp\n",
        "- 6.3 < MAE ≤ 6.8 — 5 sp\n",
        "- 6.0 < MAE ≤ 6.3 — 5.5 sp\n",
        "- MAE ≤ 6.0 — 6 sp"
      ]
    },
    {
      "cell_type": "markdown",
      "metadata": {
        "id": "HOwpFlYCFH6N"
      },
      "source": [
        "В целом как рекомендация для дальнейшего планирования производства по выплавке - производить после включения проволочных добавок "
      ]
    },
    {
      "cell_type": "markdown",
      "metadata": {
        "id": "ytIq4ttUFH6N"
      },
      "source": [
        "1) Какие пункты плана были выполнены, а какие — нет (поясните почему)?<br>\n",
        "    - объединение датафреймов произвел по признакам без учета времени, так как нас интерисует итоговые цифры;<br>\n",
        "    - исключил часть данных по причинам недостоверности/не полноты;<br>\n",
        "    - масштабирование произведено;<br>\n",
        "    - исходя из мультиколлинеарности исключил показания двух признаков. Тут у меня встречный вопрос. Ладно, в текущей выборке эти признаки исключены, а в будущем они ведь могут понадобиться?;<br>\n",
        "    - создание моделей произведено;<br>\n",
        "    - важность признаков оценена;<br>\n",
        "    - вывод сделан.<br>        \n",
        "2) Какие трудности возникли и как вы их преодолели?<br>\n",
        "    Основная трудность заключалась в достижении итоговой метрики, достиг путем оптимизации входящих признаков.<br>\n",
        "3) Какие ключевые шаги в решении задачи выделили?<br>\n",
        "    Считаю что ключевым шагом в задании было предобработка самих данных и подготовка признаков для обучения. В целом все модели показали схожий итоговый результат.<br>\n",
        "4) Какая ваша итоговая модель и какое у неё качество?<br>\n",
        "    Итоговой моделью все же является Catboost, с лучшим итоговым результатом 6,67.<br>"
      ]
    }
  ],
  "metadata": {
    "kernelspec": {
      "display_name": "Python 3",
      "language": "python",
      "name": "python3"
    },
    "language_info": {
      "codemirror_mode": {
        "name": "ipython",
        "version": 3
      },
      "file_extension": ".py",
      "mimetype": "text/x-python",
      "name": "python",
      "nbconvert_exporter": "python",
      "pygments_lexer": "ipython3",
      "version": "3.7.8"
    },
    "toc": {
      "base_numbering": 1,
      "nav_menu": {},
      "number_sections": true,
      "sideBar": true,
      "skip_h1_title": true,
      "title_cell": "Table of Contents",
      "title_sidebar": "Contents",
      "toc_cell": false,
      "toc_position": {},
      "toc_section_display": true,
      "toc_window_display": false
    },
    "colab": {
      "name": "catboost_lightgbm_sklearn.ipynb",
      "provenance": [],
      "include_colab_link": true
    }
  },
  "nbformat": 4,
  "nbformat_minor": 0
}