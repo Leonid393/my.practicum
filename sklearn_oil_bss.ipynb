{
  "cells": [
    {
      "cell_type": "markdown",
      "metadata": {
        "id": "view-in-github",
        "colab_type": "text"
      },
      "source": [
        "<a href=\"https://colab.research.google.com/github/Leonid393/projects/blob/main/sklearn_oil_bss.ipynb\" target=\"_parent\"><img src=\"https://colab.research.google.com/assets/colab-badge.svg\" alt=\"Open In Colab\"/></a>"
      ]
    },
    {
      "cell_type": "markdown",
      "metadata": {
        "id": "ggeC6zNJP_KB"
      },
      "source": [
        "# Выбор локации для скважины"
      ]
    },
    {
      "cell_type": "markdown",
      "metadata": {
        "id": "UE3_3WlaP_KC"
      },
      "source": [
        "Допустим, вы работаете в добывающей компании «ГлавРосГосНефть». Нужно решить, где бурить новую скважину.\n",
        "\n",
        "Вам предоставлены пробы нефти в трёх регионах: в каждом 10 000 месторождений, где измерили качество нефти и объём её запасов. Постройте модель машинного обучения, которая поможет определить регион, где добыча принесёт наибольшую прибыль. Проанализируйте возможную прибыль и риски техникой *Bootstrap.*\n",
        "\n",
        "Шаги для выбора локации:\n",
        "\n",
        "- В избранном регионе ищут месторождения, для каждого определяют значения признаков;\n",
        "- Строят модель и оценивают объём запасов;\n",
        "- Выбирают месторождения с самым высокими оценками значений. Количество месторождений зависит от бюджета компании и стоимости разработки одной скважины;\n",
        "- Прибыль равна суммарной прибыли отобранных месторождений."
      ]
    },
    {
      "cell_type": "markdown",
      "metadata": {
        "id": "Qht_6IeoP_KD"
      },
      "source": [
        "## Загрузка и подготовка данных"
      ]
    },
    {
      "cell_type": "code",
      "execution_count": null,
      "metadata": {
        "id": "a7nzK7cGP_KD"
      },
      "outputs": [],
      "source": [
        "import pandas as pd\n",
        "import matplotlib.pyplot as plt\n",
        "from scipy import stats as st\n",
        "import numpy as np\n",
        "from scipy import stats\n",
        "\n",
        "from sklearn.linear_model import LinearRegression\n",
        "\n",
        "from sklearn.model_selection import train_test_split\n",
        "from sklearn.preprocessing import StandardScaler\n",
        "from sklearn.utils import shuffle\n",
        "\n",
        "from sklearn.metrics import mean_squared_error"
      ]
    },
    {
      "cell_type": "code",
      "execution_count": null,
      "metadata": {
        "id": "Y14Ix9IcP_KE"
      },
      "outputs": [],
      "source": [
        "df1 = pd.read_csv('/datasets/geo_data_0.csv')\n",
        "df2 = pd.read_csv('/datasets/geo_data_1.csv')\n",
        "df3 = pd.read_csv('/datasets/geo_data_2.csv')"
      ]
    },
    {
      "cell_type": "code",
      "execution_count": null,
      "metadata": {
        "id": "egx97RV6P_KE",
        "outputId": "7fe63659-b0d1-4538-afde-df83ea73f53d"
      },
      "outputs": [
        {
          "name": "stdout",
          "output_type": "stream",
          "text": [
            "<class 'pandas.core.frame.DataFrame'>\n",
            "RangeIndex: 100000 entries, 0 to 99999\n",
            "Data columns (total 5 columns):\n",
            "id         100000 non-null object\n",
            "f0         100000 non-null float64\n",
            "f1         100000 non-null float64\n",
            "f2         100000 non-null float64\n",
            "product    100000 non-null float64\n",
            "dtypes: float64(4), object(1)\n",
            "memory usage: 3.8+ MB\n"
          ]
        },
        {
          "data": {
            "text/plain": [
              "None"
            ]
          },
          "metadata": {},
          "output_type": "display_data"
        },
        {
          "data": {
            "text/html": [
              "<div>\n",
              "<style scoped>\n",
              "    .dataframe tbody tr th:only-of-type {\n",
              "        vertical-align: middle;\n",
              "    }\n",
              "\n",
              "    .dataframe tbody tr th {\n",
              "        vertical-align: top;\n",
              "    }\n",
              "\n",
              "    .dataframe thead th {\n",
              "        text-align: right;\n",
              "    }\n",
              "</style>\n",
              "<table border=\"1\" class=\"dataframe\">\n",
              "  <thead>\n",
              "    <tr style=\"text-align: right;\">\n",
              "      <th></th>\n",
              "      <th>id</th>\n",
              "      <th>f0</th>\n",
              "      <th>f1</th>\n",
              "      <th>f2</th>\n",
              "      <th>product</th>\n",
              "    </tr>\n",
              "  </thead>\n",
              "  <tbody>\n",
              "    <tr>\n",
              "      <td>0</td>\n",
              "      <td>txEyH</td>\n",
              "      <td>0.705745</td>\n",
              "      <td>-0.497823</td>\n",
              "      <td>1.221170</td>\n",
              "      <td>105.280062</td>\n",
              "    </tr>\n",
              "    <tr>\n",
              "      <td>1</td>\n",
              "      <td>2acmU</td>\n",
              "      <td>1.334711</td>\n",
              "      <td>-0.340164</td>\n",
              "      <td>4.365080</td>\n",
              "      <td>73.037750</td>\n",
              "    </tr>\n",
              "    <tr>\n",
              "      <td>2</td>\n",
              "      <td>409Wp</td>\n",
              "      <td>1.022732</td>\n",
              "      <td>0.151990</td>\n",
              "      <td>1.419926</td>\n",
              "      <td>85.265647</td>\n",
              "    </tr>\n",
              "    <tr>\n",
              "      <td>3</td>\n",
              "      <td>iJLyR</td>\n",
              "      <td>-0.032172</td>\n",
              "      <td>0.139033</td>\n",
              "      <td>2.978566</td>\n",
              "      <td>168.620776</td>\n",
              "    </tr>\n",
              "    <tr>\n",
              "      <td>4</td>\n",
              "      <td>Xdl7t</td>\n",
              "      <td>1.988431</td>\n",
              "      <td>0.155413</td>\n",
              "      <td>4.751769</td>\n",
              "      <td>154.036647</td>\n",
              "    </tr>\n",
              "  </tbody>\n",
              "</table>\n",
              "</div>"
            ],
            "text/plain": [
              "      id        f0        f1        f2     product\n",
              "0  txEyH  0.705745 -0.497823  1.221170  105.280062\n",
              "1  2acmU  1.334711 -0.340164  4.365080   73.037750\n",
              "2  409Wp  1.022732  0.151990  1.419926   85.265647\n",
              "3  iJLyR -0.032172  0.139033  2.978566  168.620776\n",
              "4  Xdl7t  1.988431  0.155413  4.751769  154.036647"
            ]
          },
          "metadata": {},
          "output_type": "display_data"
        },
        {
          "name": "stdout",
          "output_type": "stream",
          "text": [
            "<class 'pandas.core.frame.DataFrame'>\n",
            "RangeIndex: 100000 entries, 0 to 99999\n",
            "Data columns (total 5 columns):\n",
            "id         100000 non-null object\n",
            "f0         100000 non-null float64\n",
            "f1         100000 non-null float64\n",
            "f2         100000 non-null float64\n",
            "product    100000 non-null float64\n",
            "dtypes: float64(4), object(1)\n",
            "memory usage: 3.8+ MB\n"
          ]
        },
        {
          "data": {
            "text/plain": [
              "None"
            ]
          },
          "metadata": {},
          "output_type": "display_data"
        },
        {
          "data": {
            "text/html": [
              "<div>\n",
              "<style scoped>\n",
              "    .dataframe tbody tr th:only-of-type {\n",
              "        vertical-align: middle;\n",
              "    }\n",
              "\n",
              "    .dataframe tbody tr th {\n",
              "        vertical-align: top;\n",
              "    }\n",
              "\n",
              "    .dataframe thead th {\n",
              "        text-align: right;\n",
              "    }\n",
              "</style>\n",
              "<table border=\"1\" class=\"dataframe\">\n",
              "  <thead>\n",
              "    <tr style=\"text-align: right;\">\n",
              "      <th></th>\n",
              "      <th>id</th>\n",
              "      <th>f0</th>\n",
              "      <th>f1</th>\n",
              "      <th>f2</th>\n",
              "      <th>product</th>\n",
              "    </tr>\n",
              "  </thead>\n",
              "  <tbody>\n",
              "    <tr>\n",
              "      <td>0</td>\n",
              "      <td>kBEdx</td>\n",
              "      <td>-15.001348</td>\n",
              "      <td>-8.276000</td>\n",
              "      <td>-0.005876</td>\n",
              "      <td>3.179103</td>\n",
              "    </tr>\n",
              "    <tr>\n",
              "      <td>1</td>\n",
              "      <td>62mP7</td>\n",
              "      <td>14.272088</td>\n",
              "      <td>-3.475083</td>\n",
              "      <td>0.999183</td>\n",
              "      <td>26.953261</td>\n",
              "    </tr>\n",
              "    <tr>\n",
              "      <td>2</td>\n",
              "      <td>vyE1P</td>\n",
              "      <td>6.263187</td>\n",
              "      <td>-5.948386</td>\n",
              "      <td>5.001160</td>\n",
              "      <td>134.766305</td>\n",
              "    </tr>\n",
              "    <tr>\n",
              "      <td>3</td>\n",
              "      <td>KcrkZ</td>\n",
              "      <td>-13.081196</td>\n",
              "      <td>-11.506057</td>\n",
              "      <td>4.999415</td>\n",
              "      <td>137.945408</td>\n",
              "    </tr>\n",
              "    <tr>\n",
              "      <td>4</td>\n",
              "      <td>AHL4O</td>\n",
              "      <td>12.702195</td>\n",
              "      <td>-8.147433</td>\n",
              "      <td>5.004363</td>\n",
              "      <td>134.766305</td>\n",
              "    </tr>\n",
              "  </tbody>\n",
              "</table>\n",
              "</div>"
            ],
            "text/plain": [
              "      id         f0         f1        f2     product\n",
              "0  kBEdx -15.001348  -8.276000 -0.005876    3.179103\n",
              "1  62mP7  14.272088  -3.475083  0.999183   26.953261\n",
              "2  vyE1P   6.263187  -5.948386  5.001160  134.766305\n",
              "3  KcrkZ -13.081196 -11.506057  4.999415  137.945408\n",
              "4  AHL4O  12.702195  -8.147433  5.004363  134.766305"
            ]
          },
          "metadata": {},
          "output_type": "display_data"
        },
        {
          "name": "stdout",
          "output_type": "stream",
          "text": [
            "<class 'pandas.core.frame.DataFrame'>\n",
            "RangeIndex: 100000 entries, 0 to 99999\n",
            "Data columns (total 5 columns):\n",
            "id         100000 non-null object\n",
            "f0         100000 non-null float64\n",
            "f1         100000 non-null float64\n",
            "f2         100000 non-null float64\n",
            "product    100000 non-null float64\n",
            "dtypes: float64(4), object(1)\n",
            "memory usage: 3.8+ MB\n"
          ]
        },
        {
          "data": {
            "text/plain": [
              "None"
            ]
          },
          "metadata": {},
          "output_type": "display_data"
        },
        {
          "data": {
            "text/html": [
              "<div>\n",
              "<style scoped>\n",
              "    .dataframe tbody tr th:only-of-type {\n",
              "        vertical-align: middle;\n",
              "    }\n",
              "\n",
              "    .dataframe tbody tr th {\n",
              "        vertical-align: top;\n",
              "    }\n",
              "\n",
              "    .dataframe thead th {\n",
              "        text-align: right;\n",
              "    }\n",
              "</style>\n",
              "<table border=\"1\" class=\"dataframe\">\n",
              "  <thead>\n",
              "    <tr style=\"text-align: right;\">\n",
              "      <th></th>\n",
              "      <th>id</th>\n",
              "      <th>f0</th>\n",
              "      <th>f1</th>\n",
              "      <th>f2</th>\n",
              "      <th>product</th>\n",
              "    </tr>\n",
              "  </thead>\n",
              "  <tbody>\n",
              "    <tr>\n",
              "      <td>0</td>\n",
              "      <td>fwXo0</td>\n",
              "      <td>-1.146987</td>\n",
              "      <td>0.963328</td>\n",
              "      <td>-0.828965</td>\n",
              "      <td>27.758673</td>\n",
              "    </tr>\n",
              "    <tr>\n",
              "      <td>1</td>\n",
              "      <td>WJtFt</td>\n",
              "      <td>0.262778</td>\n",
              "      <td>0.269839</td>\n",
              "      <td>-2.530187</td>\n",
              "      <td>56.069697</td>\n",
              "    </tr>\n",
              "    <tr>\n",
              "      <td>2</td>\n",
              "      <td>ovLUW</td>\n",
              "      <td>0.194587</td>\n",
              "      <td>0.289035</td>\n",
              "      <td>-5.586433</td>\n",
              "      <td>62.871910</td>\n",
              "    </tr>\n",
              "    <tr>\n",
              "      <td>3</td>\n",
              "      <td>q6cA6</td>\n",
              "      <td>2.236060</td>\n",
              "      <td>-0.553760</td>\n",
              "      <td>0.930038</td>\n",
              "      <td>114.572842</td>\n",
              "    </tr>\n",
              "    <tr>\n",
              "      <td>4</td>\n",
              "      <td>WPMUX</td>\n",
              "      <td>-0.515993</td>\n",
              "      <td>1.716266</td>\n",
              "      <td>5.899011</td>\n",
              "      <td>149.600746</td>\n",
              "    </tr>\n",
              "  </tbody>\n",
              "</table>\n",
              "</div>"
            ],
            "text/plain": [
              "      id        f0        f1        f2     product\n",
              "0  fwXo0 -1.146987  0.963328 -0.828965   27.758673\n",
              "1  WJtFt  0.262778  0.269839 -2.530187   56.069697\n",
              "2  ovLUW  0.194587  0.289035 -5.586433   62.871910\n",
              "3  q6cA6  2.236060 -0.553760  0.930038  114.572842\n",
              "4  WPMUX -0.515993  1.716266  5.899011  149.600746"
            ]
          },
          "metadata": {},
          "output_type": "display_data"
        }
      ],
      "source": [
        "display(df1.info())\n",
        "display(df1.head())\n",
        "display(df2.info())\n",
        "display(df2.head())\n",
        "display(df3.info())\n",
        "display(df3.head())"
      ]
    },
    {
      "cell_type": "markdown",
      "metadata": {
        "id": "u7hNipUqP_KF"
      },
      "source": [
        "Имеем три датасета по данным геологоразведки с ID, параметрами f0, f1, f2 и целевым признаком product. Датафреймы не имеют пропусков и некорректных типов данных по столбцам. Все ок."
      ]
    },
    {
      "cell_type": "code",
      "execution_count": null,
      "metadata": {
        "id": "oMcRNhRtP_KF",
        "outputId": "49b25833-3c9b-45ce-fdc4-0b1932b79772"
      },
      "outputs": [
        {
          "data": {
            "text/html": [
              "<div>\n",
              "<style scoped>\n",
              "    .dataframe tbody tr th:only-of-type {\n",
              "        vertical-align: middle;\n",
              "    }\n",
              "\n",
              "    .dataframe tbody tr th {\n",
              "        vertical-align: top;\n",
              "    }\n",
              "\n",
              "    .dataframe thead th {\n",
              "        text-align: right;\n",
              "    }\n",
              "</style>\n",
              "<table border=\"1\" class=\"dataframe\">\n",
              "  <thead>\n",
              "    <tr style=\"text-align: right;\">\n",
              "      <th></th>\n",
              "      <th>f0</th>\n",
              "      <th>f1</th>\n",
              "      <th>f2</th>\n",
              "      <th>product</th>\n",
              "    </tr>\n",
              "  </thead>\n",
              "  <tbody>\n",
              "    <tr>\n",
              "      <td>count</td>\n",
              "      <td>100000.000000</td>\n",
              "      <td>100000.000000</td>\n",
              "      <td>100000.000000</td>\n",
              "      <td>100000.000000</td>\n",
              "    </tr>\n",
              "    <tr>\n",
              "      <td>mean</td>\n",
              "      <td>0.500419</td>\n",
              "      <td>0.250143</td>\n",
              "      <td>2.502647</td>\n",
              "      <td>92.500000</td>\n",
              "    </tr>\n",
              "    <tr>\n",
              "      <td>std</td>\n",
              "      <td>0.871832</td>\n",
              "      <td>0.504433</td>\n",
              "      <td>3.248248</td>\n",
              "      <td>44.288691</td>\n",
              "    </tr>\n",
              "    <tr>\n",
              "      <td>min</td>\n",
              "      <td>-1.408605</td>\n",
              "      <td>-0.848218</td>\n",
              "      <td>-12.088328</td>\n",
              "      <td>0.000000</td>\n",
              "    </tr>\n",
              "    <tr>\n",
              "      <td>25%</td>\n",
              "      <td>-0.072580</td>\n",
              "      <td>-0.200881</td>\n",
              "      <td>0.287748</td>\n",
              "      <td>56.497507</td>\n",
              "    </tr>\n",
              "    <tr>\n",
              "      <td>50%</td>\n",
              "      <td>0.502360</td>\n",
              "      <td>0.250252</td>\n",
              "      <td>2.515969</td>\n",
              "      <td>91.849972</td>\n",
              "    </tr>\n",
              "    <tr>\n",
              "      <td>75%</td>\n",
              "      <td>1.073581</td>\n",
              "      <td>0.700646</td>\n",
              "      <td>4.715088</td>\n",
              "      <td>128.564089</td>\n",
              "    </tr>\n",
              "    <tr>\n",
              "      <td>max</td>\n",
              "      <td>2.362331</td>\n",
              "      <td>1.343769</td>\n",
              "      <td>16.003790</td>\n",
              "      <td>185.364347</td>\n",
              "    </tr>\n",
              "  </tbody>\n",
              "</table>\n",
              "</div>"
            ],
            "text/plain": [
              "                  f0             f1             f2        product\n",
              "count  100000.000000  100000.000000  100000.000000  100000.000000\n",
              "mean        0.500419       0.250143       2.502647      92.500000\n",
              "std         0.871832       0.504433       3.248248      44.288691\n",
              "min        -1.408605      -0.848218     -12.088328       0.000000\n",
              "25%        -0.072580      -0.200881       0.287748      56.497507\n",
              "50%         0.502360       0.250252       2.515969      91.849972\n",
              "75%         1.073581       0.700646       4.715088     128.564089\n",
              "max         2.362331       1.343769      16.003790     185.364347"
            ]
          },
          "metadata": {},
          "output_type": "display_data"
        },
        {
          "data": {
            "image/png": "[encoded data removed]",
            "text/plain": [
              "<Figure size 432x288 with 1 Axes>"
            ]
          },
          "metadata": {
            "needs_background": "light"
          },
          "output_type": "display_data"
        }
      ],
      "source": [
        "display(df1.describe())\n",
        "df1.plot(y='product', kind='hist', alpha = 0.5, title = 'Разброс данных по параметрам product для первого региона')\n",
        "plt.show()"
      ]
    },
    {
      "cell_type": "code",
      "execution_count": null,
      "metadata": {
        "id": "DAdz0vNeP_KG",
        "outputId": "6fcae450-dbc9-4f26-b8d4-d768152fbf18"
      },
      "outputs": [
        {
          "data": {
            "text/html": [
              "<div>\n",
              "<style scoped>\n",
              "    .dataframe tbody tr th:only-of-type {\n",
              "        vertical-align: middle;\n",
              "    }\n",
              "\n",
              "    .dataframe tbody tr th {\n",
              "        vertical-align: top;\n",
              "    }\n",
              "\n",
              "    .dataframe thead th {\n",
              "        text-align: right;\n",
              "    }\n",
              "</style>\n",
              "<table border=\"1\" class=\"dataframe\">\n",
              "  <thead>\n",
              "    <tr style=\"text-align: right;\">\n",
              "      <th></th>\n",
              "      <th>f0</th>\n",
              "      <th>f1</th>\n",
              "      <th>f2</th>\n",
              "      <th>product</th>\n",
              "    </tr>\n",
              "  </thead>\n",
              "  <tbody>\n",
              "    <tr>\n",
              "      <td>count</td>\n",
              "      <td>100000.000000</td>\n",
              "      <td>100000.000000</td>\n",
              "      <td>100000.000000</td>\n",
              "      <td>100000.000000</td>\n",
              "    </tr>\n",
              "    <tr>\n",
              "      <td>mean</td>\n",
              "      <td>1.141296</td>\n",
              "      <td>-4.796579</td>\n",
              "      <td>2.494541</td>\n",
              "      <td>68.825000</td>\n",
              "    </tr>\n",
              "    <tr>\n",
              "      <td>std</td>\n",
              "      <td>8.965932</td>\n",
              "      <td>5.119872</td>\n",
              "      <td>1.703572</td>\n",
              "      <td>45.944423</td>\n",
              "    </tr>\n",
              "    <tr>\n",
              "      <td>min</td>\n",
              "      <td>-31.609576</td>\n",
              "      <td>-26.358598</td>\n",
              "      <td>-0.018144</td>\n",
              "      <td>0.000000</td>\n",
              "    </tr>\n",
              "    <tr>\n",
              "      <td>25%</td>\n",
              "      <td>-6.298551</td>\n",
              "      <td>-8.267985</td>\n",
              "      <td>1.000021</td>\n",
              "      <td>26.953261</td>\n",
              "    </tr>\n",
              "    <tr>\n",
              "      <td>50%</td>\n",
              "      <td>1.153055</td>\n",
              "      <td>-4.813172</td>\n",
              "      <td>2.011479</td>\n",
              "      <td>57.085625</td>\n",
              "    </tr>\n",
              "    <tr>\n",
              "      <td>75%</td>\n",
              "      <td>8.621015</td>\n",
              "      <td>-1.332816</td>\n",
              "      <td>3.999904</td>\n",
              "      <td>107.813044</td>\n",
              "    </tr>\n",
              "    <tr>\n",
              "      <td>max</td>\n",
              "      <td>29.421755</td>\n",
              "      <td>18.734063</td>\n",
              "      <td>5.019721</td>\n",
              "      <td>137.945408</td>\n",
              "    </tr>\n",
              "  </tbody>\n",
              "</table>\n",
              "</div>"
            ],
            "text/plain": [
              "                  f0             f1             f2        product\n",
              "count  100000.000000  100000.000000  100000.000000  100000.000000\n",
              "mean        1.141296      -4.796579       2.494541      68.825000\n",
              "std         8.965932       5.119872       1.703572      45.944423\n",
              "min       -31.609576     -26.358598      -0.018144       0.000000\n",
              "25%        -6.298551      -8.267985       1.000021      26.953261\n",
              "50%         1.153055      -4.813172       2.011479      57.085625\n",
              "75%         8.621015      -1.332816       3.999904     107.813044\n",
              "max        29.421755      18.734063       5.019721     137.945408"
            ]
          },
          "metadata": {},
          "output_type": "display_data"
        },
        {
          "data": {
            "image/png": "[encoded data removed]",
            "text/plain": [
              "<Figure size 432x288 with 1 Axes>"
            ]
          },
          "metadata": {
            "needs_background": "light"
          },
          "output_type": "display_data"
        }
      ],
      "source": [
        "display(df2.describe())\n",
        "df2.plot(y='product', kind='hist', alpha = 0.5, title = 'Разброс данных по параметрам product для второго региона')\n",
        "plt.show()"
      ]
    },
    {
      "cell_type": "code",
      "execution_count": null,
      "metadata": {
        "id": "CiCRi12wP_KH",
        "outputId": "479e4247-7b38-49cf-84d1-63de55b25532"
      },
      "outputs": [
        {
          "data": {
            "text/html": [
              "<div>\n",
              "<style scoped>\n",
              "    .dataframe tbody tr th:only-of-type {\n",
              "        vertical-align: middle;\n",
              "    }\n",
              "\n",
              "    .dataframe tbody tr th {\n",
              "        vertical-align: top;\n",
              "    }\n",
              "\n",
              "    .dataframe thead th {\n",
              "        text-align: right;\n",
              "    }\n",
              "</style>\n",
              "<table border=\"1\" class=\"dataframe\">\n",
              "  <thead>\n",
              "    <tr style=\"text-align: right;\">\n",
              "      <th></th>\n",
              "      <th>f0</th>\n",
              "      <th>f1</th>\n",
              "      <th>f2</th>\n",
              "      <th>product</th>\n",
              "    </tr>\n",
              "  </thead>\n",
              "  <tbody>\n",
              "    <tr>\n",
              "      <td>count</td>\n",
              "      <td>100000.000000</td>\n",
              "      <td>100000.000000</td>\n",
              "      <td>100000.000000</td>\n",
              "      <td>100000.000000</td>\n",
              "    </tr>\n",
              "    <tr>\n",
              "      <td>mean</td>\n",
              "      <td>0.002023</td>\n",
              "      <td>-0.002081</td>\n",
              "      <td>2.495128</td>\n",
              "      <td>95.000000</td>\n",
              "    </tr>\n",
              "    <tr>\n",
              "      <td>std</td>\n",
              "      <td>1.732045</td>\n",
              "      <td>1.730417</td>\n",
              "      <td>3.473445</td>\n",
              "      <td>44.749921</td>\n",
              "    </tr>\n",
              "    <tr>\n",
              "      <td>min</td>\n",
              "      <td>-8.760004</td>\n",
              "      <td>-7.084020</td>\n",
              "      <td>-11.970335</td>\n",
              "      <td>0.000000</td>\n",
              "    </tr>\n",
              "    <tr>\n",
              "      <td>25%</td>\n",
              "      <td>-1.162288</td>\n",
              "      <td>-1.174820</td>\n",
              "      <td>0.130359</td>\n",
              "      <td>59.450441</td>\n",
              "    </tr>\n",
              "    <tr>\n",
              "      <td>50%</td>\n",
              "      <td>0.009424</td>\n",
              "      <td>-0.009482</td>\n",
              "      <td>2.484236</td>\n",
              "      <td>94.925613</td>\n",
              "    </tr>\n",
              "    <tr>\n",
              "      <td>75%</td>\n",
              "      <td>1.158535</td>\n",
              "      <td>1.163678</td>\n",
              "      <td>4.858794</td>\n",
              "      <td>130.595027</td>\n",
              "    </tr>\n",
              "    <tr>\n",
              "      <td>max</td>\n",
              "      <td>7.238262</td>\n",
              "      <td>7.844801</td>\n",
              "      <td>16.739402</td>\n",
              "      <td>190.029838</td>\n",
              "    </tr>\n",
              "  </tbody>\n",
              "</table>\n",
              "</div>"
            ],
            "text/plain": [
              "                  f0             f1             f2        product\n",
              "count  100000.000000  100000.000000  100000.000000  100000.000000\n",
              "mean        0.002023      -0.002081       2.495128      95.000000\n",
              "std         1.732045       1.730417       3.473445      44.749921\n",
              "min        -8.760004      -7.084020     -11.970335       0.000000\n",
              "25%        -1.162288      -1.174820       0.130359      59.450441\n",
              "50%         0.009424      -0.009482       2.484236      94.925613\n",
              "75%         1.158535       1.163678       4.858794     130.595027\n",
              "max         7.238262       7.844801      16.739402     190.029838"
            ]
          },
          "metadata": {},
          "output_type": "display_data"
        },
        {
          "data": {
            "image/png": "[encoded data removed]",
            "text/plain": [
              "<Figure size 432x288 with 1 Axes>"
            ]
          },
          "metadata": {
            "needs_background": "light"
          },
          "output_type": "display_data"
        }
      ],
      "source": [
        "display(df3.describe())\n",
        "df3.plot(y='product', kind='hist', alpha = 0.5, title = 'Разброс данных по параметрам product для третьего региона')\n",
        "plt.show()"
      ]
    },
    {
      "cell_type": "markdown",
      "metadata": {
        "id": "267VEtMgP_KH"
      },
      "source": [
        "По признаку f2 разброс значений во всех трех датафреймах значительно отличается от соответствующих признаков f0 и f1.<br> Анализируем данные на наличие выбросов только по параметру 'product', поскольку по вводным параметрам признаки f0,f1,f2 не значимы для дальнейшей оценки.<br>"
      ]
    },
    {
      "cell_type": "code",
      "execution_count": null,
      "metadata": {
        "id": "JQ0YjoBiP_KH",
        "outputId": "15c98ce0-4b2e-4144-9761-73e0b80ed4ee"
      },
      "outputs": [
        {
          "name": "stdout",
          "output_type": "stream",
          "text": [
            "Количество выбросов по первому региону -  0\n"
          ]
        }
      ],
      "source": [
        "Q1_1 =  df1['product'].quantile(0.25)\n",
        "Q3_1 = df1['product'].quantile(0.75)\n",
        "IQR_1 = Q3_1 - Q1_1\n",
        "df1_clean = df1.query('@Q1_1 - 1.5*@IQR_1 < product < @Q3_1 + 1.5*@IQR_1')\n",
        "print('Количество выбросов по первому региону - ', (len(df1_clean)-len(df1)))"
      ]
    },
    {
      "cell_type": "code",
      "execution_count": null,
      "metadata": {
        "id": "K1fOt-BXP_KH",
        "outputId": "58197dd6-e6e3-4963-b37f-d2ffa2facf60"
      },
      "outputs": [
        {
          "name": "stdout",
          "output_type": "stream",
          "text": [
            "Количество выбросов по второму региону -  0\n"
          ]
        }
      ],
      "source": [
        "Q1_2 =  df2['product'].quantile(0.25)\n",
        "Q3_2 = df2['product'].quantile(0.75)\n",
        "IQR_2 = Q3_2 - Q1_2\n",
        "df2_clean = df2.query('@Q1_2 - 1.5*@IQR_2 < product < @Q3_2 + 1.5*@IQR_2')\n",
        "print('Количество выбросов по второму региону - ', len(df2_clean)-len(df2))"
      ]
    },
    {
      "cell_type": "code",
      "execution_count": null,
      "metadata": {
        "id": "Dcz0DBhIP_KH",
        "outputId": "a7cd8e1f-820d-4f70-8d27-c3c48d27f6da"
      },
      "outputs": [
        {
          "name": "stdout",
          "output_type": "stream",
          "text": [
            "Количество выбросов по третьему региону -  0\n"
          ]
        }
      ],
      "source": [
        "Q1_3 =  df3['product'].quantile(0.25)\n",
        "Q3_3 = df3['product'].quantile(0.75)\n",
        "IQR_3 = Q3_3 - Q1_3\n",
        "df3_clean = df3.query('@Q1_3 - 1.5*@IQR_3 < product < @Q3_3 + 1.5*@IQR_3')\n",
        "print('Количество выбросов по третьему региону - ', len(df3_clean)-len(df3))"
      ]
    },
    {
      "cell_type": "markdown",
      "metadata": {
        "id": "NyY_JRl7P_KI"
      },
      "source": [
        "Подсчитал количество выбросов по параметру product, как и примерно казалось из данных таблицы describe, выбросы отсутствуют."
      ]
    },
    {
      "cell_type": "code",
      "execution_count": null,
      "metadata": {
        "id": "pZ5Dh7x7P_KI",
        "outputId": "5b889f06-7661-4c92-be15-64091ef1cc0c"
      },
      "outputs": [
        {
          "name": "stdout",
          "output_type": "stream",
          "text": [
            "(100000, 5)\n",
            "(100000, 5)\n",
            "(100000, 5)\n"
          ]
        }
      ],
      "source": [
        "df1_doubl = df1.drop_duplicates()\n",
        "print(df1_doubl.shape)\n",
        "\n",
        "df2_doubl = df2.drop_duplicates()\n",
        "print(df2_doubl.shape)\n",
        "\n",
        "df3_doubl = df3.drop_duplicates()\n",
        "print(df3_doubl.shape)"
      ]
    },
    {
      "cell_type": "markdown",
      "metadata": {
        "id": "oeeCSFr7P_KJ"
      },
      "source": [
        "Дубликатов так же нет"
      ]
    },
    {
      "cell_type": "markdown",
      "metadata": {
        "id": "rAbJdF9qP_KJ"
      },
      "source": [
        "## Обучение и проверка модели"
      ]
    },
    {
      "cell_type": "markdown",
      "metadata": {
        "id": "Nz3RI8gIP_KJ"
      },
      "source": [
        "### Разбивка на обучающую и валидационные выборки"
      ]
    },
    {
      "cell_type": "code",
      "execution_count": null,
      "metadata": {
        "id": "w0ioxVg2P_KJ",
        "outputId": "a990887c-8d79-4119-e167-a4dd9570ebdd"
      },
      "outputs": [
        {
          "name": "stdout",
          "output_type": "stream",
          "text": [
            "Размер обучающей выборки - 75%\n",
            "Размер валидационной выборки - 25%\n"
          ]
        }
      ],
      "source": [
        "target_1 = df1['product']\n",
        "features_1 = df1.drop(['id', 'product'], axis=1)\n",
        "features_train_1, features_valid_1, target_train_1, target_valid_1 = train_test_split(\n",
        "    features_1, target_1, test_size=0.25, random_state=12345)\n",
        "\n",
        "print('Размер обучающей выборки - {:.0%}'.format(len(target_train_1)/len(df1)))\n",
        "print('Размер валидационной выборки - {:.0%}'.format(len(target_valid_1)/len(df1)))"
      ]
    },
    {
      "cell_type": "code",
      "execution_count": null,
      "metadata": {
        "id": "ShDgWAMmP_KK",
        "outputId": "bd310005-f5d2-4795-c27a-038f370d8bce"
      },
      "outputs": [
        {
          "name": "stdout",
          "output_type": "stream",
          "text": [
            "Размер обучающей выборки - 75%\n",
            "Размер валидационной выборки - 25%\n"
          ]
        }
      ],
      "source": [
        "target_2 = df2['product']\n",
        "features_2 = df2.drop(['id', 'product'], axis=1)\n",
        "features_train_2, features_valid_2, target_train_2, target_valid_2 = train_test_split(\n",
        "    features_2, target_2, test_size=0.25, random_state=12345)\n",
        "\n",
        "print('Размер обучающей выборки - {:.0%}'.format(len(target_train_2)/len(df2)))\n",
        "print('Размер валидационной выборки - {:.0%}'.format(len(target_valid_2)/len(df2)))"
      ]
    },
    {
      "cell_type": "code",
      "execution_count": null,
      "metadata": {
        "id": "l3kYu3zeP_KK",
        "outputId": "a796cdce-3a58-4df4-bae4-b34b7244b4e4"
      },
      "outputs": [
        {
          "name": "stdout",
          "output_type": "stream",
          "text": [
            "Размер обучающей выборки - 75%\n",
            "Размер валидационной выборки - 25%\n"
          ]
        }
      ],
      "source": [
        "target_3 = df3['product']\n",
        "features_3 = df3.drop(['id', 'product'], axis=1)\n",
        "features_train_3, features_valid_3, target_train_3, target_valid_3 = train_test_split(\n",
        "    features_3, target_3, test_size=0.25, random_state=12345)\n",
        "\n",
        "print('Размер обучающей выборки - {:.0%}'.format(len(target_train_3)/len(df3)))\n",
        "print('Размер валидационной выборки - {:.0%}'.format(len(target_valid_3)/len(df3)))"
      ]
    },
    {
      "cell_type": "markdown",
      "metadata": {
        "id": "CAQiGfdnP_KK"
      },
      "source": [
        "Масштабируем значения признаков"
      ]
    },
    {
      "cell_type": "code",
      "execution_count": null,
      "metadata": {
        "id": "JLCmIF1tP_KL",
        "outputId": "dee12f49-0843-4077-e480-fe8912e26950"
      },
      "outputs": [
        {
          "data": {
            "text/html": [
              "<div>\n",
              "<style scoped>\n",
              "    .dataframe tbody tr th:only-of-type {\n",
              "        vertical-align: middle;\n",
              "    }\n",
              "\n",
              "    .dataframe tbody tr th {\n",
              "        vertical-align: top;\n",
              "    }\n",
              "\n",
              "    .dataframe thead th {\n",
              "        text-align: right;\n",
              "    }\n",
              "</style>\n",
              "<table border=\"1\" class=\"dataframe\">\n",
              "  <thead>\n",
              "    <tr style=\"text-align: right;\">\n",
              "      <th></th>\n",
              "      <th>0</th>\n",
              "      <th>1</th>\n",
              "      <th>2</th>\n",
              "    </tr>\n",
              "  </thead>\n",
              "  <tbody>\n",
              "    <tr>\n",
              "      <td>count</td>\n",
              "      <td>25000.000000</td>\n",
              "      <td>25000.000000</td>\n",
              "      <td>25000.000000</td>\n",
              "    </tr>\n",
              "    <tr>\n",
              "      <td>mean</td>\n",
              "      <td>0.013667</td>\n",
              "      <td>0.000629</td>\n",
              "      <td>-0.004025</td>\n",
              "    </tr>\n",
              "    <tr>\n",
              "      <td>std</td>\n",
              "      <td>0.999992</td>\n",
              "      <td>1.001848</td>\n",
              "      <td>0.998251</td>\n",
              "    </tr>\n",
              "    <tr>\n",
              "      <td>min</td>\n",
              "      <td>-2.064269</td>\n",
              "      <td>-2.096946</td>\n",
              "      <td>-4.491004</td>\n",
              "    </tr>\n",
              "    <tr>\n",
              "      <td>25%</td>\n",
              "      <td>-0.645001</td>\n",
              "      <td>-0.897958</td>\n",
              "      <td>-0.692080</td>\n",
              "    </tr>\n",
              "    <tr>\n",
              "      <td>50%</td>\n",
              "      <td>0.014689</td>\n",
              "      <td>0.002940</td>\n",
              "      <td>-0.000191</td>\n",
              "    </tr>\n",
              "    <tr>\n",
              "      <td>75%</td>\n",
              "      <td>0.673651</td>\n",
              "      <td>0.895259</td>\n",
              "      <td>0.671019</td>\n",
              "    </tr>\n",
              "    <tr>\n",
              "      <td>max</td>\n",
              "      <td>2.067368</td>\n",
              "      <td>2.144367</td>\n",
              "      <td>3.849118</td>\n",
              "    </tr>\n",
              "  </tbody>\n",
              "</table>\n",
              "</div>"
            ],
            "text/plain": [
              "                  0             1             2\n",
              "count  25000.000000  25000.000000  25000.000000\n",
              "mean       0.013667      0.000629     -0.004025\n",
              "std        0.999992      1.001848      0.998251\n",
              "min       -2.064269     -2.096946     -4.491004\n",
              "25%       -0.645001     -0.897958     -0.692080\n",
              "50%        0.014689      0.002940     -0.000191\n",
              "75%        0.673651      0.895259      0.671019\n",
              "max        2.067368      2.144367      3.849118"
            ]
          },
          "metadata": {},
          "output_type": "display_data"
        }
      ],
      "source": [
        "scaler_1 = StandardScaler()\n",
        "scaler_1.fit(features_train_1)\n",
        "features_train_1 = scaler_1.transform(features_train_1)\n",
        "features_valid_1 = scaler_1.transform(features_valid_1)\n",
        "display(pd.DataFrame(features_valid_1).describe())"
      ]
    },
    {
      "cell_type": "code",
      "execution_count": null,
      "metadata": {
        "id": "cn8Qvu6XP_KL",
        "outputId": "99c1b0b0-fa34-4503-eb40-0aff8f66586e"
      },
      "outputs": [
        {
          "data": {
            "text/html": [
              "<div>\n",
              "<style scoped>\n",
              "    .dataframe tbody tr th:only-of-type {\n",
              "        vertical-align: middle;\n",
              "    }\n",
              "\n",
              "    .dataframe tbody tr th {\n",
              "        vertical-align: top;\n",
              "    }\n",
              "\n",
              "    .dataframe thead th {\n",
              "        text-align: right;\n",
              "    }\n",
              "</style>\n",
              "<table border=\"1\" class=\"dataframe\">\n",
              "  <thead>\n",
              "    <tr style=\"text-align: right;\">\n",
              "      <th></th>\n",
              "      <th>0</th>\n",
              "      <th>1</th>\n",
              "      <th>2</th>\n",
              "    </tr>\n",
              "  </thead>\n",
              "  <tbody>\n",
              "    <tr>\n",
              "      <td>count</td>\n",
              "      <td>25000.000000</td>\n",
              "      <td>25000.000000</td>\n",
              "      <td>25000.000000</td>\n",
              "    </tr>\n",
              "    <tr>\n",
              "      <td>mean</td>\n",
              "      <td>0.000633</td>\n",
              "      <td>-0.003662</td>\n",
              "      <td>-0.002833</td>\n",
              "    </tr>\n",
              "    <tr>\n",
              "      <td>std</td>\n",
              "      <td>1.000147</td>\n",
              "      <td>0.994468</td>\n",
              "      <td>1.002369</td>\n",
              "    </tr>\n",
              "    <tr>\n",
              "      <td>min</td>\n",
              "      <td>-2.886396</td>\n",
              "      <td>-3.998414</td>\n",
              "      <td>-1.476266</td>\n",
              "    </tr>\n",
              "    <tr>\n",
              "      <td>25%</td>\n",
              "      <td>-0.833219</td>\n",
              "      <td>-0.681979</td>\n",
              "      <td>-0.878589</td>\n",
              "    </tr>\n",
              "    <tr>\n",
              "      <td>50%</td>\n",
              "      <td>0.000957</td>\n",
              "      <td>-0.012260</td>\n",
              "      <td>-0.285396</td>\n",
              "    </tr>\n",
              "    <tr>\n",
              "      <td>75%</td>\n",
              "      <td>0.832089</td>\n",
              "      <td>0.668601</td>\n",
              "      <td>0.883444</td>\n",
              "    </tr>\n",
              "    <tr>\n",
              "      <td>max</td>\n",
              "      <td>2.832540</td>\n",
              "      <td>4.199206</td>\n",
              "      <td>1.482087</td>\n",
              "    </tr>\n",
              "  </tbody>\n",
              "</table>\n",
              "</div>"
            ],
            "text/plain": [
              "                  0             1             2\n",
              "count  25000.000000  25000.000000  25000.000000\n",
              "mean       0.000633     -0.003662     -0.002833\n",
              "std        1.000147      0.994468      1.002369\n",
              "min       -2.886396     -3.998414     -1.476266\n",
              "25%       -0.833219     -0.681979     -0.878589\n",
              "50%        0.000957     -0.012260     -0.285396\n",
              "75%        0.832089      0.668601      0.883444\n",
              "max        2.832540      4.199206      1.482087"
            ]
          },
          "metadata": {},
          "output_type": "display_data"
        }
      ],
      "source": [
        "scaler_2 = StandardScaler()\n",
        "scaler_2.fit(features_train_2)\n",
        "features_train_2 = scaler_2.transform(features_train_2)\n",
        "features_valid_2 = scaler_2.transform(features_valid_2)\n",
        "display(pd.DataFrame(features_valid_2).describe())"
      ]
    },
    {
      "cell_type": "code",
      "execution_count": null,
      "metadata": {
        "id": "Hwzrua0TP_KL",
        "outputId": "c1bd22a4-975e-49b2-ddb3-ce9180d3e6a0"
      },
      "outputs": [
        {
          "data": {
            "text/html": [
              "<div>\n",
              "<style scoped>\n",
              "    .dataframe tbody tr th:only-of-type {\n",
              "        vertical-align: middle;\n",
              "    }\n",
              "\n",
              "    .dataframe tbody tr th {\n",
              "        vertical-align: top;\n",
              "    }\n",
              "\n",
              "    .dataframe thead th {\n",
              "        text-align: right;\n",
              "    }\n",
              "</style>\n",
              "<table border=\"1\" class=\"dataframe\">\n",
              "  <thead>\n",
              "    <tr style=\"text-align: right;\">\n",
              "      <th></th>\n",
              "      <th>0</th>\n",
              "      <th>1</th>\n",
              "      <th>2</th>\n",
              "    </tr>\n",
              "  </thead>\n",
              "  <tbody>\n",
              "    <tr>\n",
              "      <td>count</td>\n",
              "      <td>25000.000000</td>\n",
              "      <td>25000.000000</td>\n",
              "      <td>25000.000000</td>\n",
              "    </tr>\n",
              "    <tr>\n",
              "      <td>mean</td>\n",
              "      <td>-0.005684</td>\n",
              "      <td>0.006928</td>\n",
              "      <td>-0.003670</td>\n",
              "    </tr>\n",
              "    <tr>\n",
              "      <td>std</td>\n",
              "      <td>1.000075</td>\n",
              "      <td>0.997780</td>\n",
              "      <td>1.001740</td>\n",
              "    </tr>\n",
              "    <tr>\n",
              "      <td>min</td>\n",
              "      <td>-4.153552</td>\n",
              "      <td>-3.894765</td>\n",
              "      <td>-3.930552</td>\n",
              "    </tr>\n",
              "    <tr>\n",
              "      <td>25%</td>\n",
              "      <td>-0.679216</td>\n",
              "      <td>-0.667033</td>\n",
              "      <td>-0.688796</td>\n",
              "    </tr>\n",
              "    <tr>\n",
              "      <td>50%</td>\n",
              "      <td>-0.000986</td>\n",
              "      <td>0.004229</td>\n",
              "      <td>-0.000954</td>\n",
              "    </tr>\n",
              "    <tr>\n",
              "      <td>75%</td>\n",
              "      <td>0.668079</td>\n",
              "      <td>0.675134</td>\n",
              "      <td>0.678608</td>\n",
              "    </tr>\n",
              "    <tr>\n",
              "      <td>max</td>\n",
              "      <td>3.603782</td>\n",
              "      <td>3.944356</td>\n",
              "      <td>3.577696</td>\n",
              "    </tr>\n",
              "  </tbody>\n",
              "</table>\n",
              "</div>"
            ],
            "text/plain": [
              "                  0             1             2\n",
              "count  25000.000000  25000.000000  25000.000000\n",
              "mean      -0.005684      0.006928     -0.003670\n",
              "std        1.000075      0.997780      1.001740\n",
              "min       -4.153552     -3.894765     -3.930552\n",
              "25%       -0.679216     -0.667033     -0.688796\n",
              "50%       -0.000986      0.004229     -0.000954\n",
              "75%        0.668079      0.675134      0.678608\n",
              "max        3.603782      3.944356      3.577696"
            ]
          },
          "metadata": {},
          "output_type": "display_data"
        }
      ],
      "source": [
        "scaler_3 = StandardScaler()\n",
        "scaler_3.fit(features_train_3)\n",
        "features_train_3 = scaler_3.transform(features_train_3)\n",
        "features_valid_3 = scaler_3.transform(features_valid_3)\n",
        "display(pd.DataFrame(features_valid_3).describe())"
      ]
    },
    {
      "cell_type": "markdown",
      "metadata": {
        "id": "UdwK2kt8P_KM"
      },
      "source": [
        "### Обучение моделей"
      ]
    },
    {
      "cell_type": "code",
      "execution_count": null,
      "metadata": {
        "id": "zIb5c9uLP_KM"
      },
      "outputs": [],
      "source": [
        "#model_1 = LinearRegression()\n",
        "#model_1.fit(features_train_1, target_train_1)"
      ]
    },
    {
      "cell_type": "code",
      "execution_count": null,
      "metadata": {
        "id": "wLLxxe8yP_KM"
      },
      "outputs": [],
      "source": [
        "#model_2 = LinearRegression()\n",
        "#model_2.fit(features_train_2, target_train_2)"
      ]
    },
    {
      "cell_type": "code",
      "execution_count": null,
      "metadata": {
        "id": "c_7bZCr9P_KM"
      },
      "outputs": [],
      "source": [
        "#model_3 = LinearRegression()\n",
        "#model_3.fit(features_train_3, target_train_3)"
      ]
    },
    {
      "cell_type": "markdown",
      "metadata": {
        "id": "oACNfW1QP_KM"
      },
      "source": [
        "### Предсказания моделей"
      ]
    },
    {
      "cell_type": "code",
      "execution_count": null,
      "metadata": {
        "id": "OiQ_NveqP_KM"
      },
      "outputs": [],
      "source": [
        "#predictions_1 = model_1.predict(features_valid_1)"
      ]
    },
    {
      "cell_type": "code",
      "execution_count": null,
      "metadata": {
        "id": "Ky6mRGYfP_KN"
      },
      "outputs": [],
      "source": [
        "#predictions_2 = model_2.predict(features_valid_2)"
      ]
    },
    {
      "cell_type": "code",
      "execution_count": null,
      "metadata": {
        "id": "aCwRYYlsP_KN"
      },
      "outputs": [],
      "source": [
        "#predictions_3 = model_3.predict(features_valid_3)"
      ]
    },
    {
      "cell_type": "markdown",
      "metadata": {
        "id": "mKByCRnoP_KN"
      },
      "source": [
        "### Средний запас предсказанного сырья и RMSE моделей"
      ]
    },
    {
      "cell_type": "code",
      "execution_count": null,
      "metadata": {
        "id": "lLzYREAmP_KN"
      },
      "outputs": [],
      "source": [
        "#print('Средний запас предсказанного сырья для первого регоина - {:.0F}'.format(predictions_1.mean()), 'тыс. баррелей')\n",
        "#print('Средний запас предсказанного сырья для первого регоина - {:.0F}'.format(predictions_2.mean()), 'тыс. баррелей')\n",
        "#print('Средний запас предсказанного сырья для первого регоина - {:.0F}'.format(predictions_3.mean()), 'тыс. баррелей')"
      ]
    },
    {
      "cell_type": "code",
      "execution_count": null,
      "metadata": {
        "id": "cl5Lr5XjP_KN"
      },
      "outputs": [],
      "source": [
        "#print(\"RMSE первой модели - {:.0f}\".format(mean_squared_error(target_valid_1, predictions_1)**0.5))\n",
        "#print(\"RMSE второй модели - {:.0f}\".format(mean_squared_error(target_valid_2, predictions_2)**0.5))\n",
        "#print(\"RMSE третьей модели - {:.0f}\".format(mean_squared_error(target_valid_3, predictions_3)**0.5))"
      ]
    },
    {
      "cell_type": "markdown",
      "metadata": {
        "id": "0Loqts-fP_KN"
      },
      "source": [
        "### Анализ результатов"
      ]
    },
    {
      "cell_type": "markdown",
      "metadata": {
        "id": "7Pmb4Y9iP_KO"
      },
      "source": [
        "Значения RMSE моделей можно интерпретировать как вывод о том, что в первом и третьем регионе значения product больше чем во втором и при попытке их предсказать получается бОльший разброс. О чем косвенно можно судить по величине среднего значения запасов сырья."
      ]
    },
    {
      "cell_type": "code",
      "execution_count": null,
      "metadata": {
        "id": "w7aScm5PP_KO"
      },
      "outputs": [],
      "source": [
        "def make_model(features_train, target_train, features_valid, target_valid, number):\n",
        "    model = LinearRegression()\n",
        "    model.fit(features_train, target_train)\n",
        "    predictions = model.predict(features_valid)\n",
        "    print('Средний запас предсказанного сырья для ', number,' регоина - {:.0F}'.format(predictions.mean()), 'тыс. баррелей')\n",
        "    print('RMSE ', number,' модели - {:.0f}'.format(mean_squared_error(target_valid, predictions)**0.5))\n",
        "    return model, predictions"
      ]
    },
    {
      "cell_type": "code",
      "execution_count": null,
      "metadata": {
        "id": "-I_73JFiP_KO",
        "outputId": "fd6bb44b-35f1-450f-b93a-1afeca080230"
      },
      "outputs": [
        {
          "name": "stdout",
          "output_type": "stream",
          "text": [
            "Средний запас предсказанного сырья для  1  регоина - 93 тыс. баррелей\n",
            "RMSE  1  модели - 38\n",
            "Средний запас предсказанного сырья для  2  регоина - 69 тыс. баррелей\n",
            "RMSE  2  модели - 1\n",
            "Средний запас предсказанного сырья для  3  регоина - 95 тыс. баррелей\n",
            "RMSE  3  модели - 40\n"
          ]
        }
      ],
      "source": [
        "model_1, predictions_1 = make_model(features_train_1, target_train_1, features_valid_1, target_valid_1, 1)\n",
        "model_2, predictions_2 = make_model(features_train_2, target_train_2, features_valid_2, target_valid_2, 2)\n",
        "model_3, predictions_3 = make_model(features_train_3, target_train_3, features_valid_3, target_valid_3, 3)"
      ]
    },
    {
      "cell_type": "markdown",
      "metadata": {
        "id": "t3CTFPtWP_KP"
      },
      "source": [
        "## Подготовка к расчёту прибыли"
      ]
    },
    {
      "cell_type": "markdown",
      "metadata": {
        "id": "6aTpswJUP_KP"
      },
      "source": [
        "### Расчет ключевых значений"
      ]
    },
    {
      "cell_type": "code",
      "execution_count": null,
      "metadata": {
        "id": "QDsuQlooP_KP"
      },
      "outputs": [],
      "source": [
        "REG_DRILL_DEV = 10_000_000\n",
        "BAR_PRICE = 450\n",
        "BOREHOLE_COUNT = 200"
      ]
    },
    {
      "cell_type": "markdown",
      "metadata": {
        "id": "A_zjwmzHP_KQ"
      },
      "source": [
        "### Расчет объема для безубыточной разработки новой скважины"
      ]
    },
    {
      "cell_type": "code",
      "execution_count": null,
      "metadata": {
        "id": "pZFjfGMWP_KQ",
        "outputId": "4056d06f-6308-4eee-bf02-6c2a230d8700"
      },
      "outputs": [
        {
          "name": "stdout",
          "output_type": "stream",
          "text": [
            "Минимальное значение объема запасов на одну скважину - 111.11\n",
            "Среднее значение запасов по первому региону - 92.50\n",
            "Среднее значение запасов по второму региону - 68.83\n",
            "Среднее значение запасов по третьему региону - 95.00\n"
          ]
        }
      ],
      "source": [
        "min_product_per_1 = (REG_DRILL_DEV / BAR_PRICE) / BOREHOLE_COUNT\n",
        "print('Минимальное значение объема запасов на одну скважину - {:.2F}'.format(min_product_per_1))\n",
        "print('Среднее значение запасов по первому региону - {:.2f}'.format(df1['product'].mean()))\n",
        "print('Среднее значение запасов по второму региону - {:.2f}'.format(df2['product'].mean()))\n",
        "print('Среднее значение запасов по третьему региону - {:.2f}'.format(df3['product'].mean()))"
      ]
    },
    {
      "cell_type": "markdown",
      "metadata": {
        "id": "ov1XpAYpP_KQ"
      },
      "source": [
        "### Выводы"
      ]
    },
    {
      "cell_type": "markdown",
      "metadata": {
        "id": "epeEGsPsP_KR"
      },
      "source": [
        "Среднее значение запасов по всем трем регионам ниже требуемого, что означает только то что не надо все 10000 скважин в регионе разрабатывать."
      ]
    },
    {
      "cell_type": "markdown",
      "metadata": {
        "id": "ttGYG1KwP_KR"
      },
      "source": [
        "## Расчёт прибыли и рисков "
      ]
    },
    {
      "cell_type": "markdown",
      "metadata": {
        "id": "KmR0Iu9MP_KR"
      },
      "source": [
        "### Выбор скважин с наилучшим запасом по регионам"
      ]
    },
    {
      "cell_type": "markdown",
      "metadata": {
        "id": "UANNUvGEP_KR"
      },
      "source": [
        "Если я правильно понял условие задачи - то необходимо предсказать данные в целом по региону используя созданные модели."
      ]
    },
    {
      "cell_type": "code",
      "execution_count": null,
      "metadata": {
        "id": "qSV0Iy5YP_KR"
      },
      "outputs": [],
      "source": [
        "#reg_1_predictions = model_1.predict(features_valid_1)\n",
        "#reg_2_predictions = model_2.predict(features_valid_2)\n",
        "#reg_3_predictions = model_3.predict(features_valid_3)\n",
        "\n",
        "#reg_1_predictions = pd.DataFrame(reg_1_predictions)\n",
        "#reg_1_predictions.columns = ['product']\n",
        "#\n",
        "#reg_2_predictions = pd.DataFrame(reg_2_predictions)\n",
        "#reg_2_predictions.columns = ['product']\n",
        "\n",
        "#reg_3_predictions = pd.DataFrame(reg_3_predictions)\n",
        "#reg_3_predictions.columns = ['product']"
      ]
    },
    {
      "cell_type": "markdown",
      "metadata": {
        "id": "K0Xknx2bP_KS"
      },
      "source": [
        "Выбираем топ 200 лучших"
      ]
    },
    {
      "cell_type": "code",
      "execution_count": null,
      "metadata": {
        "id": "ZdJyTG73P_KS"
      },
      "outputs": [],
      "source": [
        "#reg_1_predictions_top200 = reg_1_predictions.sort_values(by='product', ascending = False).head(200)\n",
        "#reg_2_predictions_top200 = reg_2_predictions.sort_values(by='product', ascending = False).head(200)\n",
        "#reg_3_predictions_top200 = reg_3_predictions.sort_values(by='product', ascending = False).head(200)"
      ]
    },
    {
      "cell_type": "code",
      "execution_count": null,
      "metadata": {
        "id": "mraQ5p1OP_KS"
      },
      "outputs": [],
      "source": [
        "def join_targ_pred(target, predictions):\n",
        "    target = pd.DataFrame(target)\n",
        "    target = target.reset_index()\n",
        "    predictions = pd.DataFrame(predictions).reset_index()\n",
        "    predictions.columns = ['index','predicted']\n",
        "    target['predicted'] = predictions['predicted']\n",
        "    return target"
      ]
    },
    {
      "cell_type": "code",
      "execution_count": null,
      "metadata": {
        "id": "MXU1SOqqP_KS"
      },
      "outputs": [],
      "source": [
        "#    features = shuffle(features, random_state=12345)\n",
        "#    features = pd.DataFrame(features).head(500)\n",
        "#    reg_predictions = model.predict(features)\n",
        "#    reg_predictions = pd.DataFrame(reg_predictions)\n",
        "#    reg_predictions.columns = ['product']\n",
        "#    reg_predictions_top200 = reg_predictions.sort_values(by='product', ascending = False).head(200)\n",
        "#    return reg_predictions_top200"
      ]
    },
    {
      "cell_type": "code",
      "execution_count": null,
      "metadata": {
        "id": "QgNPdPDHP_KS"
      },
      "outputs": [],
      "source": [
        "reg_1_predictions = join_targ_pred(target_valid_1, predictions_1)\n",
        "reg_2_predictions = join_targ_pred(target_valid_2, predictions_2)\n",
        "reg_3_predictions = join_targ_pred(target_valid_3, predictions_3)"
      ]
    },
    {
      "cell_type": "code",
      "execution_count": null,
      "metadata": {
        "id": "SnlmpWNfP_KS"
      },
      "outputs": [],
      "source": [
        "#target_valid_1 = pd.DataFrame(target_valid_1)\n",
        "#target_valid_1 = target_valid_1.reset_index()\n",
        "#target_valid_1.head()\n",
        "#predictions_1 = pd.DataFrame(predictions_1).reset_index()\n",
        "#predictions_1.columns = ['index','predicted']\n",
        "#predictions_1.head()"
      ]
    },
    {
      "cell_type": "code",
      "execution_count": null,
      "metadata": {
        "id": "Rda7mXwuP_KT"
      },
      "outputs": [],
      "source": [
        "#target_valid_1['predicted'] = predictions_1['predicted']\n",
        "#target_valid_1.head(100)"
      ]
    },
    {
      "cell_type": "code",
      "execution_count": null,
      "metadata": {
        "id": "neA-HFXqP_KT"
      },
      "outputs": [],
      "source": [
        "def profit_calc_top200(df):\n",
        "    df = df.sort_values(by='predicted',ascending = False).head(200)\n",
        "    total_revenue = (df['product'].sum() * BAR_PRICE * 1_000) / 1_000_000_000 - REG_DRILL_DEV / 1_000_000\n",
        "    return total_revenue"
      ]
    },
    {
      "cell_type": "code",
      "execution_count": null,
      "metadata": {
        "id": "ngbng6-PP_KT",
        "outputId": "6cab61b1-ac3b-449b-e029-5a92cd3262fc"
      },
      "outputs": [
        {
          "name": "stdout",
          "output_type": "stream",
          "text": [
            "Выручка 200 лучших скважин по первому региону - 3.32 млрд.руб.\n",
            "Выручка 200 лучших скважин по второму региону - 2.42 млрд.руб.\n",
            "Выручка 200 лучших скважин по третьему региону - 2.71 млрд.руб.\n"
          ]
        }
      ],
      "source": [
        "reg_1_profit = profit_calc_top200(reg_1_predictions)\n",
        "reg_2_profit = profit_calc_top200(reg_2_predictions)\n",
        "reg_3_profit = profit_calc_top200(reg_3_predictions)\n",
        "\n",
        "print('Выручка 200 лучших скважин по первому региону - {:.2F}'.format(reg_1_profit), 'млрд.руб.')\n",
        "print('Выручка 200 лучших скважин по второму региону - {:.2F}'.format(reg_2_profit), 'млрд.руб.')\n",
        "print('Выручка 200 лучших скважин по третьему региону - {:.2F}'.format(reg_3_profit), 'млрд.руб.')"
      ]
    },
    {
      "cell_type": "markdown",
      "metadata": {
        "id": "yfnD_8PsP_KT"
      },
      "source": [
        "## Расчет рисков и прибыли для каждого региона"
      ]
    },
    {
      "cell_type": "code",
      "execution_count": null,
      "metadata": {
        "id": "-Xa0VCLcP_KT"
      },
      "outputs": [],
      "source": [
        "#state = np.random.RandomState(12345)\n",
        "#values_1 = []\n",
        "\n",
        "#for i in range(1000):\n",
        "#    prob_subsample = reg_1_predictions_top200.sample(n=200, replace=True, random_state=state)\n",
        "#    values_1.append(profit_calc(prob_subsample))\n",
        "\n",
        "#values_1 = pd.Series(values_1)\n",
        "#print(\"Средняя прибыль по первому региону - {:.2F}\".format(values_1.mean()), 'млрд.руб')\n",
        "#print(\"95%-ый доверительный интервал для первого региона:\", st.t.interval(0.95, len(values_1)-1, values_1.mean(), values_1.sem()))"
      ]
    },
    {
      "cell_type": "code",
      "execution_count": null,
      "metadata": {
        "id": "MncKmHAkP_KU"
      },
      "outputs": [],
      "source": [
        "#values_1=pd.DataFrame(values_1)\n",
        "#values_1.columns = ['profit']"
      ]
    },
    {
      "cell_type": "code",
      "execution_count": null,
      "metadata": {
        "id": "t5W1L-EPP_KU"
      },
      "outputs": [],
      "source": [
        "#risk = values_1.query('profit < 0')\n",
        "\n",
        "#print(\"Риск убытков первого региона - {:.0%}\".format(len(risk)/len(values_1)))"
      ]
    },
    {
      "cell_type": "code",
      "execution_count": null,
      "metadata": {
        "id": "tz5r_qTWP_KU"
      },
      "outputs": [],
      "source": [
        "#print(stats.percentileofscore(values_1, 0))"
      ]
    },
    {
      "cell_type": "code",
      "execution_count": null,
      "metadata": {
        "id": "l4Rkm0HiP_KU"
      },
      "outputs": [],
      "source": [
        "#values_2 = []\n",
        "#for i in range(1000):\n",
        "#    prob_subsample = reg_2_predictions_top200.sample(n=200, replace=True, random_state=state)\n",
        "#    values_2.append(profit_calc(prob_subsample))\n",
        "#values_2 = pd.Series(values_2)\n",
        "#print(\"Средняя прибыль по второму региону - {:.2F}\".format(values_2.mean()), 'млрд.руб')\n",
        "#print(\"95%-ый доверительный интервал для второго региона:\", st.t.interval(0.95, len(values_2)-1, values_2.mean(), values_2.sem()))"
      ]
    },
    {
      "cell_type": "code",
      "execution_count": null,
      "metadata": {
        "id": "hJVCkC6sP_KU"
      },
      "outputs": [],
      "source": [
        "#values_2=pd.DataFrame(values_2)\n",
        "#values_2.columns = ['profit']"
      ]
    },
    {
      "cell_type": "code",
      "execution_count": null,
      "metadata": {
        "id": "ci7tgU-0P_KU"
      },
      "outputs": [],
      "source": [
        "#risk = values_2.query('profit < 0')\n",
        "\n",
        "#print(\"Риск убытков второго региона - {:.0%}\".format(len(risk)/len(values_1)))"
      ]
    },
    {
      "cell_type": "code",
      "execution_count": null,
      "metadata": {
        "id": "a2AH1CevP_KV"
      },
      "outputs": [],
      "source": [
        "#values_3 = []\n",
        "#for i in range(1000):\n",
        "#    prob_subsample = reg_3_predictions_top200.sample(n=200, replace=True, random_state=state)\n",
        "#    values_3.append(profit_calc(prob_subsample))\n",
        "#values_3 = pd.Series(values_3)\n",
        "#print(\"Средняя прибыль по третьему региону - {:.2F}\".format(values_3.mean()), 'млрд.руб')\n",
        "#print(\"95%-ый доверительный интервал для второго региона:\", st.t.interval(0.95, len(values_3)-1, values_3.mean(), values_3.sem()))"
      ]
    },
    {
      "cell_type": "code",
      "execution_count": null,
      "metadata": {
        "id": "l1MijRayP_KV"
      },
      "outputs": [],
      "source": [
        "#values_3=pd.DataFrame(values_3)\n",
        "#values_3.columns = ['profit']"
      ]
    },
    {
      "cell_type": "code",
      "execution_count": null,
      "metadata": {
        "id": "7ttAOO1oP_KV"
      },
      "outputs": [],
      "source": [
        "#risk = values_3.query('profit < 0')\n",
        "\n",
        "#print(\"Риск убытков третьего региона - {:.0%}\".format(len(risk)/len(values_1)))"
      ]
    },
    {
      "cell_type": "code",
      "execution_count": null,
      "metadata": {
        "id": "7HjG9P9PP_KV"
      },
      "outputs": [],
      "source": [
        "state = np.random.RandomState(12345)\n",
        "def risk_and_profit(predictions, target, number_of_reg):\n",
        "    values = []\n",
        "    target = join_targ_pred(target, predictions)\n",
        "    for i in range(1000):\n",
        "        prob_subsample = target.sample(n=500, replace=True, random_state=state)\n",
        "        values.append(profit_calc_top200(prob_subsample))\n",
        "    values = pd.Series(values)\n",
        "    print(\"Средняя прибыль по \",number_of_reg,\" региону - {:.2F}\".format(values.mean()), 'млрд.руб')\n",
        "    print(\"95%-ый доверительный интервал для \",number_of_reg,\" региона:\", values.quantile(0.025), values.quantile(0.975))\n",
        "    print(\"Риск убытков \",number_of_reg, \" региона - {:.0F}\".format(stats.percentileofscore(values, 0)),\"%\")\n",
        "    print()"
      ]
    },
    {
      "cell_type": "code",
      "execution_count": null,
      "metadata": {
        "id": "1dOLw_XTP_KW",
        "outputId": "b5293752-3adb-44da-f82d-5a1b91c29904"
      },
      "outputs": [
        {
          "name": "stdout",
          "output_type": "stream",
          "text": [
            "Средняя прибыль по  1  региону - 0.40 млрд.руб\n",
            "95%-ый доверительный интервал для  1  региона: -0.11121554589049457 0.9097669415534217\n",
            "Риск убытков  1  региона - 7 %\n",
            "\n",
            "Средняя прибыль по  2  региону - 0.46 млрд.руб\n",
            "95%-ый доверительный интервал для  2  региона: 0.07805081075174197 0.862952060263723\n",
            "Риск убытков  2  региона - 1 %\n",
            "\n",
            "Средняя прибыль по  3  региону - 0.39 млрд.руб\n",
            "95%-ый доверительный интервал для  3  региона: -0.11222762537857499 0.9345629145511639\n",
            "Риск убытков  3  региона - 6 %\n",
            "\n"
          ]
        }
      ],
      "source": [
        "risk_and_profit(predictions_1, target_valid_1, 1)\n",
        "risk_and_profit(predictions_2, target_valid_2, 2)\n",
        "risk_and_profit(predictions_3, target_valid_3, 3)"
      ]
    },
    {
      "cell_type": "markdown",
      "metadata": {
        "id": "IeATtUhbP_KX"
      },
      "source": [
        "## Вывод"
      ]
    },
    {
      "cell_type": "markdown",
      "metadata": {
        "id": "DdyvIKqwP_KX"
      },
      "source": [
        "В задании даны три датафрейма без пропусков и ошибок в типах данных. По столбцу product распределение значений соответствует нормальному и не имеет выбросов. По признакам f0,f1,f2 существует разброс данных, который подтвергся масштабированию. <br>\n",
        "По значению RMSE можно сделать вывод, что чем больше сами значения целевого признака тем выше значение ошибки. <br>\n",
        "\n",
        "Отвечая на поставленный вопрос по выбору региона: Хотя и при выборке топ200 лучших скважин побеждают первый и третий регион, все же рекомендуется выбрать именно второй регион для разработки. Т.к. мы имеем более точную модель и самое высокое значение средней выручке при бутстрэпе в 1000 раз."
      ]
    }
  ],
  "metadata": {
    "kernelspec": {
      "display_name": "Python 3",
      "language": "python",
      "name": "python3"
    },
    "language_info": {
      "codemirror_mode": {
        "name": "ipython",
        "version": 3
      },
      "file_extension": ".py",
      "mimetype": "text/x-python",
      "name": "python",
      "nbconvert_exporter": "python",
      "pygments_lexer": "ipython3",
      "version": "3.7.8"
    },
    "toc": {
      "base_numbering": 1,
      "nav_menu": {
        "height": "317px",
        "width": "278px"
      },
      "number_sections": true,
      "sideBar": true,
      "skip_h1_title": true,
      "title_cell": "Table of Contents",
      "title_sidebar": "Contents",
      "toc_cell": false,
      "toc_position": {},
      "toc_section_display": true,
      "toc_window_display": false
    },
    "colab": {
      "name": "sklearn_oil_bss.ipynb",
      "provenance": [],
      "include_colab_link": true
    }
  },
  "nbformat": 4,
  "nbformat_minor": 0
}