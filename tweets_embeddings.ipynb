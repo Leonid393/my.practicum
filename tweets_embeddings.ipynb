{
  "cells": [
    {
      "cell_type": "markdown",
      "metadata": {
        "id": "view-in-github",
        "colab_type": "text"
      },
      "source": [
        "<a href=\"https://colab.research.google.com/github/Leonid393/projects/blob/main/tweets_embeddings.ipynb\" target=\"_parent\"><img src=\"https://colab.research.google.com/assets/colab-badge.svg\" alt=\"Open In Colab\"/></a>"
      ]
    },
    {
      "cell_type": "markdown",
      "metadata": {
        "deletable": false,
        "editable": false,
        "tags": [
          "045a5103-bb0f-4fb7-835a-238e053b2157"
        ],
        "id": "VNtDOCjyFuQ6"
      },
      "source": [
        "# Классификация на эмбеддингах"
      ]
    },
    {
      "cell_type": "code",
      "execution_count": null,
      "metadata": {
        "id": "B0g46XQ2FuRB"
      },
      "outputs": [],
      "source": [
        "import numpy as np\n",
        "import pandas as pd\n",
        "import torch\n",
        "import transformers\n",
        "from tqdm import notebook\n",
        "from sklearn.linear_model import LogisticRegression\n",
        "from sklearn.model_selection import cross_val_score\n",
        "from sklearn.model_selection import train_test_split"
      ]
    },
    {
      "cell_type": "code",
      "execution_count": null,
      "metadata": {
        "id": "1QDIhl_nFuRC"
      },
      "outputs": [],
      "source": [
        "df_tweets = pd.read_csv('/datasets/tweets.csv')"
      ]
    },
    {
      "cell_type": "code",
      "execution_count": null,
      "metadata": {
        "id": "30eTjL7-FuRD",
        "outputId": "adf3ac5c-bbe8-4867-d1a7-15f3fd46c0ef"
      },
      "outputs": [
        {
          "data": {
            "text/html": [
              "<div>\n",
              "<style scoped>\n",
              "    .dataframe tbody tr th:only-of-type {\n",
              "        vertical-align: middle;\n",
              "    }\n",
              "\n",
              "    .dataframe tbody tr th {\n",
              "        vertical-align: top;\n",
              "    }\n",
              "\n",
              "    .dataframe thead th {\n",
              "        text-align: right;\n",
              "    }\n",
              "</style>\n",
              "<table border=\"1\" class=\"dataframe\">\n",
              "  <thead>\n",
              "    <tr style=\"text-align: right;\">\n",
              "      <th></th>\n",
              "      <th>text</th>\n",
              "      <th>positive</th>\n",
              "    </tr>\n",
              "  </thead>\n",
              "  <tbody>\n",
              "    <tr>\n",
              "      <td>2181</td>\n",
              "      <td>RT @Insecteced: Буклеты #лабмедиа на конференц...</td>\n",
              "      <td>1</td>\n",
              "    </tr>\n",
              "    <tr>\n",
              "      <td>2689</td>\n",
              "      <td>День просто супер:( http://t.co/crlqAuLBY6</td>\n",
              "      <td>0</td>\n",
              "    </tr>\n",
              "    <tr>\n",
              "      <td>3097</td>\n",
              "      <td>Расплакалась над танцем Алианы и её отца ( так...</td>\n",
              "      <td>0</td>\n",
              "    </tr>\n",
              "    <tr>\n",
              "      <td>2265</td>\n",
              "      <td>@Ju1ia15 @initialness я добавил, надеюсь помож...</td>\n",
              "      <td>1</td>\n",
              "    </tr>\n",
              "    <tr>\n",
              "      <td>2073</td>\n",
              "      <td>Написал киткату, пробили у курьеров информацию...</td>\n",
              "      <td>1</td>\n",
              "    </tr>\n",
              "    <tr>\n",
              "      <td>...</td>\n",
              "      <td>...</td>\n",
              "      <td>...</td>\n",
              "    </tr>\n",
              "    <tr>\n",
              "      <td>233</td>\n",
              "      <td>Буду смотреть концерн Земфиры в прямом эфире) ...</td>\n",
              "      <td>1</td>\n",
              "    </tr>\n",
              "    <tr>\n",
              "      <td>671</td>\n",
              "      <td>2 дня *О* \\nP.s нагло тырю фотки с инсты х) ht...</td>\n",
              "      <td>1</td>\n",
              "    </tr>\n",
              "    <tr>\n",
              "      <td>4183</td>\n",
              "      <td>@UFO_or_I  не печалься, Симон! Ты де позитив! ...</td>\n",
              "      <td>0</td>\n",
              "    </tr>\n",
              "    <tr>\n",
              "      <td>1330</td>\n",
              "      <td>RT @DariaClever: я теперь немного звизда\\nменя...</td>\n",
              "      <td>1</td>\n",
              "    </tr>\n",
              "    <tr>\n",
              "      <td>805</td>\n",
              "      <td>RT @Angry_warden: Катя возьми телефон, это он,...</td>\n",
              "      <td>1</td>\n",
              "    </tr>\n",
              "  </tbody>\n",
              "</table>\n",
              "<p>400 rows × 2 columns</p>\n",
              "</div>"
            ],
            "text/plain": [
              "                                                   text  positive\n",
              "2181  RT @Insecteced: Буклеты #лабмедиа на конференц...         1\n",
              "2689         День просто супер:( http://t.co/crlqAuLBY6         0\n",
              "3097  Расплакалась над танцем Алианы и её отца ( так...         0\n",
              "2265  @Ju1ia15 @initialness я добавил, надеюсь помож...         1\n",
              "2073  Написал киткату, пробили у курьеров информацию...         1\n",
              "...                                                 ...       ...\n",
              "233   Буду смотреть концерн Земфиры в прямом эфире) ...         1\n",
              "671   2 дня *О* \\nP.s нагло тырю фотки с инсты х) ht...         1\n",
              "4183  @UFO_or_I  не печалься, Симон! Ты де позитив! ...         0\n",
              "1330  RT @DariaClever: я теперь немного звизда\\nменя...         1\n",
              "805   RT @Angry_warden: Катя возьми телефон, это он,...         1\n",
              "\n",
              "[400 rows x 2 columns]"
            ]
          },
          "execution_count": 3,
          "metadata": {},
          "output_type": "execute_result"
        }
      ],
      "source": [
        "df_tweets.sample(n = 400)"
      ]
    },
    {
      "cell_type": "code",
      "execution_count": null,
      "metadata": {
        "id": "36mEDhgSFuRE"
      },
      "outputs": [],
      "source": [
        "tokenizer = transformers.BertTokenizer(\n",
        "    vocab_file='/datasets/ds_bert/vocab.txt')\n",
        "\n",
        "tokenized = df_tweets['text'].apply(\n",
        "    lambda x: tokenizer.encode(x, add_special_tokens=True))\n",
        "\n",
        "max_len = 0\n",
        "for i in tokenized.values:\n",
        "    if len(i) > max_len:\n",
        "        max_len = len(i)\n",
        "\n",
        "padded = np.array([i + [0]*(max_len - len(i)) for i in tokenized.values])\n",
        "\n",
        "attention_mask = np.where(padded != 0, 1, 0)"
      ]
    },
    {
      "cell_type": "code",
      "execution_count": null,
      "metadata": {
        "id": "e4-djP8yFuRF"
      },
      "outputs": [],
      "source": [
        "config = transformers.BertConfig.from_json_file(\n",
        "    '/datasets/ds_bert/bert_config.json')\n",
        "model = transformers.BertModel.from_pretrained(\n",
        "    '/datasets/ds_bert/rubert_model.bin', config=config)"
      ]
    },
    {
      "cell_type": "code",
      "execution_count": null,
      "metadata": {
        "id": "0PrwhfbKFuRF",
        "outputId": "b75d82c5-c4eb-4956-8444-d114ac76e2c7",
        "colab": {
          "referenced_widgets": [
            "bfebb096e82b4b4184295d3fb7a437cd"
          ]
        }
      },
      "outputs": [
        {
          "data": {
            "application/vnd.jupyter.widget-view+json": {
              "model_id": "bfebb096e82b4b4184295d3fb7a437cd",
              "version_major": 2,
              "version_minor": 0
            },
            "text/plain": [
              "HBox(children=(HTML(value=''), FloatProgress(value=0.0, max=50.0), HTML(value='')))"
            ]
          },
          "metadata": {},
          "output_type": "display_data"
        }
      ],
      "source": [
        "batch_size = 100\n",
        "embeddings = []\n",
        "for i in notebook.tqdm(range(padded.shape[0] // batch_size)):\n",
        "        batch = torch.LongTensor(padded[batch_size*i:batch_size*(i+1)]) \n",
        "        attention_mask_batch = torch.LongTensor(attention_mask[batch_size*i:batch_size*(i+1)])\n",
        "        \n",
        "        with torch.no_grad():\n",
        "            batch_embeddings = model(batch, attention_mask=attention_mask_batch)\n",
        "        \n",
        "        embeddings.append(batch_embeddings[0][:,0,:].numpy())"
      ]
    },
    {
      "cell_type": "code",
      "execution_count": null,
      "metadata": {
        "id": "Xw-1nkWWFuRG"
      },
      "outputs": [],
      "source": [
        "features = np.concatenate(embeddings)\n",
        "\n",
        "x_train, x_test = train_test_split(features, shuffle=None, test_size = 0.5)\n",
        "\n",
        "y = df_tweets['positive']\n",
        "y_trian, y_test = train_test_split(y, shuffle=None, test_size=0.5)\n",
        "\n",
        "lr = LogisticRegression(solver='liblinear').fix(x_train, y_trian)\n",
        "prediction = lr.predict(x_test)\n",
        "from sklearn.metrics import accuracy_score\n",
        "\n",
        "print(accuracy_score(y_test, prediction))\n",
        "# обучите и протестируйте модель\n",
        "# < напишите код здесь >"
      ]
    }
  ],
  "metadata": {
    "ExecuteTimeLog": [
      {
        "duration": 4502,
        "start_time": "2021-06-29T02:56:12.046Z"
      },
      {
        "duration": 29,
        "start_time": "2021-06-29T02:56:17.839Z"
      },
      {
        "duration": 1569,
        "start_time": "2021-06-29T02:56:22.266Z"
      },
      {
        "duration": 4688,
        "start_time": "2021-06-29T02:56:27.312Z"
      },
      {
        "duration": 796593,
        "start_time": "2021-06-29T02:56:49.432Z"
      },
      {
        "duration": 16,
        "start_time": "2021-06-29T03:10:22.263Z"
      },
      {
        "duration": 3,
        "start_time": "2021-06-29T03:10:23.904Z"
      },
      {
        "duration": 27,
        "start_time": "2021-06-29T03:10:24.505Z"
      },
      {
        "duration": 10,
        "start_time": "2021-06-29T03:10:25.065Z"
      },
      {
        "duration": 1579,
        "start_time": "2021-06-29T03:10:26.584Z"
      },
      {
        "duration": 3773,
        "start_time": "2021-06-29T03:10:28.976Z"
      },
      {
        "duration": 4606,
        "start_time": "2021-06-29T03:22:24.052Z"
      },
      {
        "duration": 28,
        "start_time": "2021-06-29T03:22:28.660Z"
      },
      {
        "duration": 15,
        "start_time": "2021-06-29T03:22:28.690Z"
      },
      {
        "duration": 1534,
        "start_time": "2021-06-29T03:22:28.707Z"
      },
      {
        "duration": 7906,
        "start_time": "2021-06-29T03:22:30.243Z"
      },
      {
        "duration": 1123,
        "start_time": "2021-06-29T03:50:35.886Z"
      },
      {
        "duration": 4620,
        "start_time": "2021-06-29T03:50:42.747Z"
      },
      {
        "duration": 30,
        "start_time": "2021-06-29T03:50:47.368Z"
      },
      {
        "duration": 17,
        "start_time": "2021-06-29T03:50:47.400Z"
      },
      {
        "duration": 1530,
        "start_time": "2021-06-29T03:50:47.419Z"
      },
      {
        "duration": 6251,
        "start_time": "2021-06-29T03:50:48.951Z"
      },
      {
        "duration": 4547,
        "start_time": "2021-06-29T04:17:31.832Z"
      },
      {
        "duration": 30,
        "start_time": "2021-06-29T04:17:36.381Z"
      },
      {
        "duration": 15,
        "start_time": "2021-06-29T04:17:36.413Z"
      },
      {
        "duration": 1541,
        "start_time": "2021-06-29T04:17:36.429Z"
      },
      {
        "duration": 6401,
        "start_time": "2021-06-29T04:17:37.972Z"
      },
      {
        "duration": 4626,
        "start_time": "2021-06-29T04:58:22.061Z"
      },
      {
        "duration": 28,
        "start_time": "2021-06-29T04:58:26.689Z"
      },
      {
        "duration": 14,
        "start_time": "2021-06-29T04:58:26.719Z"
      },
      {
        "duration": 1523,
        "start_time": "2021-06-29T04:58:26.734Z"
      },
      {
        "duration": 6306,
        "start_time": "2021-06-29T04:58:28.258Z"
      },
      {
        "duration": 4645,
        "start_time": "2021-06-29T05:25:39.426Z"
      },
      {
        "duration": 29,
        "start_time": "2021-06-29T05:25:44.073Z"
      },
      {
        "duration": 15,
        "start_time": "2021-06-29T05:25:44.104Z"
      },
      {
        "duration": 1553,
        "start_time": "2021-06-29T05:25:44.121Z"
      },
      {
        "duration": 6480,
        "start_time": "2021-06-29T05:25:45.675Z"
      }
    ],
    "kernelspec": {
      "display_name": "Python 3",
      "language": "python",
      "name": "python3"
    },
    "language_info": {
      "codemirror_mode": {
        "name": "ipython",
        "version": 3
      },
      "file_extension": ".py",
      "mimetype": "text/x-python",
      "name": "python",
      "nbconvert_exporter": "python",
      "pygments_lexer": "ipython3",
      "version": "3.7.8"
    },
    "toc": {
      "base_numbering": 1,
      "nav_menu": {},
      "number_sections": true,
      "sideBar": true,
      "skip_h1_title": true,
      "title_cell": "Table of Contents",
      "title_sidebar": "Contents",
      "toc_cell": false,
      "toc_position": {},
      "toc_section_display": true,
      "toc_window_display": false
    },
    "colab": {
      "name": "tweets_embeddings.ipynb",
      "provenance": [],
      "toc_visible": true,
      "include_colab_link": true
    }
  },
  "nbformat": 4,
  "nbformat_minor": 0
}