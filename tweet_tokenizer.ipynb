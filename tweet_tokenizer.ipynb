{
  "cells": [
    {
      "cell_type": "markdown",
      "metadata": {
        "id": "view-in-github",
        "colab_type": "text"
      },
      "source": [
        "<a href=\"https://colab.research.google.com/github/Leonid393/projects/blob/main/tweet_tokenizer.ipynb\" target=\"_parent\"><img src=\"https://colab.research.google.com/assets/colab-badge.svg\" alt=\"Open In Colab\"/></a>"
      ]
    },
    {
      "cell_type": "markdown",
      "metadata": {
        "deletable": false,
        "editable": false,
        "tags": [
          "90174557-ccbc-4d19-b780-5988d67a3706"
        ],
        "id": "1-ugrIljRGTl"
      },
      "source": [
        "# Предобработка твитов"
      ]
    },
    {
      "cell_type": "code",
      "execution_count": null,
      "metadata": {
        "id": "I7WUSYihRGTr"
      },
      "outputs": [],
      "source": [
        "import torch\n",
        "import transformers\n",
        "import pandas as pd\n",
        "import numpy as np"
      ]
    },
    {
      "cell_type": "code",
      "execution_count": null,
      "metadata": {
        "id": "fNsqnRM9RGTs",
        "outputId": "00c57a0f-4d01-43d0-bed0-9be91bd2dd2e"
      },
      "outputs": [
        {
          "data": {
            "text/html": [
              "<div>\n",
              "<style scoped>\n",
              "    .dataframe tbody tr th:only-of-type {\n",
              "        vertical-align: middle;\n",
              "    }\n",
              "\n",
              "    .dataframe tbody tr th {\n",
              "        vertical-align: top;\n",
              "    }\n",
              "\n",
              "    .dataframe thead th {\n",
              "        text-align: right;\n",
              "    }\n",
              "</style>\n",
              "<table border=\"1\" class=\"dataframe\">\n",
              "  <thead>\n",
              "    <tr style=\"text-align: right;\">\n",
              "      <th></th>\n",
              "      <th>text</th>\n",
              "      <th>positive</th>\n",
              "    </tr>\n",
              "  </thead>\n",
              "  <tbody>\n",
              "    <tr>\n",
              "      <td>0</td>\n",
              "      <td>@first_timee хоть я и школота, но поверь, у на...</td>\n",
              "      <td>1</td>\n",
              "    </tr>\n",
              "    <tr>\n",
              "      <td>1</td>\n",
              "      <td>Да, все-таки он немного похож на него. Но мой ...</td>\n",
              "      <td>1</td>\n",
              "    </tr>\n",
              "    <tr>\n",
              "      <td>2</td>\n",
              "      <td>RT @KatiaCheh: Ну ты идиотка) я испугалась за ...</td>\n",
              "      <td>1</td>\n",
              "    </tr>\n",
              "    <tr>\n",
              "      <td>3</td>\n",
              "      <td>RT @digger2912: \"Кто то в углу сидит и погибае...</td>\n",
              "      <td>1</td>\n",
              "    </tr>\n",
              "    <tr>\n",
              "      <td>4</td>\n",
              "      <td>@irina_dyshkant Вот что значит страшилка :D\\nН...</td>\n",
              "      <td>1</td>\n",
              "    </tr>\n",
              "  </tbody>\n",
              "</table>\n",
              "</div>"
            ],
            "text/plain": [
              "                                                text  positive\n",
              "0  @first_timee хоть я и школота, но поверь, у на...         1\n",
              "1  Да, все-таки он немного похож на него. Но мой ...         1\n",
              "2  RT @KatiaCheh: Ну ты идиотка) я испугалась за ...         1\n",
              "3  RT @digger2912: \"Кто то в углу сидит и погибае...         1\n",
              "4  @irina_dyshkant Вот что значит страшилка :D\\nН...         1"
            ]
          },
          "execution_count": 11,
          "metadata": {},
          "output_type": "execute_result"
        }
      ],
      "source": [
        "# загрузить файл с твитами\n",
        "df = pd.read_csv('/datasets/tweets.csv')\n",
        "df.shape\n",
        "df.head()"
      ]
    },
    {
      "cell_type": "code",
      "execution_count": null,
      "metadata": {
        "id": "6gYU8UAMRGTu"
      },
      "outputs": [],
      "source": [
        "# инициализируем токенизатор\n",
        "tokenizer = transformers.BertTokenizer(\n",
        "    vocab_file='/datasets/ds_bert/vocab.txt')"
      ]
    },
    {
      "cell_type": "code",
      "execution_count": null,
      "metadata": {
        "id": "HeRFXs02RGTu"
      },
      "outputs": [],
      "source": [
        "tokenized = df['text'].apply(lambda x: tokenizer.encode(x, add_special_tokens=True))"
      ]
    },
    {
      "cell_type": "code",
      "execution_count": null,
      "metadata": {
        "id": "e6j9v4jVRGTv",
        "outputId": "a8a859a2-6508-4f9b-bf57-307167620e9d"
      },
      "outputs": [
        {
          "data": {
            "text/plain": [
              "(5000,)"
            ]
          },
          "execution_count": 18,
          "metadata": {},
          "output_type": "execute_result"
        }
      ],
      "source": [
        "tokenized.shape"
      ]
    },
    {
      "cell_type": "code",
      "execution_count": null,
      "metadata": {
        "id": "ckRnxwfIRGTw"
      },
      "outputs": [],
      "source": [
        "leng = []\n",
        "for i in range(len(tokenized)):\n",
        "    leng.append(len(tokenized[i]))"
      ]
    },
    {
      "cell_type": "code",
      "execution_count": null,
      "metadata": {
        "id": "JGeTV3MgRGTw",
        "outputId": "32f5e598-523b-4f72-84e6-0e5e23334556"
      },
      "outputs": [
        {
          "data": {
            "text/plain": [
              "133"
            ]
          },
          "execution_count": 21,
          "metadata": {},
          "output_type": "execute_result"
        }
      ],
      "source": [
        "max(leng)"
      ]
    },
    {
      "cell_type": "code",
      "execution_count": null,
      "metadata": {
        "id": "TXqioW-wRGTx"
      },
      "outputs": [],
      "source": [
        "# применим padding к векторам\n",
        "n = 133"
      ]
    },
    {
      "cell_type": "code",
      "execution_count": null,
      "metadata": {
        "id": "UPvrDsOZRGTy"
      },
      "outputs": [],
      "source": [
        "# англ. вектор с отступами\n",
        "padded = []\n",
        "for i in range(len(tokenized)):\n",
        "    padded.append(tokenized[i] + [0]*(n - len(tokenized)))"
      ]
    },
    {
      "cell_type": "code",
      "execution_count": null,
      "metadata": {
        "id": "oiZPdQPRRGTy",
        "outputId": "6367895d-8992-4894-b9fb-ffc6f069bd97"
      },
      "outputs": [
        {
          "name": "stdout",
          "output_type": "stream",
          "text": [
            "1\n"
          ]
        }
      ],
      "source": [
        "# создадим маску для важных токенов\n",
        "attention_mask = np.where(padded != 0, 1, 0)\n",
        "print(attention_mask)"
      ]
    }
  ],
  "metadata": {
    "ExecuteTimeLog": [
      {
        "duration": 5120,
        "start_time": "2021-06-29T02:33:49.596Z"
      },
      {
        "duration": 3,
        "start_time": "2021-06-29T02:35:45.149Z"
      },
      {
        "duration": 161,
        "start_time": "2021-06-29T02:35:47.871Z"
      },
      {
        "duration": 3,
        "start_time": "2021-06-29T02:35:49.112Z"
      },
      {
        "duration": 3,
        "start_time": "2021-06-29T02:35:49.800Z"
      },
      {
        "duration": 3,
        "start_time": "2021-06-29T02:35:50.472Z"
      },
      {
        "duration": 3,
        "start_time": "2021-06-29T02:35:51.016Z"
      },
      {
        "duration": 215,
        "start_time": "2021-06-29T02:36:31.217Z"
      },
      {
        "duration": 37,
        "start_time": "2021-06-29T02:36:33.753Z"
      },
      {
        "duration": 181,
        "start_time": "2021-06-29T02:36:49.168Z"
      },
      {
        "duration": 33,
        "start_time": "2021-06-29T02:36:58.001Z"
      },
      {
        "duration": 185,
        "start_time": "2021-06-29T02:37:06.521Z"
      },
      {
        "duration": 196,
        "start_time": "2021-06-29T02:37:27.082Z"
      },
      {
        "duration": 210,
        "start_time": "2021-06-29T02:37:30.833Z"
      },
      {
        "duration": 1387,
        "start_time": "2021-06-29T02:40:22.539Z"
      },
      {
        "duration": 61,
        "start_time": "2021-06-29T02:41:03.173Z"
      },
      {
        "duration": 7,
        "start_time": "2021-06-29T02:41:05.189Z"
      },
      {
        "duration": 4,
        "start_time": "2021-06-29T02:41:12.557Z"
      },
      {
        "duration": 48,
        "start_time": "2021-06-29T02:42:40.390Z"
      },
      {
        "duration": 223,
        "start_time": "2021-06-29T02:42:54.775Z"
      },
      {
        "duration": 4,
        "start_time": "2021-06-29T02:43:06.807Z"
      },
      {
        "duration": 3,
        "start_time": "2021-06-29T02:44:19.440Z"
      },
      {
        "duration": 195,
        "start_time": "2021-06-29T02:44:22.616Z"
      },
      {
        "duration": 64,
        "start_time": "2021-06-29T02:45:43.473Z"
      },
      {
        "duration": 202,
        "start_time": "2021-06-29T02:45:54.306Z"
      },
      {
        "duration": 2,
        "start_time": "2021-06-29T02:46:00.098Z"
      },
      {
        "duration": 4,
        "start_time": "2021-06-29T02:46:09.634Z"
      }
    ],
    "kernelspec": {
      "display_name": "Python 3",
      "language": "python",
      "name": "python3"
    },
    "language_info": {
      "codemirror_mode": {
        "name": "ipython",
        "version": 3
      },
      "file_extension": ".py",
      "mimetype": "text/x-python",
      "name": "python",
      "nbconvert_exporter": "python",
      "pygments_lexer": "ipython3",
      "version": "3.7.8"
    },
    "toc": {
      "base_numbering": 1,
      "nav_menu": {},
      "number_sections": true,
      "sideBar": true,
      "skip_h1_title": true,
      "title_cell": "Table of Contents",
      "title_sidebar": "Contents",
      "toc_cell": false,
      "toc_position": {},
      "toc_section_display": true,
      "toc_window_display": false
    },
    "colab": {
      "name": "tweet_tokenizer.ipynb",
      "provenance": [],
      "include_colab_link": true
    }
  },
  "nbformat": 4,
  "nbformat_minor": 0
}